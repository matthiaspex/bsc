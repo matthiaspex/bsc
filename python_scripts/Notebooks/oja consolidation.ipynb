{
 "cells": [
  {
   "cell_type": "code",
   "execution_count": 53,
   "metadata": {},
   "outputs": [],
   "source": [
    "import jax\n",
    "from jax import numpy as jnp\n",
    "from typing import Union\n",
    "import pickle\n",
    "import copy\n",
    "from bsc_utils.miscellaneous import multimodal_normal_sampling\n",
    "from bsc_utils.controller.base import ExplicitMLP\n",
    "from bsc_utils.simulate.analyze import Simulator\n",
    "from bsc_utils.miscellaneous import load_config_from_yaml\n",
    "from bsc_utils.miscellaneous import complete_config_with_defaults, presynaptic_competition_rescale\n",
    "import time\n",
    "import numpy as np\n",
    "\n",
    "from mediapy import show_video\n",
    "\n",
    "from bsc_utils.visualization import post_render\n",
    "\n",
    "rng = jax.random.PRNGKey(0)"
   ]
  },
  {
   "cell_type": "code",
   "execution_count": 59,
   "metadata": {},
   "outputs": [],
   "source": [
    "### Configurables\n",
    "simulation_time = 0.6\n",
    "\n",
    "# consolidation network\n",
    "num_hidden = 4 # number of hidden layers\n",
    "nodes_hidden = 128 # number of nodes per hidden layer\n",
    "\n",
    "# Kernel initialisation\n",
    "means = [-3,3]\n",
    "stds = [1,1]\n",
    "trunc_mins = [-6,0]\n",
    "trunc_maxs = [0,6]\n",
    "\n",
    "# means = [0]\n",
    "# stds = [0.5]\n",
    "# trunc_mins = [-1]\n",
    "# trunc_maxs = [1]\n",
    "\n",
    "\n",
    "alpha = 0.1"
   ]
  },
  {
   "cell_type": "code",
   "execution_count": 60,
   "metadata": {},
   "outputs": [
    {
     "name": "stdout",
     "output_type": "stream",
     "text": [
      "(250, 50)\n",
      "(250,)\n",
      "(250, 125)\n",
      "{'params': {'layers_0': {'bias': (128,), 'kernel': (125, 128)}, 'layers_1': {'bias': (128,), 'kernel': (128, 128)}, 'layers_2': {'bias': (50,), 'kernel': (128, 50)}}}\n"
     ]
    }
   ],
   "source": [
    "with open(\"observations.pkl\", \"rb\") as file:\n",
    "    observations_all = pickle.load(file)\n",
    "observations = jnp.concatenate(\n",
    "    [observations_all[label] for label in ('joint_position', 'joint_actuator_force', 'segment_contact')],\n",
    "    axis = 1\n",
    ")\n",
    "observations = observations[0].T\n",
    "\n",
    "with open(\"nn_params_example.pkl\", \"rb\") as file:\n",
    "    nn_params_example = pickle.load(file)\n",
    "\n",
    "actions = jnp.load(\"actions.npy\")[0].T\n",
    "rewards = jnp.load(\"rewards.npy\")[0]\n",
    "\n",
    "print(actions.shape)\n",
    "print(rewards.shape)\n",
    "print(observations.shape)\n",
    "print(jax.tree.map(lambda x: x.shape, nn_params_example))"
   ]
  },
  {
   "cell_type": "code",
   "execution_count": 61,
   "metadata": {},
   "outputs": [],
   "source": [
    "# make explictMLP with way more layers and biases\n",
    "# generate fictional rollout, at the end of every rollout, you manually set the output as desired"
   ]
  },
  {
   "cell_type": "code",
   "execution_count": 62,
   "metadata": {},
   "outputs": [
    {
     "name": "stdout",
     "output_type": "stream",
     "text": [
      "[125, 128, 128, 128, 128, 50]\n"
     ]
    }
   ],
   "source": [
    "hidden_layers = []\n",
    "\n",
    "for i in range(num_hidden):\n",
    "    hidden_layers += [nodes_hidden]\n",
    "\n",
    "input_dim = nn_params_example[\"params\"][\"layers_0\"][\"kernel\"].shape[0]\n",
    "output_dim = nn_params_example[\"params\"][\"layers_2\"][\"kernel\"].shape[1]\n",
    "\n",
    "layers = [input_dim] + hidden_layers + [output_dim]\n",
    "print(layers)"
   ]
  },
  {
   "cell_type": "code",
   "execution_count": 63,
   "metadata": {},
   "outputs": [
    {
     "name": "stdout",
     "output_type": "stream",
     "text": [
      "{'params': {'layers_0': {'bias': 128, 'kernel': 16000}, 'layers_1': {'bias': 128, 'kernel': 16384}, 'layers_2': {'bias': 128, 'kernel': 16384}, 'layers_3': {'bias': 128, 'kernel': 16384}, 'layers_4': {'bias': 50, 'kernel': 6400}}}\n"
     ]
    }
   ],
   "source": [
    "cons_contr = ExplicitMLP(features = layers[1:], joint_control = \"position\")\n",
    "\n",
    "rng, rng_init = jax.random.split(rng, 2)\n",
    "cons_contr_params = cons_contr.init(rng_init, jnp.zeros(layers[0]))\n",
    "\n",
    "print(jax.tree.map(lambda x: x.size, cons_contr_params))"
   ]
  },
  {
   "cell_type": "code",
   "execution_count": 6,
   "metadata": {},
   "outputs": [],
   "source": []
  },
  {
   "cell_type": "code",
   "execution_count": 64,
   "metadata": {},
   "outputs": [],
   "source": [
    "def identical(x):\n",
    "    return x"
   ]
  },
  {
   "cell_type": "code",
   "execution_count": 65,
   "metadata": {},
   "outputs": [],
   "source": [
    "def DNN_rollout(params_dict, input, act_hidden=jnp.tanh, act_output=jnp.tanh, joint_control=\"position\"):\n",
    "    num_layers = len(params_dict[\"params\"].keys())\n",
    "    neuron_activities = [input]\n",
    "    for p in range(num_layers):\n",
    "        kernel = params_dict[\"params\"][f\"layers_{p}\"][\"kernel\"]\n",
    "        bias = params_dict[\"params\"][f\"layers_{p}\"][\"bias\"]\n",
    "        output = jnp.dot(input,kernel)\n",
    "        output = output+bias\n",
    "\n",
    "        ### !!! activity which is stored is not yet rescaled by the tanh function\n",
    "        neuron_activities.append(output)\n",
    "        if p != num_layers-1:\n",
    "            output = act_hidden(output)\n",
    "        elif p == num_layers-1:\n",
    "            assert joint_control in ['position', 'torque'], \"joint_control should be either 'position' or 'torque'\"\n",
    "            if joint_control == 'position':\n",
    "                output = 30*jnp.pi/180 * act_output(output) # the action space range for positions is -0.5236..0.5236\n",
    "            elif joint_control == 'torque':\n",
    "                output = act_output(output) # the action space range for torques is -1..1\n",
    "        \n",
    "        input = output\n",
    "    return output, neuron_activities"
   ]
  },
  {
   "cell_type": "code",
   "execution_count": 66,
   "metadata": {},
   "outputs": [],
   "source": [
    "def initialise_cons_contr_params(path, leaf):\n",
    "    rng = jax.random.PRNGKey(2000)\n",
    "    rng, rng_init = jax.random.split(rng, 2)\n",
    "    if \"kernel\" in jax.tree_util.keystr(path):\n",
    "        leaf_old = leaf\n",
    "        sample_sizes = [int(leaf_old.size/len(means)) for _ in range(len(means))]\n",
    "        values = multimodal_normal_sampling(rng,\n",
    "                                            means,\n",
    "                                            stds,\n",
    "                                            sample_sizes,\n",
    "                                            trunc_mins,\n",
    "                                            trunc_maxs)\n",
    "        leaf = jnp.reshape(values, leaf_old.shape)\n",
    "        return leaf  # Modify leaf\n",
    "    elif \"bias\" in jax.tree_util.keystr(path):\n",
    "        leaf = leaf*0\n",
    "        return leaf  # Modify leaf\n",
    "    return leaf  # Keep unchanged otherwise\n",
    "\n",
    "cons_contr_params = jax.tree_util.tree_map_with_path(initialise_cons_contr_params, cons_contr_params)\n",
    "# print(cons_contr_params)\n"
   ]
  },
  {
   "cell_type": "code",
   "execution_count": 67,
   "metadata": {},
   "outputs": [],
   "source": [
    "# def synaptic_competition(input_nodes,\n",
    "#                          output_nodes,\n",
    "#                          synapse_strengths,\n",
    "#                          learning_rate = 0.1\n",
    "#                          ):\n",
    "#     synapse_strengths = np.array(synapse_strengths)\n",
    "#     for i in range(len(output_nodes)):\n",
    "#         for j in range(len(input_nodes)):\n",
    "#             synapse_strengths[j,i] = synapse_strengths[j,i] + learning_rate * input_nodes[j] * output_nodes[i]\n",
    "\n",
    "#     return jnp.array(synapse_strengths)\n",
    "\n",
    "def apply_oja(input_nodes,\n",
    "            output_nodes,\n",
    "            synapse_strengths,\n",
    "            alpha = 0.1\n",
    "            ):\n",
    "    \n",
    "    \"\"\" \n",
    "    Input: \n",
    "    - learning rule kernel: dims (popsize, input_layer_dim, output_layer_dim, lr_dim = 5)\n",
    "    - learning_rule: only \"ABCD\" implemented so far.\n",
    "    Output: synaptic strength increment kernel: dims (popsize, input_layer_dim, output_layer_dim)\n",
    "    This function is vmapable and jittable\n",
    "    \"\"\"\n",
    "    in_dim = len(input_nodes)\n",
    "    out_dim = len(output_nodes)\n",
    "    inp = jnp.transpose(jnp.tile(input_nodes, (out_dim, 1))) # Generates (in_dim, out_dim) dimension, but constant along axis = 1 (output dimension)\n",
    "    outp = jnp.tile(output_nodes, (in_dim, 1)) # Generates (in_dim, out_dim) dimension, but constant along axis = 0 (input dimesnion)\n",
    "    # these dimensions are required for matrix multiplications\n",
    "\n",
    "    # kernel content: [alpha, A, B, C, D] --> Dw_ij = alpha_ij * (A_ij*o_i*o_j + B_ij * o_i + C_ij * o_j + D_ij)\n",
    "\n",
    "    ss_incr = alpha* inp * outp\n",
    "    return ss_incr\n",
    "\n",
    "    ss_incr = alpha * (inp*outp - synapse_strengths * outp**2) # 10*synapse_strengths*outp)\n",
    "    return ss_incr\n",
    "\n",
    "    ss_factor = jnp.exp(ss_incr)\n",
    "    return ss_factor # synaptic strength multiplication factor\n",
    "\n",
    "\n",
    "def update_synapse_strengths(\n",
    "        synapse_strengths_input,\n",
    "        neuron_activities,\n",
    "        alpha = 0.1\n",
    "):\n",
    "    synapse_strengths = copy.deepcopy(synapse_strengths_input)\n",
    "\n",
    "    num_layers = len(synapse_strengths[\"params\"].keys())\n",
    "    for p in range(num_layers):\n",
    "        input_nodes = neuron_activities[p]\n",
    "        output_nodes = neuron_activities[p+1]\n",
    "        ss = synapse_strengths[\"params\"][f\"layers_{p}\"][\"kernel\"]\n",
    "        ss_factor = apply_oja(input_nodes, output_nodes, ss, alpha = alpha)\n",
    "        # synapse_strengths[\"params\"][f\"layers_{p}\"][\"kernel\"] = synapse_strengths[\"params\"][f\"layers_{p}\"][\"kernel\"] * ss_factor\n",
    "        synapse_strengths[\"params\"][f\"layers_{p}\"][\"kernel\"] = synapse_strengths[\"params\"][f\"layers_{p}\"][\"kernel\"] + ss_factor\n",
    "        # synapse_strengths[\"params\"][f\"layers_{p}\"][\"kernel\"] = synaptic_competition(input_nodes, output_nodes, synapse_strengths=ss)\n",
    "    \n",
    "    synapse_strengths = presynaptic_competition_rescale(synapse_strengths)\n",
    "\n",
    "    return synapse_strengths\n"
   ]
  },
  {
   "cell_type": "code",
   "execution_count": 68,
   "metadata": {},
   "outputs": [
    {
     "name": "stdout",
     "output_type": "stream",
     "text": [
      "neuron_activities:  [-1.         1.        -1.        -1.        -1.        -1.\n",
      "  1.        -1.        -1.         1.         1.        -1.\n",
      "  1.        -1.        -1.         1.        -1.         1.\n",
      " -1.        -1.         1.        -1.        -1.         1.\n",
      "  1.        -1.         1.        -1.        -1.        -1.\n",
      " -1.         1.         1.        -1.        -1.         1.\n",
      " -1.        -1.        -1.         0.9999993 -1.         1.\n",
      " -1.         1.        -1.        -1.         1.        -1.\n",
      " -1.         1.         1.         1.         1.         1.\n",
      "  1.         1.         1.         1.        -1.         1.\n",
      "  1.         1.        -1.         1.         1.        -1.\n",
      "  1.         1.         1.        -1.        -1.        -1.\n",
      " -1.         1.         1.        -1.        -1.        -1.\n",
      " -1.        -1.         1.        -1.        -1.         1.\n",
      "  1.         1.         1.         1.         1.         1.\n",
      " -1.        -1.         1.        -1.         1.        -1.\n",
      " -1.         1.         1.         1.        -1.        -1.\n",
      " -1.         1.        -1.        -1.        -1.        -1.\n",
      " -1.         1.        -1.        -1.         1.        -1.\n",
      " -1.        -1.        -1.        -1.         1.        -1.\n",
      " -1.        -1.        -1.        -1.         1.        -1.\n",
      " -1.        -1.       ]\n",
      "weights:  [ 0.34742704  0.32839432  0.19147515  0.34037784  0.31358    -0.44129443\n",
      " -0.22835563]\n",
      "neuron_activities:  [-1.  1. -1. -1. -1. -1.  1. -1. -1.  1.  1. -1.  1. -1. -1.  1. -1.  1.\n",
      " -1. -1.  1. -1. -1.  1.  1. -1.  1. -1. -1. -1. -1.  1.  1. -1. -1.  1.\n",
      " -1. -1. -1.  1. -1.  1. -1.  1. -1. -1.  1. -1. -1.  1.  1.  1.  1.  1.\n",
      "  1.  1.  1.  1. -1.  1.  1.  1. -1.  1.  1. -1.  1.  1.  1. -1. -1. -1.\n",
      " -1.  1.  1. -1. -1. -1. -1. -1.  1. -1. -1.  1.  1.  1.  1.  1.  1.  1.\n",
      " -1. -1.  1. -1.  1. -1. -1.  1.  1.  1. -1. -1. -1.  1. -1. -1. -1. -1.\n",
      " -1.  1. -1. -1.  1. -1. -1. -1. -1. -1.  1. -1. -1. -1. -1. -1.  1. -1.\n",
      " -1. -1.]\n",
      "weights:  [ 0.05727025  0.05652303  0.02959916  0.05060207  0.04512426 -0.08444251\n",
      " -0.03580174]\n",
      "neuron_activities:  [-1.  1. -1. -1. -1. -1.  1. -1. -1.  1.  1. -1.  1. -1. -1.  1. -1.  1.\n",
      " -1. -1.  1. -1. -1.  1.  1. -1.  1. -1. -1. -1. -1.  1.  1. -1. -1.  1.\n",
      " -1. -1. -1.  1. -1.  1. -1.  1. -1. -1.  1. -1. -1.  1.  1.  1.  1.  1.\n",
      "  1.  1.  1.  1. -1.  1.  1.  1. -1.  1.  1. -1.  1.  1.  1. -1. -1. -1.\n",
      " -1.  1.  1. -1. -1. -1. -1. -1.  1. -1. -1.  1.  1.  1.  1.  1.  1.  1.\n",
      " -1. -1.  1. -1.  1. -1. -1.  1.  1.  1. -1. -1. -1.  1. -1. -1. -1. -1.\n",
      " -1.  1. -1. -1.  1. -1. -1. -1. -1. -1.  1. -1. -1. -1. -1. -1.  1. -1.\n",
      " -1. -1.]\n",
      "weights:  [ 0.00195521  0.01714016 -0.00216115  0.00095543  0.00014453 -0.01947062\n",
      "  0.00139855]\n",
      "neuron_activities:  [-1.  1. -1. -1. -1. -1.  1. -1. -1.  1.  1. -1.  1. -1. -1.  1. -1.  1.\n",
      " -1. -1.  1. -1. -1.  1.  1. -1.  1. -1. -1. -1. -1.  1.  1. -1. -1.  1.\n",
      " -1. -1. -1.  1. -1.  1. -1.  1. -1. -1.  1. -1. -1.  1.  1.  1.  1.  1.\n",
      "  1.  1.  1.  1. -1.  1.  1.  1. -1.  1.  1. -1.  1.  1.  1. -1. -1. -1.\n",
      " -1.  1.  1. -1. -1. -1. -1. -1.  1. -1. -1.  1.  1.  1.  1.  1.  1.  1.\n",
      " -1. -1.  1. -1.  1. -1. -1.  1.  1.  1. -1. -1. -1.  1. -1. -1. -1. -1.\n",
      " -1.  1. -1. -1.  1. -1. -1. -1. -1. -1.  1. -1. -1. -1. -1. -1.  1. -1.\n",
      " -1. -1.]\n",
      "weights:  [-0.00549017  0.00833766 -0.00592198 -0.00558079 -0.00567082 -0.007745\n",
      "  0.00648372]\n",
      "neuron_activities:  [-1.  1. -1. -1. -1. -1.  1. -1. -1.  1.  1. -1.  1. -1. -1.  1. -1.  1.\n",
      " -1. -1.  1. -1. -1.  1.  1. -1.  1. -1. -1. -1. -1.  1.  1. -1. -1.  1.\n",
      " -1. -1. -1.  1. -1.  1. -1.  1. -1. -1.  1. -1. -1.  1.  1.  1.  1.  1.\n",
      "  1.  1.  1.  1. -1.  1.  1.  1. -1.  1.  1. -1.  1.  1.  1. -1. -1. -1.\n",
      " -1.  1.  1. -1. -1. -1. -1. -1.  1. -1. -1.  1.  1.  1.  1.  1.  1.  1.\n",
      " -1. -1.  1. -1.  1. -1. -1.  1.  1.  1. -1. -1. -1.  1. -1. -1. -1. -1.\n",
      " -1.  1. -1. -1.  1. -1. -1. -1. -1. -1.  1. -1. -1. -1. -1. -1.  1. -1.\n",
      " -1. -1.]\n",
      "weights:  [-0.00583593  0.00620945 -0.00587973 -0.00584411 -0.00585442 -0.00606113\n",
      "  0.00602174]\n",
      "neuron_activities:  [-1.  1. -1. -1. -1. -1.  1. -1. -1.  1.  1. -1.  1. -1. -1.  1. -1.  1.\n",
      " -1. -1.  1. -1. -1.  1.  1. -1.  1. -1. -1. -1. -1.  1.  1. -1. -1.  1.\n",
      " -1. -1. -1.  1. -1.  1. -1.  1. -1. -1.  1. -1. -1.  1.  1.  1.  1.  1.\n",
      "  1.  1.  1.  1. -1.  1.  1.  1. -1.  1.  1. -1.  1.  1.  1. -1. -1. -1.\n",
      " -1.  1.  1. -1. -1. -1. -1. -1.  1. -1. -1.  1.  1.  1.  1.  1.  1.  1.\n",
      " -1. -1.  1. -1.  1. -1. -1.  1.  1.  1. -1. -1. -1.  1. -1. -1. -1. -1.\n",
      " -1.  1. -1. -1.  1. -1. -1. -1. -1. -1.  1. -1. -1. -1. -1. -1.  1. -1.\n",
      " -1. -1.]\n",
      "weights:  [-0.00773359  0.00805025 -0.00773938 -0.00773467 -0.00773604 -0.00776337\n",
      "  0.00802459]\n",
      "neuron_activities:  [-1.  1. -1. -1. -1. -1.  1. -1. -1.  1.  1. -1.  1. -1. -1.  1. -1.  1.\n",
      " -1. -1.  1. -1. -1.  1.  1. -1.  1. -1. -1. -1. -1.  1.  1. -1. -1.  1.\n",
      " -1. -1. -1.  1. -1.  1. -1.  1. -1. -1.  1. -1. -1.  1.  1.  1.  1.  1.\n",
      "  1.  1.  1.  1. -1.  1.  1.  1. -1.  1.  1. -1.  1.  1.  1. -1. -1. -1.\n",
      " -1.  1.  1. -1. -1. -1. -1. -1.  1. -1. -1.  1.  1.  1.  1.  1.  1.  1.\n",
      " -1. -1.  1. -1.  1. -1. -1.  1.  1.  1. -1. -1. -1.  1. -1. -1. -1. -1.\n",
      " -1.  1. -1. -1.  1. -1. -1. -1. -1. -1.  1. -1. -1. -1. -1. -1.  1. -1.\n",
      " -1. -1.]\n"
     ]
    },
    {
     "ename": "KeyboardInterrupt",
     "evalue": "",
     "output_type": "error",
     "traceback": [
      "\u001b[0;31m---------------------------------------------------------------------------\u001b[0m",
      "\u001b[0;31mKeyboardInterrupt\u001b[0m                         Traceback (most recent call last)",
      "Cell \u001b[0;32mIn[68], line 10\u001b[0m\n\u001b[1;32m      7\u001b[0m \u001b[38;5;28mprint\u001b[39m(\u001b[38;5;124m\"\u001b[39m\u001b[38;5;124mneuron_activities: \u001b[39m\u001b[38;5;124m\"\u001b[39m, neuron_activities[\u001b[38;5;241m1\u001b[39m])\n\u001b[1;32m      8\u001b[0m neuron_activities[\u001b[38;5;241m-\u001b[39m\u001b[38;5;241m1\u001b[39m] \u001b[38;5;241m=\u001b[39m actions[i,:]\n\u001b[0;32m---> 10\u001b[0m cons_contr_params \u001b[38;5;241m=\u001b[39m \u001b[43mupdate_synapse_strengths\u001b[49m\u001b[43m(\u001b[49m\u001b[43mcons_contr_params\u001b[49m\u001b[43m,\u001b[49m\u001b[43m \u001b[49m\u001b[43mneuron_activities\u001b[49m\u001b[43m,\u001b[49m\u001b[43m \u001b[49m\u001b[43malpha\u001b[49m\u001b[38;5;241;43m=\u001b[39;49m\u001b[43malpha\u001b[49m\u001b[43m)\u001b[49m\n\u001b[1;32m     11\u001b[0m \u001b[38;5;28mprint\u001b[39m(\u001b[38;5;124m\"\u001b[39m\u001b[38;5;124mweights: \u001b[39m\u001b[38;5;124m\"\u001b[39m, cons_contr_params[\u001b[38;5;124m\"\u001b[39m\u001b[38;5;124mparams\u001b[39m\u001b[38;5;124m\"\u001b[39m][\u001b[38;5;124m\"\u001b[39m\u001b[38;5;124mlayers_0\u001b[39m\u001b[38;5;124m\"\u001b[39m][\u001b[38;5;124m\"\u001b[39m\u001b[38;5;124mkernel\u001b[39m\u001b[38;5;124m\"\u001b[39m][\u001b[38;5;241m0\u001b[39m,:\u001b[38;5;241m7\u001b[39m])\n\u001b[1;32m     12\u001b[0m \u001b[38;5;66;03m# print(cons_contr_params)\u001b[39;00m\n",
      "Cell \u001b[0;32mIn[67], line 58\u001b[0m, in \u001b[0;36mupdate_synapse_strengths\u001b[0;34m(synapse_strengths_input, neuron_activities, alpha)\u001b[0m\n\u001b[1;32m     54\u001b[0m     ss \u001b[38;5;241m=\u001b[39m synapse_strengths[\u001b[38;5;124m\"\u001b[39m\u001b[38;5;124mparams\u001b[39m\u001b[38;5;124m\"\u001b[39m][\u001b[38;5;124mf\u001b[39m\u001b[38;5;124m\"\u001b[39m\u001b[38;5;124mlayers_\u001b[39m\u001b[38;5;132;01m{\u001b[39;00mp\u001b[38;5;132;01m}\u001b[39;00m\u001b[38;5;124m\"\u001b[39m][\u001b[38;5;124m\"\u001b[39m\u001b[38;5;124mkernel\u001b[39m\u001b[38;5;124m\"\u001b[39m]\n\u001b[1;32m     55\u001b[0m     \u001b[38;5;66;03m# ss_factor = apply_oja(input_nodes, output_nodes, ss, alpha = alpha)\u001b[39;00m\n\u001b[1;32m     56\u001b[0m     \u001b[38;5;66;03m# synapse_strengths[\"params\"][f\"layers_{p}\"][\"kernel\"] = synapse_strengths[\"params\"][f\"layers_{p}\"][\"kernel\"] * ss_factor\u001b[39;00m\n\u001b[1;32m     57\u001b[0m     \u001b[38;5;66;03m# synapse_strengths[\"params\"][f\"layers_{p}\"][\"kernel\"] = synapse_strengths[\"params\"][f\"layers_{p}\"][\"kernel\"] + ss_factor\u001b[39;00m\n\u001b[0;32m---> 58\u001b[0m     synapse_strengths[\u001b[38;5;124m\"\u001b[39m\u001b[38;5;124mparams\u001b[39m\u001b[38;5;124m\"\u001b[39m][\u001b[38;5;124mf\u001b[39m\u001b[38;5;124m\"\u001b[39m\u001b[38;5;124mlayers_\u001b[39m\u001b[38;5;132;01m{\u001b[39;00mp\u001b[38;5;132;01m}\u001b[39;00m\u001b[38;5;124m\"\u001b[39m][\u001b[38;5;124m\"\u001b[39m\u001b[38;5;124mkernel\u001b[39m\u001b[38;5;124m\"\u001b[39m] \u001b[38;5;241m=\u001b[39m \u001b[43msynaptic_competition\u001b[49m\u001b[43m(\u001b[49m\u001b[43minput_nodes\u001b[49m\u001b[43m,\u001b[49m\u001b[43m \u001b[49m\u001b[43moutput_nodes\u001b[49m\u001b[43m,\u001b[49m\u001b[43m \u001b[49m\u001b[43msynapse_strengths\u001b[49m\u001b[38;5;241;43m=\u001b[39;49m\u001b[43mss\u001b[49m\u001b[43m)\u001b[49m\n\u001b[1;32m     60\u001b[0m synapse_strengths \u001b[38;5;241m=\u001b[39m presynaptic_competition_rescale(synapse_strengths)\n\u001b[1;32m     62\u001b[0m \u001b[38;5;28;01mreturn\u001b[39;00m synapse_strengths\n",
      "Cell \u001b[0;32mIn[67], line 9\u001b[0m, in \u001b[0;36msynaptic_competition\u001b[0;34m(input_nodes, output_nodes, synapse_strengths, learning_rate)\u001b[0m\n\u001b[1;32m      7\u001b[0m \u001b[38;5;28;01mfor\u001b[39;00m i \u001b[38;5;129;01min\u001b[39;00m \u001b[38;5;28mrange\u001b[39m(\u001b[38;5;28mlen\u001b[39m(output_nodes)):\n\u001b[1;32m      8\u001b[0m     \u001b[38;5;28;01mfor\u001b[39;00m j \u001b[38;5;129;01min\u001b[39;00m \u001b[38;5;28mrange\u001b[39m(\u001b[38;5;28mlen\u001b[39m(input_nodes)):\n\u001b[0;32m----> 9\u001b[0m         synapse_strengths[j,i] \u001b[38;5;241m=\u001b[39m synapse_strengths[j,i] \u001b[38;5;241m+\u001b[39m learning_rate \u001b[38;5;241m*\u001b[39m input_nodes[j] \u001b[38;5;241m*\u001b[39m \u001b[43moutput_nodes\u001b[49m\u001b[43m[\u001b[49m\u001b[43mi\u001b[49m\u001b[43m]\u001b[49m\n\u001b[1;32m     11\u001b[0m \u001b[38;5;28;01mreturn\u001b[39;00m jnp\u001b[38;5;241m.\u001b[39marray(synapse_strengths)\n",
      "File \u001b[0;32m~/OneDrive/Documents/DOCUMENTEN/4_PhD/BSC/bsc/lib/python3.12/site-packages/jax/_src/array.py:370\u001b[0m, in \u001b[0;36mArrayImpl.__getitem__\u001b[0;34m(self, idx)\u001b[0m\n\u001b[1;32m    365\u001b[0m       out \u001b[38;5;241m=\u001b[39m lax\u001b[38;5;241m.\u001b[39msqueeze(out, dimensions\u001b[38;5;241m=\u001b[39mdims)\n\u001b[1;32m    367\u001b[0m     \u001b[38;5;28;01mreturn\u001b[39;00m ArrayImpl(\n\u001b[1;32m    368\u001b[0m         out\u001b[38;5;241m.\u001b[39maval, sharding, [out], committed\u001b[38;5;241m=\u001b[39m\u001b[38;5;28;01mFalse\u001b[39;00m, _skip_checks\u001b[38;5;241m=\u001b[39m\u001b[38;5;28;01mTrue\u001b[39;00m)\n\u001b[0;32m--> 370\u001b[0m \u001b[38;5;28;01mreturn\u001b[39;00m \u001b[43mlax_numpy\u001b[49m\u001b[38;5;241;43m.\u001b[39;49m\u001b[43m_rewriting_take\u001b[49m\u001b[43m(\u001b[49m\u001b[38;5;28;43mself\u001b[39;49m\u001b[43m,\u001b[49m\u001b[43m \u001b[49m\u001b[43midx\u001b[49m\u001b[43m)\u001b[49m\n",
      "File \u001b[0;32m~/OneDrive/Documents/DOCUMENTEN/4_PhD/BSC/bsc/lib/python3.12/site-packages/jax/_src/numpy/lax_numpy.py:11396\u001b[0m, in \u001b[0;36m_rewriting_take\u001b[0;34m(arr, idx, indices_are_sorted, unique_indices, mode, fill_value)\u001b[0m\n\u001b[1;32m  11387\u001b[0m \u001b[38;5;28;01mdef\u001b[39;00m \u001b[38;5;21m_rewriting_take\u001b[39m(arr, idx, indices_are_sorted\u001b[38;5;241m=\u001b[39m\u001b[38;5;28;01mFalse\u001b[39;00m, unique_indices\u001b[38;5;241m=\u001b[39m\u001b[38;5;28;01mFalse\u001b[39;00m,\n\u001b[1;32m  11388\u001b[0m                     mode\u001b[38;5;241m=\u001b[39m\u001b[38;5;28;01mNone\u001b[39;00m, fill_value\u001b[38;5;241m=\u001b[39m\u001b[38;5;28;01mNone\u001b[39;00m):\n\u001b[1;32m  11389\u001b[0m   \u001b[38;5;66;03m# Computes arr[idx].\u001b[39;00m\n\u001b[0;32m   (...)\u001b[0m\n\u001b[1;32m  11393\u001b[0m   \u001b[38;5;66;03m# For simplicity of generated primitives, we call lax.dynamic_slice in the\u001b[39;00m\n\u001b[1;32m  11394\u001b[0m   \u001b[38;5;66;03m# simplest cases: i.e. non-dynamic arrays indexed with integers and slices.\u001b[39;00m\n\u001b[0;32m> 11396\u001b[0m   \u001b[38;5;28;01mif\u001b[39;00m (result \u001b[38;5;241m:=\u001b[39m \u001b[43m_attempt_rewriting_take_via_slice\u001b[49m\u001b[43m(\u001b[49m\u001b[43marr\u001b[49m\u001b[43m,\u001b[49m\u001b[43m \u001b[49m\u001b[43midx\u001b[49m\u001b[43m,\u001b[49m\u001b[43m \u001b[49m\u001b[43mmode\u001b[49m\u001b[43m)\u001b[49m) \u001b[38;5;129;01mis\u001b[39;00m \u001b[38;5;129;01mnot\u001b[39;00m \u001b[38;5;28;01mNone\u001b[39;00m:\n\u001b[1;32m  11397\u001b[0m     \u001b[38;5;28;01mreturn\u001b[39;00m result\n\u001b[1;32m  11399\u001b[0m   \u001b[38;5;66;03m# TODO(mattjj,dougalm): expand dynamic shape indexing support\u001b[39;00m\n",
      "File \u001b[0;32m~/OneDrive/Documents/DOCUMENTEN/4_PhD/BSC/bsc/lib/python3.12/site-packages/jax/_src/numpy/lax_numpy.py:11373\u001b[0m, in \u001b[0;36m_attempt_rewriting_take_via_slice\u001b[0;34m(arr, idx, mode)\u001b[0m\n\u001b[1;32m  11371\u001b[0m   int_start_indices \u001b[38;5;241m=\u001b[39m [\u001b[38;5;28mint\u001b[39m(i) \u001b[38;5;28;01mfor\u001b[39;00m i \u001b[38;5;129;01min\u001b[39;00m start_indices]  \u001b[38;5;66;03m# type: ignore\u001b[39;00m\n\u001b[1;32m  11372\u001b[0m   int_limit_indices \u001b[38;5;241m=\u001b[39m [i \u001b[38;5;241m+\u001b[39m s \u001b[38;5;28;01mfor\u001b[39;00m i, s \u001b[38;5;129;01min\u001b[39;00m \u001b[38;5;28mzip\u001b[39m(int_start_indices, slice_sizes)]\n\u001b[0;32m> 11373\u001b[0m   arr \u001b[38;5;241m=\u001b[39m \u001b[43mlax\u001b[49m\u001b[38;5;241;43m.\u001b[39;49m\u001b[43mslice\u001b[49m\u001b[43m(\u001b[49m\n\u001b[1;32m  11374\u001b[0m \u001b[43m      \u001b[49m\u001b[43marr\u001b[49m\u001b[43m,\u001b[49m\u001b[43m \u001b[49m\u001b[43mstart_indices\u001b[49m\u001b[38;5;241;43m=\u001b[39;49m\u001b[43mint_start_indices\u001b[49m\u001b[43m,\u001b[49m\u001b[43m \u001b[49m\u001b[43mlimit_indices\u001b[49m\u001b[38;5;241;43m=\u001b[39;49m\u001b[43mint_limit_indices\u001b[49m\u001b[43m)\u001b[49m\n\u001b[1;32m  11375\u001b[0m \u001b[38;5;28;01melse\u001b[39;00m:\n\u001b[1;32m  11376\u001b[0m   \u001b[38;5;66;03m# We must be careful with dtypes because dynamic_slice requires all\u001b[39;00m\n\u001b[1;32m  11377\u001b[0m   \u001b[38;5;66;03m# start indices to have matching types.\u001b[39;00m\n\u001b[1;32m  11378\u001b[0m   \u001b[38;5;28;01mif\u001b[39;00m \u001b[38;5;28mlen\u001b[39m(start_indices) \u001b[38;5;241m>\u001b[39m \u001b[38;5;241m1\u001b[39m:\n",
      "File \u001b[0;32m~/OneDrive/Documents/DOCUMENTEN/4_PhD/BSC/bsc/lib/python3.12/site-packages/jax/_src/lax/slicing.py:107\u001b[0m, in \u001b[0;36mslice\u001b[0;34m(operand, start_indices, limit_indices, strides)\u001b[0m\n\u001b[1;32m     56\u001b[0m \u001b[38;5;28;01mdef\u001b[39;00m \u001b[38;5;21mslice\u001b[39m(operand: ArrayLike, start_indices: Sequence[\u001b[38;5;28mint\u001b[39m],\n\u001b[1;32m     57\u001b[0m           limit_indices: Sequence[\u001b[38;5;28mint\u001b[39m],\n\u001b[1;32m     58\u001b[0m           strides: Sequence[\u001b[38;5;28mint\u001b[39m] \u001b[38;5;241m|\u001b[39m \u001b[38;5;28;01mNone\u001b[39;00m \u001b[38;5;241m=\u001b[39m \u001b[38;5;28;01mNone\u001b[39;00m) \u001b[38;5;241m-\u001b[39m\u001b[38;5;241m>\u001b[39m Array:\n\u001b[1;32m     59\u001b[0m \u001b[38;5;250m  \u001b[39m\u001b[38;5;124;03m\"\"\"Wraps XLA's `Slice\u001b[39;00m\n\u001b[1;32m     60\u001b[0m \u001b[38;5;124;03m  <https://www.tensorflow.org/xla/operation_semantics#slice>`_\u001b[39;00m\n\u001b[1;32m     61\u001b[0m \u001b[38;5;124;03m  operator.\u001b[39;00m\n\u001b[0;32m   (...)\u001b[0m\n\u001b[1;32m    105\u001b[0m \u001b[38;5;124;03m    - :func:`jax.lax.dynamic_slice`\u001b[39;00m\n\u001b[1;32m    106\u001b[0m \u001b[38;5;124;03m  \"\"\"\u001b[39;00m\n\u001b[0;32m--> 107\u001b[0m   \u001b[38;5;28;01mreturn\u001b[39;00m \u001b[43mslice_p\u001b[49m\u001b[38;5;241;43m.\u001b[39;49m\u001b[43mbind\u001b[49m\u001b[43m(\u001b[49m\u001b[43moperand\u001b[49m\u001b[43m,\u001b[49m\u001b[43m \u001b[49m\u001b[43mstart_indices\u001b[49m\u001b[38;5;241;43m=\u001b[39;49m\u001b[38;5;28;43mtuple\u001b[39;49m\u001b[43m(\u001b[49m\u001b[43mstart_indices\u001b[49m\u001b[43m)\u001b[49m\u001b[43m,\u001b[49m\n\u001b[1;32m    108\u001b[0m \u001b[43m                      \u001b[49m\u001b[43mlimit_indices\u001b[49m\u001b[38;5;241;43m=\u001b[39;49m\u001b[38;5;28;43mtuple\u001b[39;49m\u001b[43m(\u001b[49m\u001b[43mlimit_indices\u001b[49m\u001b[43m)\u001b[49m\u001b[43m,\u001b[49m\n\u001b[1;32m    109\u001b[0m \u001b[43m                      \u001b[49m\u001b[43mstrides\u001b[49m\u001b[38;5;241;43m=\u001b[39;49m\u001b[38;5;28;43;01mNone\u001b[39;49;00m\u001b[43m \u001b[49m\u001b[38;5;28;43;01mif\u001b[39;49;00m\u001b[43m \u001b[49m\u001b[43mstrides\u001b[49m\u001b[43m \u001b[49m\u001b[38;5;129;43;01mis\u001b[39;49;00m\u001b[43m \u001b[49m\u001b[38;5;28;43;01mNone\u001b[39;49;00m\u001b[43m \u001b[49m\u001b[38;5;28;43;01melse\u001b[39;49;00m\u001b[43m \u001b[49m\u001b[38;5;28;43mtuple\u001b[39;49m\u001b[43m(\u001b[49m\u001b[43mstrides\u001b[49m\u001b[43m)\u001b[49m\u001b[43m)\u001b[49m\n",
      "File \u001b[0;32m~/OneDrive/Documents/DOCUMENTEN/4_PhD/BSC/bsc/lib/python3.12/site-packages/jax/_src/core.py:438\u001b[0m, in \u001b[0;36mPrimitive.bind\u001b[0;34m(self, *args, **params)\u001b[0m\n\u001b[1;32m    435\u001b[0m \u001b[38;5;28;01mdef\u001b[39;00m \u001b[38;5;21mbind\u001b[39m(\u001b[38;5;28mself\u001b[39m, \u001b[38;5;241m*\u001b[39margs, \u001b[38;5;241m*\u001b[39m\u001b[38;5;241m*\u001b[39mparams):\n\u001b[1;32m    436\u001b[0m   \u001b[38;5;28;01massert\u001b[39;00m (\u001b[38;5;129;01mnot\u001b[39;00m config\u001b[38;5;241m.\u001b[39menable_checks\u001b[38;5;241m.\u001b[39mvalue \u001b[38;5;129;01mor\u001b[39;00m\n\u001b[1;32m    437\u001b[0m           \u001b[38;5;28mall\u001b[39m(\u001b[38;5;28misinstance\u001b[39m(arg, Tracer) \u001b[38;5;129;01mor\u001b[39;00m valid_jaxtype(arg) \u001b[38;5;28;01mfor\u001b[39;00m arg \u001b[38;5;129;01min\u001b[39;00m args)), args\n\u001b[0;32m--> 438\u001b[0m   \u001b[38;5;28;01mreturn\u001b[39;00m \u001b[38;5;28;43mself\u001b[39;49m\u001b[38;5;241;43m.\u001b[39;49m\u001b[43mbind_with_trace\u001b[49m\u001b[43m(\u001b[49m\u001b[43mfind_top_trace\u001b[49m\u001b[43m(\u001b[49m\u001b[43margs\u001b[49m\u001b[43m)\u001b[49m\u001b[43m,\u001b[49m\u001b[43m \u001b[49m\u001b[43margs\u001b[49m\u001b[43m,\u001b[49m\u001b[43m \u001b[49m\u001b[43mparams\u001b[49m\u001b[43m)\u001b[49m\n",
      "File \u001b[0;32m~/OneDrive/Documents/DOCUMENTEN/4_PhD/BSC/bsc/lib/python3.12/site-packages/jax/_src/core.py:442\u001b[0m, in \u001b[0;36mPrimitive.bind_with_trace\u001b[0;34m(self, trace, args, params)\u001b[0m\n\u001b[1;32m    440\u001b[0m \u001b[38;5;28;01mdef\u001b[39;00m \u001b[38;5;21mbind_with_trace\u001b[39m(\u001b[38;5;28mself\u001b[39m, trace, args, params):\n\u001b[1;32m    441\u001b[0m   \u001b[38;5;28;01mwith\u001b[39;00m pop_level(trace\u001b[38;5;241m.\u001b[39mlevel):\n\u001b[0;32m--> 442\u001b[0m     out \u001b[38;5;241m=\u001b[39m \u001b[43mtrace\u001b[49m\u001b[38;5;241;43m.\u001b[39;49m\u001b[43mprocess_primitive\u001b[49m\u001b[43m(\u001b[49m\u001b[38;5;28;43mself\u001b[39;49m\u001b[43m,\u001b[49m\u001b[43m \u001b[49m\u001b[38;5;28;43mmap\u001b[39;49m\u001b[43m(\u001b[49m\u001b[43mtrace\u001b[49m\u001b[38;5;241;43m.\u001b[39;49m\u001b[43mfull_raise\u001b[49m\u001b[43m,\u001b[49m\u001b[43m \u001b[49m\u001b[43margs\u001b[49m\u001b[43m)\u001b[49m\u001b[43m,\u001b[49m\u001b[43m \u001b[49m\u001b[43mparams\u001b[49m\u001b[43m)\u001b[49m\n\u001b[1;32m    443\u001b[0m   \u001b[38;5;28;01mreturn\u001b[39;00m \u001b[38;5;28mmap\u001b[39m(full_lower, out) \u001b[38;5;28;01mif\u001b[39;00m \u001b[38;5;28mself\u001b[39m\u001b[38;5;241m.\u001b[39mmultiple_results \u001b[38;5;28;01melse\u001b[39;00m full_lower(out)\n",
      "File \u001b[0;32m~/OneDrive/Documents/DOCUMENTEN/4_PhD/BSC/bsc/lib/python3.12/site-packages/jax/_src/core.py:955\u001b[0m, in \u001b[0;36mEvalTrace.process_primitive\u001b[0;34m(self, primitive, tracers, params)\u001b[0m\n\u001b[1;32m    953\u001b[0m   \u001b[38;5;28;01mreturn\u001b[39;00m call_impl_with_key_reuse_checks(primitive, primitive\u001b[38;5;241m.\u001b[39mimpl, \u001b[38;5;241m*\u001b[39mtracers, \u001b[38;5;241m*\u001b[39m\u001b[38;5;241m*\u001b[39mparams)\n\u001b[1;32m    954\u001b[0m \u001b[38;5;28;01melse\u001b[39;00m:\n\u001b[0;32m--> 955\u001b[0m   \u001b[38;5;28;01mreturn\u001b[39;00m \u001b[43mprimitive\u001b[49m\u001b[38;5;241;43m.\u001b[39;49m\u001b[43mimpl\u001b[49m\u001b[43m(\u001b[49m\u001b[38;5;241;43m*\u001b[39;49m\u001b[43mtracers\u001b[49m\u001b[43m,\u001b[49m\u001b[43m \u001b[49m\u001b[38;5;241;43m*\u001b[39;49m\u001b[38;5;241;43m*\u001b[39;49m\u001b[43mparams\u001b[49m\u001b[43m)\u001b[49m\n",
      "File \u001b[0;32m~/OneDrive/Documents/DOCUMENTEN/4_PhD/BSC/bsc/lib/python3.12/site-packages/jax/_src/lax/slicing.py:1329\u001b[0m, in \u001b[0;36m_slice_impl\u001b[0;34m(x, start_indices, limit_indices, strides)\u001b[0m\n\u001b[1;32m   1325\u001b[0m   \u001b[38;5;28;01mreturn\u001b[39;00m dispatch\u001b[38;5;241m.\u001b[39mapply_primitive(\n\u001b[1;32m   1326\u001b[0m     slice_p, x, start_indices\u001b[38;5;241m=\u001b[39mstart_indices,\n\u001b[1;32m   1327\u001b[0m     limit_indices\u001b[38;5;241m=\u001b[39mlimit_indices, strides\u001b[38;5;241m=\u001b[39mstrides)\n\u001b[1;32m   1328\u001b[0m slice_sizes \u001b[38;5;241m=\u001b[39m \u001b[38;5;28mtuple\u001b[39m(np\u001b[38;5;241m.\u001b[39marray(limit_indices) \u001b[38;5;241m-\u001b[39m np\u001b[38;5;241m.\u001b[39marray(start_indices))\n\u001b[0;32m-> 1329\u001b[0m \u001b[38;5;28;01mreturn\u001b[39;00m \u001b[43mdispatch\u001b[49m\u001b[38;5;241;43m.\u001b[39;49m\u001b[43mapply_primitive\u001b[49m\u001b[43m(\u001b[49m\u001b[43mdynamic_slice_p\u001b[49m\u001b[43m,\u001b[49m\u001b[43m \u001b[49m\u001b[43mx\u001b[49m\u001b[43m,\u001b[49m\u001b[43m \u001b[49m\u001b[38;5;241;43m*\u001b[39;49m\u001b[43mstart_indices\u001b[49m\u001b[43m,\u001b[49m\n\u001b[1;32m   1330\u001b[0m \u001b[43m                                \u001b[49m\u001b[43mslice_sizes\u001b[49m\u001b[38;5;241;43m=\u001b[39;49m\u001b[43mslice_sizes\u001b[49m\u001b[43m)\u001b[49m\n",
      "File \u001b[0;32m~/OneDrive/Documents/DOCUMENTEN/4_PhD/BSC/bsc/lib/python3.12/site-packages/jax/_src/dispatch.py:91\u001b[0m, in \u001b[0;36mapply_primitive\u001b[0;34m(prim, *args, **params)\u001b[0m\n\u001b[1;32m     89\u001b[0m prev \u001b[38;5;241m=\u001b[39m lib\u001b[38;5;241m.\u001b[39mjax_jit\u001b[38;5;241m.\u001b[39mswap_thread_local_state_disable_jit(\u001b[38;5;28;01mFalse\u001b[39;00m)\n\u001b[1;32m     90\u001b[0m \u001b[38;5;28;01mtry\u001b[39;00m:\n\u001b[0;32m---> 91\u001b[0m   outs \u001b[38;5;241m=\u001b[39m \u001b[43mfun\u001b[49m\u001b[43m(\u001b[49m\u001b[38;5;241;43m*\u001b[39;49m\u001b[43margs\u001b[49m\u001b[43m)\u001b[49m\n\u001b[1;32m     92\u001b[0m \u001b[38;5;28;01mfinally\u001b[39;00m:\n\u001b[1;32m     93\u001b[0m   lib\u001b[38;5;241m.\u001b[39mjax_jit\u001b[38;5;241m.\u001b[39mswap_thread_local_state_disable_jit(prev)\n",
      "\u001b[0;31mKeyboardInterrupt\u001b[0m: "
     ]
    }
   ],
   "source": [
    "\n",
    "from flax import linen as nn\n",
    "\n",
    "for i in range(observations.shape[0]):\n",
    "    # print(\"observations: \", observations[i,:5])\n",
    "    # _, neuron_activities = DNN_rollout(cons_contr_params, observations[i,:], act_hidden = nn.tanh, act_output=nn.tanh)\n",
    "    _, neuron_activities = cons_contr.apply(cons_contr_params, observations[i,:], act_hidden = nn.tanh, act_output=nn.tanh)\n",
    "    print(\"neuron_activities: \", neuron_activities[1])\n",
    "    neuron_activities[-1] = actions[i,:]\n",
    "\n",
    "    cons_contr_params = update_synapse_strengths(cons_contr_params, neuron_activities, alpha=alpha)\n",
    "    print(\"weights: \", cons_contr_params[\"params\"][\"layers_0\"][\"kernel\"][0,:7])\n",
    "    # print(cons_contr_params)"
   ]
  },
  {
   "cell_type": "code",
   "execution_count": 26,
   "metadata": {},
   "outputs": [
    {
     "data": {
      "text/html": [
       "<table class=\"show_images\" style=\"border-spacing:0px;\"><tr><td style=\"padding:1px;\"><img width=\"320\" height=\"240\" style=\"image-rendering:auto; object-fit:cover;\" src=\"data:image/png;base64,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\"/></td></tr></table>"
      ],
      "text/plain": [
       "<IPython.core.display.HTML object>"
      ]
     },
     "metadata": {},
     "output_type": "display_data"
    },
    {
     "data": {
      "text/html": [
       "<table class=\"show_images\" style=\"border-spacing:0px;\"><tr><td style=\"padding:1px;\"><img width=\"320\" height=\"240\" style=\"image-rendering:auto; object-fit:cover;\" src=\"data:image/png;base64,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\"/></td></tr></table>"
      ],
      "text/plain": [
       "<IPython.core.display.HTML object>"
      ]
     },
     "metadata": {},
     "output_type": "display_data"
    }
   ],
   "source": [
    "from bsc_utils.BrittleStarEnv import EnvContainer\n",
    "\n",
    "\n",
    "config = load_config_from_yaml(\"2024_04_01_b01_r03.yaml\")\n",
    "config = complete_config_with_defaults(config)\n",
    "config[\"environment\"][\"simulation_time\"] = simulation_time\n",
    "\n",
    "env_container = EnvContainer(config)\n",
    "env_container.generate_env()\n",
    "env_container.generate_env_damaged()\n",
    "env_container.visualize_arena()\n",
    "env_container.visualize_morphology()"
   ]
  },
  {
   "cell_type": "code",
   "execution_count": 27,
   "metadata": {},
   "outputs": [
    {
     "name": "stderr",
     "output_type": "stream",
     "text": [
      "/home/idlab515/OneDrive/Documents/DOCUMENTEN/4_PhD/BSC/bsc/lib/python3.12/site-packages/jax/_src/interpreters/xla.py:133: RuntimeWarning: overflow encountered in cast\n",
      "  return np.asarray(x, dtypes.canonicalize_dtype(x.dtype))\n"
     ]
    },
    {
     "name": "stdout",
     "output_type": "stream",
     "text": [
      "0\n",
      "action rollout time = 0.005900859832763672\n"
     ]
    },
    {
     "name": "stderr",
     "output_type": "stream",
     "text": [
      "/home/idlab515/OneDrive/Documents/DOCUMENTEN/4_PhD/BSC/bsc/lib/python3.12/site-packages/jax/_src/interpreters/xla.py:133: RuntimeWarning: overflow encountered in cast\n",
      "  return np.asarray(x, dtypes.canonicalize_dtype(x.dtype))\n"
     ]
    },
    {
     "name": "stdout",
     "output_type": "stream",
     "text": [
      "env step time = 14.61549973487854\n",
      "action rollout time = 0.0053081512451171875\n"
     ]
    },
    {
     "name": "stderr",
     "output_type": "stream",
     "text": [
      "/home/idlab515/OneDrive/Documents/DOCUMENTEN/4_PhD/BSC/bsc/lib/python3.12/site-packages/jax/_src/interpreters/xla.py:133: RuntimeWarning: overflow encountered in cast\n",
      "  return np.asarray(x, dtypes.canonicalize_dtype(x.dtype))\n"
     ]
    },
    {
     "name": "stdout",
     "output_type": "stream",
     "text": [
      "env step time = 13.936272621154785\n",
      "action rollout time = 0.005931377410888672\n"
     ]
    },
    {
     "name": "stderr",
     "output_type": "stream",
     "text": [
      "/home/idlab515/OneDrive/Documents/DOCUMENTEN/4_PhD/BSC/bsc/lib/python3.12/site-packages/jax/_src/interpreters/xla.py:133: RuntimeWarning: overflow encountered in cast\n",
      "  return np.asarray(x, dtypes.canonicalize_dtype(x.dtype))\n"
     ]
    },
    {
     "ename": "KeyboardInterrupt",
     "evalue": "",
     "output_type": "error",
     "traceback": [
      "\u001b[0;31m---------------------------------------------------------------------------\u001b[0m",
      "\u001b[0;31mKeyboardInterrupt\u001b[0m                         Traceback (most recent call last)",
      "Cell \u001b[0;32mIn[27], line 21\u001b[0m\n\u001b[1;32m     18\u001b[0m \u001b[38;5;28mprint\u001b[39m(\u001b[38;5;124mf\u001b[39m\u001b[38;5;124m\"\u001b[39m\u001b[38;5;124maction rollout time = \u001b[39m\u001b[38;5;132;01m{\u001b[39;00mtime\u001b[38;5;241m.\u001b[39mtime()\u001b[38;5;241m-\u001b[39mstart_action\u001b[38;5;132;01m}\u001b[39;00m\u001b[38;5;124m\"\u001b[39m)\n\u001b[1;32m     20\u001b[0m start_env_step \u001b[38;5;241m=\u001b[39m time\u001b[38;5;241m.\u001b[39mtime()\n\u001b[0;32m---> 21\u001b[0m env_state \u001b[38;5;241m=\u001b[39m \u001b[43menv_container\u001b[49m\u001b[38;5;241;43m.\u001b[39;49m\u001b[43menv\u001b[49m\u001b[38;5;241;43m.\u001b[39;49m\u001b[43mstep\u001b[49m\u001b[43m(\u001b[49m\u001b[43mstate\u001b[49m\u001b[38;5;241;43m=\u001b[39;49m\u001b[43menv_state\u001b[49m\u001b[43m,\u001b[49m\u001b[43m \u001b[49m\u001b[43maction\u001b[49m\u001b[38;5;241;43m=\u001b[39;49m\u001b[43maction\u001b[49m\u001b[43m)\u001b[49m\n\u001b[1;32m     22\u001b[0m \u001b[38;5;28mprint\u001b[39m(\u001b[38;5;124mf\u001b[39m\u001b[38;5;124m\"\u001b[39m\u001b[38;5;124menv step time = \u001b[39m\u001b[38;5;132;01m{\u001b[39;00mtime\u001b[38;5;241m.\u001b[39mtime()\u001b[38;5;241m-\u001b[39mstart_env_step\u001b[38;5;132;01m}\u001b[39;00m\u001b[38;5;124m\"\u001b[39m)\n\u001b[1;32m     24\u001b[0m mjx_frames\u001b[38;5;241m.\u001b[39mappend(\n\u001b[1;32m     25\u001b[0m         post_render(\n\u001b[1;32m     26\u001b[0m             env_container\u001b[38;5;241m.\u001b[39menv\u001b[38;5;241m.\u001b[39mrender(state\u001b[38;5;241m=\u001b[39menv_state),\n\u001b[1;32m     27\u001b[0m             env_container\u001b[38;5;241m.\u001b[39menv\u001b[38;5;241m.\u001b[39menvironment_configuration\n\u001b[1;32m     28\u001b[0m             )\n\u001b[1;32m     29\u001b[0m         )\n",
      "File \u001b[0;32m~/OneDrive/Documents/DOCUMENTEN/4_PhD/BSC/bsc/lib/python3.12/site-packages/moojoco/environment/dual.py:64\u001b[0m, in \u001b[0;36mDualMuJoCoEnvironment.step\u001b[0;34m(self, state, action)\u001b[0m\n\u001b[1;32m     63\u001b[0m \u001b[38;5;28;01mdef\u001b[39;00m \u001b[38;5;21mstep\u001b[39m(\u001b[38;5;28mself\u001b[39m, state: BaseEnvState, action: chex\u001b[38;5;241m.\u001b[39mArray) \u001b[38;5;241m-\u001b[39m\u001b[38;5;241m>\u001b[39m BaseEnvState:\n\u001b[0;32m---> 64\u001b[0m     \u001b[38;5;28;01mreturn\u001b[39;00m \u001b[38;5;28;43mself\u001b[39;49m\u001b[38;5;241;43m.\u001b[39;49m\u001b[43m_env\u001b[49m\u001b[38;5;241;43m.\u001b[39;49m\u001b[43mstep\u001b[49m\u001b[43m(\u001b[49m\u001b[43mstate\u001b[49m\u001b[38;5;241;43m=\u001b[39;49m\u001b[43mstate\u001b[49m\u001b[43m,\u001b[49m\u001b[43m \u001b[49m\u001b[43maction\u001b[49m\u001b[38;5;241;43m=\u001b[39;49m\u001b[43maction\u001b[49m\u001b[43m)\u001b[49m\n",
      "File \u001b[0;32m~/OneDrive/Documents/DOCUMENTEN/4_PhD/BSC/bsc/lib/python3.12/site-packages/moojoco/environment/base.py:230\u001b[0m, in \u001b[0;36mBaseMuJoCoEnvironment.step\u001b[0;34m(self, state, action)\u001b[0m\n\u001b[1;32m    228\u001b[0m \u001b[38;5;28;01mdef\u001b[39;00m \u001b[38;5;21mstep\u001b[39m(\u001b[38;5;28mself\u001b[39m, state: BaseEnvState, action: chex\u001b[38;5;241m.\u001b[39mArray) \u001b[38;5;241m-\u001b[39m\u001b[38;5;241m>\u001b[39m BaseEnvState:\n\u001b[1;32m    229\u001b[0m     previous_state \u001b[38;5;241m=\u001b[39m state\n\u001b[0;32m--> 230\u001b[0m     state \u001b[38;5;241m=\u001b[39m \u001b[38;5;28;43mself\u001b[39;49m\u001b[38;5;241;43m.\u001b[39;49m\u001b[43m_update_simulation\u001b[49m\u001b[43m(\u001b[49m\u001b[43mstate\u001b[49m\u001b[38;5;241;43m=\u001b[39;49m\u001b[43mstate\u001b[49m\u001b[43m,\u001b[49m\u001b[43m \u001b[49m\u001b[43mctrl\u001b[49m\u001b[38;5;241;43m=\u001b[39;49m\u001b[43maction\u001b[49m\u001b[43m)\u001b[49m\n\u001b[1;32m    232\u001b[0m     state \u001b[38;5;241m=\u001b[39m \u001b[38;5;28mself\u001b[39m\u001b[38;5;241m.\u001b[39m_update_observations(state\u001b[38;5;241m=\u001b[39mstate)\n\u001b[1;32m    233\u001b[0m     state \u001b[38;5;241m=\u001b[39m \u001b[38;5;28mself\u001b[39m\u001b[38;5;241m.\u001b[39m_update_reward(state\u001b[38;5;241m=\u001b[39mstate, previous_state\u001b[38;5;241m=\u001b[39mprevious_state)\n",
      "File \u001b[0;32m~/OneDrive/Documents/DOCUMENTEN/4_PhD/BSC/bsc/lib/python3.12/site-packages/moojoco/environment/mjx_env.py:177\u001b[0m, in \u001b[0;36mMJXEnv._update_simulation\u001b[0;34m(self, state, ctrl)\u001b[0m\n\u001b[1;32m    174\u001b[0m     _data \u001b[38;5;241m=\u001b[39m _data\u001b[38;5;241m.\u001b[39mreplace(ctrl\u001b[38;5;241m=\u001b[39mctrl)\n\u001b[1;32m    175\u001b[0m     \u001b[38;5;28;01mreturn\u001b[39;00m mjx\u001b[38;5;241m.\u001b[39mstep(state\u001b[38;5;241m.\u001b[39mmjx_model, _data), \u001b[38;5;28;01mNone\u001b[39;00m\n\u001b[0;32m--> 177\u001b[0m mjx_data, _ \u001b[38;5;241m=\u001b[39m \u001b[43mjax\u001b[49m\u001b[38;5;241;43m.\u001b[39;49m\u001b[43mlax\u001b[49m\u001b[38;5;241;43m.\u001b[39;49m\u001b[43mscan\u001b[49m\u001b[43m(\u001b[49m\n\u001b[1;32m    178\u001b[0m \u001b[43m    \u001b[49m\u001b[43m_simulation_step\u001b[49m\u001b[43m,\u001b[49m\n\u001b[1;32m    179\u001b[0m \u001b[43m    \u001b[49m\u001b[43mmjx_data\u001b[49m\u001b[43m,\u001b[49m\n\u001b[1;32m    180\u001b[0m \u001b[43m    \u001b[49m\u001b[43m(\u001b[49m\u001b[43m)\u001b[49m\u001b[43m,\u001b[49m\n\u001b[1;32m    181\u001b[0m \u001b[43m    \u001b[49m\u001b[38;5;28;43mself\u001b[39;49m\u001b[38;5;241;43m.\u001b[39;49m\u001b[43menvironment_configuration\u001b[49m\u001b[38;5;241;43m.\u001b[39;49m\u001b[43mnum_physics_steps_per_control_step\u001b[49m\u001b[43m,\u001b[49m\n\u001b[1;32m    182\u001b[0m \u001b[43m\u001b[49m\u001b[43m)\u001b[49m\n\u001b[1;32m    183\u001b[0m \u001b[38;5;66;03m# noinspection PyUnresolvedReferences\u001b[39;00m\n\u001b[1;32m    184\u001b[0m \u001b[38;5;28;01mreturn\u001b[39;00m state\u001b[38;5;241m.\u001b[39mreplace(mjx_data\u001b[38;5;241m=\u001b[39mmjx_data)\n",
      "    \u001b[0;31m[... skipping hidden 1 frame]\u001b[0m\n",
      "File \u001b[0;32m~/OneDrive/Documents/DOCUMENTEN/4_PhD/BSC/bsc/lib/python3.12/site-packages/jax/_src/lax/control_flow/loops.py:316\u001b[0m, in \u001b[0;36mscan\u001b[0;34m(f, init, xs, length, reverse, unroll, _split_transpose)\u001b[0m\n\u001b[1;32m    314\u001b[0m   in_flat \u001b[38;5;241m=\u001b[39m [\u001b[38;5;241m*\u001b[39min_state, \u001b[38;5;241m*\u001b[39min_carry, \u001b[38;5;241m*\u001b[39min_ext]\n\u001b[1;32m    315\u001b[0m   num_carry \u001b[38;5;241m+\u001b[39m\u001b[38;5;241m=\u001b[39m \u001b[38;5;28mlen\u001b[39m(attrs_tracked)\n\u001b[0;32m--> 316\u001b[0m out \u001b[38;5;241m=\u001b[39m \u001b[43mscan_p\u001b[49m\u001b[38;5;241;43m.\u001b[39;49m\u001b[43mbind\u001b[49m\u001b[43m(\u001b[49m\u001b[38;5;241;43m*\u001b[39;49m\u001b[43mconsts\u001b[49m\u001b[43m,\u001b[49m\u001b[43m \u001b[49m\u001b[38;5;241;43m*\u001b[39;49m\u001b[43min_flat\u001b[49m\u001b[43m,\u001b[49m\n\u001b[1;32m    317\u001b[0m \u001b[43m                  \u001b[49m\u001b[43mreverse\u001b[49m\u001b[38;5;241;43m=\u001b[39;49m\u001b[43mreverse\u001b[49m\u001b[43m,\u001b[49m\u001b[43m \u001b[49m\u001b[43mlength\u001b[49m\u001b[38;5;241;43m=\u001b[39;49m\u001b[43mlength\u001b[49m\u001b[43m,\u001b[49m\u001b[43m \u001b[49m\u001b[43mjaxpr\u001b[49m\u001b[38;5;241;43m=\u001b[39;49m\u001b[43mjaxpr\u001b[49m\u001b[43m,\u001b[49m\n\u001b[1;32m    318\u001b[0m \u001b[43m                  \u001b[49m\u001b[43mnum_consts\u001b[49m\u001b[38;5;241;43m=\u001b[39;49m\u001b[38;5;28;43mlen\u001b[39;49m\u001b[43m(\u001b[49m\u001b[43mconsts\u001b[49m\u001b[43m)\u001b[49m\u001b[43m,\u001b[49m\u001b[43m \u001b[49m\u001b[43mnum_carry\u001b[49m\u001b[38;5;241;43m=\u001b[39;49m\u001b[43mnum_carry\u001b[49m\u001b[43m,\u001b[49m\n\u001b[1;32m    319\u001b[0m \u001b[43m                  \u001b[49m\u001b[43mlinear\u001b[49m\u001b[38;5;241;43m=\u001b[39;49m\u001b[43m(\u001b[49m\u001b[38;5;28;43;01mFalse\u001b[39;49;00m\u001b[43m,\u001b[49m\u001b[43m)\u001b[49m\u001b[43m \u001b[49m\u001b[38;5;241;43m*\u001b[39;49m\u001b[43m \u001b[49m\u001b[43m(\u001b[49m\u001b[38;5;28;43mlen\u001b[39;49m\u001b[43m(\u001b[49m\u001b[43mconsts\u001b[49m\u001b[43m)\u001b[49m\u001b[43m \u001b[49m\u001b[38;5;241;43m+\u001b[39;49m\u001b[43m \u001b[49m\u001b[38;5;28;43mlen\u001b[39;49m\u001b[43m(\u001b[49m\u001b[43min_flat\u001b[49m\u001b[43m)\u001b[49m\u001b[43m)\u001b[49m\u001b[43m,\u001b[49m\n\u001b[1;32m    320\u001b[0m \u001b[43m                  \u001b[49m\u001b[43munroll\u001b[49m\u001b[38;5;241;43m=\u001b[39;49m\u001b[43munroll\u001b[49m\u001b[43m,\u001b[49m\n\u001b[1;32m    321\u001b[0m \u001b[43m                  \u001b[49m\u001b[43m_split_transpose\u001b[49m\u001b[38;5;241;43m=\u001b[39;49m\u001b[43m_split_transpose\u001b[49m\u001b[43m)\u001b[49m\n\u001b[1;32m    322\u001b[0m \u001b[38;5;28;01mif\u001b[39;00m attrs_tracked:\n\u001b[1;32m    323\u001b[0m   out_state, out \u001b[38;5;241m=\u001b[39m split_list(out, [\u001b[38;5;28mlen\u001b[39m(attrs_tracked)])\n",
      "File \u001b[0;32m~/OneDrive/Documents/DOCUMENTEN/4_PhD/BSC/bsc/lib/python3.12/site-packages/jax/_src/lax/control_flow/loops.py:1218\u001b[0m, in \u001b[0;36mscan_bind\u001b[0;34m(*args, **params)\u001b[0m\n\u001b[1;32m   1216\u001b[0m   _scan_typecheck(\u001b[38;5;28;01mTrue\u001b[39;00m, \u001b[38;5;241m*\u001b[39min_atoms, \u001b[38;5;241m*\u001b[39m\u001b[38;5;241m*\u001b[39mparams)\n\u001b[1;32m   1217\u001b[0m   core\u001b[38;5;241m.\u001b[39mcheck_jaxpr(params[\u001b[38;5;124m'\u001b[39m\u001b[38;5;124mjaxpr\u001b[39m\u001b[38;5;124m'\u001b[39m]\u001b[38;5;241m.\u001b[39mjaxpr)\n\u001b[0;32m-> 1218\u001b[0m \u001b[38;5;28;01mreturn\u001b[39;00m \u001b[43mcore\u001b[49m\u001b[38;5;241;43m.\u001b[39;49m\u001b[43mAxisPrimitive\u001b[49m\u001b[38;5;241;43m.\u001b[39;49m\u001b[43mbind\u001b[49m\u001b[43m(\u001b[49m\u001b[43mscan_p\u001b[49m\u001b[43m,\u001b[49m\u001b[43m \u001b[49m\u001b[38;5;241;43m*\u001b[39;49m\u001b[43margs\u001b[49m\u001b[43m,\u001b[49m\u001b[43m \u001b[49m\u001b[38;5;241;43m*\u001b[39;49m\u001b[38;5;241;43m*\u001b[39;49m\u001b[43mparams\u001b[49m\u001b[43m)\u001b[49m\n",
      "File \u001b[0;32m~/OneDrive/Documents/DOCUMENTEN/4_PhD/BSC/bsc/lib/python3.12/site-packages/jax/_src/core.py:2803\u001b[0m, in \u001b[0;36mAxisPrimitive.bind\u001b[0;34m(self, *args, **params)\u001b[0m\n\u001b[1;32m   2799\u001b[0m axis_main \u001b[38;5;241m=\u001b[39m \u001b[38;5;28mmax\u001b[39m((axis_frame(a)\u001b[38;5;241m.\u001b[39mmain_trace \u001b[38;5;28;01mfor\u001b[39;00m a \u001b[38;5;129;01min\u001b[39;00m used_axis_names(\u001b[38;5;28mself\u001b[39m, params)),\n\u001b[1;32m   2800\u001b[0m                 default\u001b[38;5;241m=\u001b[39m\u001b[38;5;28;01mNone\u001b[39;00m, key\u001b[38;5;241m=\u001b[39m\u001b[38;5;28;01mlambda\u001b[39;00m t: \u001b[38;5;28mgetattr\u001b[39m(t, \u001b[38;5;124m'\u001b[39m\u001b[38;5;124mlevel\u001b[39m\u001b[38;5;124m'\u001b[39m, \u001b[38;5;241m-\u001b[39m\u001b[38;5;241m1\u001b[39m))\n\u001b[1;32m   2801\u001b[0m top_trace \u001b[38;5;241m=\u001b[39m (top_trace \u001b[38;5;28;01mif\u001b[39;00m \u001b[38;5;129;01mnot\u001b[39;00m axis_main \u001b[38;5;129;01mor\u001b[39;00m axis_main\u001b[38;5;241m.\u001b[39mlevel \u001b[38;5;241m<\u001b[39m top_trace\u001b[38;5;241m.\u001b[39mlevel\n\u001b[1;32m   2802\u001b[0m              \u001b[38;5;28;01melse\u001b[39;00m axis_main\u001b[38;5;241m.\u001b[39mwith_cur_sublevel())\n\u001b[0;32m-> 2803\u001b[0m \u001b[38;5;28;01mreturn\u001b[39;00m \u001b[38;5;28;43mself\u001b[39;49m\u001b[38;5;241;43m.\u001b[39;49m\u001b[43mbind_with_trace\u001b[49m\u001b[43m(\u001b[49m\u001b[43mtop_trace\u001b[49m\u001b[43m,\u001b[49m\u001b[43m \u001b[49m\u001b[43margs\u001b[49m\u001b[43m,\u001b[49m\u001b[43m \u001b[49m\u001b[43mparams\u001b[49m\u001b[43m)\u001b[49m\n",
      "File \u001b[0;32m~/OneDrive/Documents/DOCUMENTEN/4_PhD/BSC/bsc/lib/python3.12/site-packages/jax/_src/core.py:442\u001b[0m, in \u001b[0;36mPrimitive.bind_with_trace\u001b[0;34m(self, trace, args, params)\u001b[0m\n\u001b[1;32m    440\u001b[0m \u001b[38;5;28;01mdef\u001b[39;00m \u001b[38;5;21mbind_with_trace\u001b[39m(\u001b[38;5;28mself\u001b[39m, trace, args, params):\n\u001b[1;32m    441\u001b[0m   \u001b[38;5;28;01mwith\u001b[39;00m pop_level(trace\u001b[38;5;241m.\u001b[39mlevel):\n\u001b[0;32m--> 442\u001b[0m     out \u001b[38;5;241m=\u001b[39m \u001b[43mtrace\u001b[49m\u001b[38;5;241;43m.\u001b[39;49m\u001b[43mprocess_primitive\u001b[49m\u001b[43m(\u001b[49m\u001b[38;5;28;43mself\u001b[39;49m\u001b[43m,\u001b[49m\u001b[43m \u001b[49m\u001b[38;5;28;43mmap\u001b[39;49m\u001b[43m(\u001b[49m\u001b[43mtrace\u001b[49m\u001b[38;5;241;43m.\u001b[39;49m\u001b[43mfull_raise\u001b[49m\u001b[43m,\u001b[49m\u001b[43m \u001b[49m\u001b[43margs\u001b[49m\u001b[43m)\u001b[49m\u001b[43m,\u001b[49m\u001b[43m \u001b[49m\u001b[43mparams\u001b[49m\u001b[43m)\u001b[49m\n\u001b[1;32m    443\u001b[0m   \u001b[38;5;28;01mreturn\u001b[39;00m \u001b[38;5;28mmap\u001b[39m(full_lower, out) \u001b[38;5;28;01mif\u001b[39;00m \u001b[38;5;28mself\u001b[39m\u001b[38;5;241m.\u001b[39mmultiple_results \u001b[38;5;28;01melse\u001b[39;00m full_lower(out)\n",
      "File \u001b[0;32m~/OneDrive/Documents/DOCUMENTEN/4_PhD/BSC/bsc/lib/python3.12/site-packages/jax/_src/core.py:955\u001b[0m, in \u001b[0;36mEvalTrace.process_primitive\u001b[0;34m(self, primitive, tracers, params)\u001b[0m\n\u001b[1;32m    953\u001b[0m   \u001b[38;5;28;01mreturn\u001b[39;00m call_impl_with_key_reuse_checks(primitive, primitive\u001b[38;5;241m.\u001b[39mimpl, \u001b[38;5;241m*\u001b[39mtracers, \u001b[38;5;241m*\u001b[39m\u001b[38;5;241m*\u001b[39mparams)\n\u001b[1;32m    954\u001b[0m \u001b[38;5;28;01melse\u001b[39;00m:\n\u001b[0;32m--> 955\u001b[0m   \u001b[38;5;28;01mreturn\u001b[39;00m \u001b[43mprimitive\u001b[49m\u001b[38;5;241;43m.\u001b[39;49m\u001b[43mimpl\u001b[49m\u001b[43m(\u001b[49m\u001b[38;5;241;43m*\u001b[39;49m\u001b[43mtracers\u001b[49m\u001b[43m,\u001b[49m\u001b[43m \u001b[49m\u001b[38;5;241;43m*\u001b[39;49m\u001b[38;5;241;43m*\u001b[39;49m\u001b[43mparams\u001b[49m\u001b[43m)\u001b[49m\n",
      "File \u001b[0;32m~/OneDrive/Documents/DOCUMENTEN/4_PhD/BSC/bsc/lib/python3.12/site-packages/jax/_src/dispatch.py:91\u001b[0m, in \u001b[0;36mapply_primitive\u001b[0;34m(prim, *args, **params)\u001b[0m\n\u001b[1;32m     89\u001b[0m prev \u001b[38;5;241m=\u001b[39m lib\u001b[38;5;241m.\u001b[39mjax_jit\u001b[38;5;241m.\u001b[39mswap_thread_local_state_disable_jit(\u001b[38;5;28;01mFalse\u001b[39;00m)\n\u001b[1;32m     90\u001b[0m \u001b[38;5;28;01mtry\u001b[39;00m:\n\u001b[0;32m---> 91\u001b[0m   outs \u001b[38;5;241m=\u001b[39m \u001b[43mfun\u001b[49m\u001b[43m(\u001b[49m\u001b[38;5;241;43m*\u001b[39;49m\u001b[43margs\u001b[49m\u001b[43m)\u001b[49m\n\u001b[1;32m     92\u001b[0m \u001b[38;5;28;01mfinally\u001b[39;00m:\n\u001b[1;32m     93\u001b[0m   lib\u001b[38;5;241m.\u001b[39mjax_jit\u001b[38;5;241m.\u001b[39mswap_thread_local_state_disable_jit(prev)\n",
      "    \u001b[0;31m[... skipping hidden 1 frame]\u001b[0m\n",
      "File \u001b[0;32m~/OneDrive/Documents/DOCUMENTEN/4_PhD/BSC/bsc/lib/python3.12/site-packages/jax/_src/pjit.py:338\u001b[0m, in \u001b[0;36m_cpp_pjit.<locals>.cache_miss\u001b[0;34m(*args, **kwargs)\u001b[0m\n\u001b[1;32m    335\u001b[0m \u001b[38;5;28;01mif\u001b[39;00m config\u001b[38;5;241m.\u001b[39mno_tracing\u001b[38;5;241m.\u001b[39mvalue:\n\u001b[1;32m    336\u001b[0m   \u001b[38;5;28;01mraise\u001b[39;00m \u001b[38;5;167;01mRuntimeError\u001b[39;00m(\u001b[38;5;124mf\u001b[39m\u001b[38;5;124m\"\u001b[39m\u001b[38;5;124mre-tracing function \u001b[39m\u001b[38;5;132;01m{\u001b[39;00mjit_info\u001b[38;5;241m.\u001b[39mfun_sourceinfo\u001b[38;5;132;01m}\u001b[39;00m\u001b[38;5;124m for \u001b[39m\u001b[38;5;124m\"\u001b[39m\n\u001b[1;32m    337\u001b[0m                      \u001b[38;5;124m\"\u001b[39m\u001b[38;5;124m`jit`, but \u001b[39m\u001b[38;5;124m'\u001b[39m\u001b[38;5;124mno_tracing\u001b[39m\u001b[38;5;124m'\u001b[39m\u001b[38;5;124m is set\u001b[39m\u001b[38;5;124m\"\u001b[39m)\n\u001b[0;32m--> 338\u001b[0m outs, out_flat, out_tree, args_flat, jaxpr, attrs_tracked \u001b[38;5;241m=\u001b[39m \u001b[43m_python_pjit_helper\u001b[49m\u001b[43m(\u001b[49m\n\u001b[1;32m    339\u001b[0m \u001b[43m    \u001b[49m\u001b[43mfun\u001b[49m\u001b[43m,\u001b[49m\u001b[43m \u001b[49m\u001b[43mjit_info\u001b[49m\u001b[43m,\u001b[49m\u001b[43m \u001b[49m\u001b[38;5;241;43m*\u001b[39;49m\u001b[43margs\u001b[49m\u001b[43m,\u001b[49m\u001b[43m \u001b[49m\u001b[38;5;241;43m*\u001b[39;49m\u001b[38;5;241;43m*\u001b[39;49m\u001b[43mkwargs\u001b[49m\u001b[43m)\u001b[49m\n\u001b[1;32m    340\u001b[0m executable \u001b[38;5;241m=\u001b[39m _read_most_recent_pjit_call_executable(jaxpr)\n\u001b[1;32m    341\u001b[0m pgle_profiler \u001b[38;5;241m=\u001b[39m _read_pgle_profiler(jaxpr)\n",
      "File \u001b[0;32m~/OneDrive/Documents/DOCUMENTEN/4_PhD/BSC/bsc/lib/python3.12/site-packages/jax/_src/pjit.py:188\u001b[0m, in \u001b[0;36m_python_pjit_helper\u001b[0;34m(fun, jit_info, *args, **kwargs)\u001b[0m\n\u001b[1;32m    185\u001b[0m   args_flat \u001b[38;5;241m=\u001b[39m [\u001b[38;5;241m*\u001b[39minit_states, \u001b[38;5;241m*\u001b[39margs_flat]\n\u001b[1;32m    187\u001b[0m \u001b[38;5;28;01mtry\u001b[39;00m:\n\u001b[0;32m--> 188\u001b[0m   out_flat \u001b[38;5;241m=\u001b[39m \u001b[43mpjit_p\u001b[49m\u001b[38;5;241;43m.\u001b[39;49m\u001b[43mbind\u001b[49m\u001b[43m(\u001b[49m\u001b[38;5;241;43m*\u001b[39;49m\u001b[43margs_flat\u001b[49m\u001b[43m,\u001b[49m\u001b[43m \u001b[49m\u001b[38;5;241;43m*\u001b[39;49m\u001b[38;5;241;43m*\u001b[39;49m\u001b[43mp\u001b[49m\u001b[38;5;241;43m.\u001b[39;49m\u001b[43mparams\u001b[49m\u001b[43m)\u001b[49m\n\u001b[1;32m    189\u001b[0m \u001b[38;5;28;01mexcept\u001b[39;00m pxla\u001b[38;5;241m.\u001b[39mDeviceAssignmentMismatchError \u001b[38;5;28;01mas\u001b[39;00m e:\n\u001b[1;32m    190\u001b[0m   fails, \u001b[38;5;241m=\u001b[39m e\u001b[38;5;241m.\u001b[39margs\n",
      "File \u001b[0;32m~/OneDrive/Documents/DOCUMENTEN/4_PhD/BSC/bsc/lib/python3.12/site-packages/jax/_src/core.py:2803\u001b[0m, in \u001b[0;36mAxisPrimitive.bind\u001b[0;34m(self, *args, **params)\u001b[0m\n\u001b[1;32m   2799\u001b[0m axis_main \u001b[38;5;241m=\u001b[39m \u001b[38;5;28mmax\u001b[39m((axis_frame(a)\u001b[38;5;241m.\u001b[39mmain_trace \u001b[38;5;28;01mfor\u001b[39;00m a \u001b[38;5;129;01min\u001b[39;00m used_axis_names(\u001b[38;5;28mself\u001b[39m, params)),\n\u001b[1;32m   2800\u001b[0m                 default\u001b[38;5;241m=\u001b[39m\u001b[38;5;28;01mNone\u001b[39;00m, key\u001b[38;5;241m=\u001b[39m\u001b[38;5;28;01mlambda\u001b[39;00m t: \u001b[38;5;28mgetattr\u001b[39m(t, \u001b[38;5;124m'\u001b[39m\u001b[38;5;124mlevel\u001b[39m\u001b[38;5;124m'\u001b[39m, \u001b[38;5;241m-\u001b[39m\u001b[38;5;241m1\u001b[39m))\n\u001b[1;32m   2801\u001b[0m top_trace \u001b[38;5;241m=\u001b[39m (top_trace \u001b[38;5;28;01mif\u001b[39;00m \u001b[38;5;129;01mnot\u001b[39;00m axis_main \u001b[38;5;129;01mor\u001b[39;00m axis_main\u001b[38;5;241m.\u001b[39mlevel \u001b[38;5;241m<\u001b[39m top_trace\u001b[38;5;241m.\u001b[39mlevel\n\u001b[1;32m   2802\u001b[0m              \u001b[38;5;28;01melse\u001b[39;00m axis_main\u001b[38;5;241m.\u001b[39mwith_cur_sublevel())\n\u001b[0;32m-> 2803\u001b[0m \u001b[38;5;28;01mreturn\u001b[39;00m \u001b[38;5;28;43mself\u001b[39;49m\u001b[38;5;241;43m.\u001b[39;49m\u001b[43mbind_with_trace\u001b[49m\u001b[43m(\u001b[49m\u001b[43mtop_trace\u001b[49m\u001b[43m,\u001b[49m\u001b[43m \u001b[49m\u001b[43margs\u001b[49m\u001b[43m,\u001b[49m\u001b[43m \u001b[49m\u001b[43mparams\u001b[49m\u001b[43m)\u001b[49m\n",
      "File \u001b[0;32m~/OneDrive/Documents/DOCUMENTEN/4_PhD/BSC/bsc/lib/python3.12/site-packages/jax/_src/core.py:442\u001b[0m, in \u001b[0;36mPrimitive.bind_with_trace\u001b[0;34m(self, trace, args, params)\u001b[0m\n\u001b[1;32m    440\u001b[0m \u001b[38;5;28;01mdef\u001b[39;00m \u001b[38;5;21mbind_with_trace\u001b[39m(\u001b[38;5;28mself\u001b[39m, trace, args, params):\n\u001b[1;32m    441\u001b[0m   \u001b[38;5;28;01mwith\u001b[39;00m pop_level(trace\u001b[38;5;241m.\u001b[39mlevel):\n\u001b[0;32m--> 442\u001b[0m     out \u001b[38;5;241m=\u001b[39m \u001b[43mtrace\u001b[49m\u001b[38;5;241;43m.\u001b[39;49m\u001b[43mprocess_primitive\u001b[49m\u001b[43m(\u001b[49m\u001b[38;5;28;43mself\u001b[39;49m\u001b[43m,\u001b[49m\u001b[43m \u001b[49m\u001b[38;5;28;43mmap\u001b[39;49m\u001b[43m(\u001b[49m\u001b[43mtrace\u001b[49m\u001b[38;5;241;43m.\u001b[39;49m\u001b[43mfull_raise\u001b[49m\u001b[43m,\u001b[49m\u001b[43m \u001b[49m\u001b[43margs\u001b[49m\u001b[43m)\u001b[49m\u001b[43m,\u001b[49m\u001b[43m \u001b[49m\u001b[43mparams\u001b[49m\u001b[43m)\u001b[49m\n\u001b[1;32m    443\u001b[0m   \u001b[38;5;28;01mreturn\u001b[39;00m \u001b[38;5;28mmap\u001b[39m(full_lower, out) \u001b[38;5;28;01mif\u001b[39;00m \u001b[38;5;28mself\u001b[39m\u001b[38;5;241m.\u001b[39mmultiple_results \u001b[38;5;28;01melse\u001b[39;00m full_lower(out)\n",
      "File \u001b[0;32m~/OneDrive/Documents/DOCUMENTEN/4_PhD/BSC/bsc/lib/python3.12/site-packages/jax/_src/core.py:955\u001b[0m, in \u001b[0;36mEvalTrace.process_primitive\u001b[0;34m(self, primitive, tracers, params)\u001b[0m\n\u001b[1;32m    953\u001b[0m   \u001b[38;5;28;01mreturn\u001b[39;00m call_impl_with_key_reuse_checks(primitive, primitive\u001b[38;5;241m.\u001b[39mimpl, \u001b[38;5;241m*\u001b[39mtracers, \u001b[38;5;241m*\u001b[39m\u001b[38;5;241m*\u001b[39mparams)\n\u001b[1;32m    954\u001b[0m \u001b[38;5;28;01melse\u001b[39;00m:\n\u001b[0;32m--> 955\u001b[0m   \u001b[38;5;28;01mreturn\u001b[39;00m \u001b[43mprimitive\u001b[49m\u001b[38;5;241;43m.\u001b[39;49m\u001b[43mimpl\u001b[49m\u001b[43m(\u001b[49m\u001b[38;5;241;43m*\u001b[39;49m\u001b[43mtracers\u001b[49m\u001b[43m,\u001b[49m\u001b[43m \u001b[49m\u001b[38;5;241;43m*\u001b[39;49m\u001b[38;5;241;43m*\u001b[39;49m\u001b[43mparams\u001b[49m\u001b[43m)\u001b[49m\n",
      "File \u001b[0;32m~/OneDrive/Documents/DOCUMENTEN/4_PhD/BSC/bsc/lib/python3.12/site-packages/jax/_src/pjit.py:1738\u001b[0m, in \u001b[0;36m_pjit_call_impl\u001b[0;34m(jaxpr, in_shardings, out_shardings, in_layouts, out_layouts, resource_env, donated_invars, name, keep_unused, inline, *args)\u001b[0m\n\u001b[1;32m   1729\u001b[0m donated_argnums \u001b[38;5;241m=\u001b[39m \u001b[38;5;28mtuple\u001b[39m(i \u001b[38;5;28;01mfor\u001b[39;00m i, d \u001b[38;5;129;01min\u001b[39;00m \u001b[38;5;28menumerate\u001b[39m(donated_invars) \u001b[38;5;28;01mif\u001b[39;00m d)\n\u001b[1;32m   1730\u001b[0m cache_key \u001b[38;5;241m=\u001b[39m pxla\u001b[38;5;241m.\u001b[39mJitGlobalCppCacheKeys(\n\u001b[1;32m   1731\u001b[0m     donate_argnums\u001b[38;5;241m=\u001b[39mdonated_argnums, donate_argnames\u001b[38;5;241m=\u001b[39m\u001b[38;5;28;01mNone\u001b[39;00m,\n\u001b[1;32m   1732\u001b[0m     device\u001b[38;5;241m=\u001b[39m\u001b[38;5;28;01mNone\u001b[39;00m, backend\u001b[38;5;241m=\u001b[39m\u001b[38;5;28;01mNone\u001b[39;00m,\n\u001b[0;32m   (...)\u001b[0m\n\u001b[1;32m   1736\u001b[0m     out_layouts_treedef\u001b[38;5;241m=\u001b[39m\u001b[38;5;28;01mNone\u001b[39;00m, out_layouts_leaves\u001b[38;5;241m=\u001b[39mout_layouts,\n\u001b[1;32m   1737\u001b[0m     use_resource_env\u001b[38;5;241m=\u001b[39mresource_env \u001b[38;5;129;01mis\u001b[39;00m \u001b[38;5;129;01mnot\u001b[39;00m \u001b[38;5;28;01mNone\u001b[39;00m)\n\u001b[0;32m-> 1738\u001b[0m \u001b[38;5;28;01mreturn\u001b[39;00m \u001b[43mxc\u001b[49m\u001b[38;5;241;43m.\u001b[39;49m\u001b[43m_xla\u001b[49m\u001b[38;5;241;43m.\u001b[39;49m\u001b[43mpjit\u001b[49m\u001b[43m(\u001b[49m\n\u001b[1;32m   1739\u001b[0m \u001b[43m    \u001b[49m\u001b[43mname\u001b[49m\u001b[43m,\u001b[49m\u001b[43m \u001b[49m\u001b[43mf\u001b[49m\u001b[43m,\u001b[49m\u001b[43m \u001b[49m\u001b[43mcall_impl_cache_miss\u001b[49m\u001b[43m,\u001b[49m\u001b[43m \u001b[49m\u001b[43m[\u001b[49m\u001b[43m]\u001b[49m\u001b[43m,\u001b[49m\u001b[43m \u001b[49m\u001b[43m[\u001b[49m\u001b[43m]\u001b[49m\u001b[43m,\u001b[49m\u001b[43m \u001b[49m\u001b[43mcache_key\u001b[49m\u001b[43m,\u001b[49m\n\u001b[1;32m   1740\u001b[0m \u001b[43m    \u001b[49m\u001b[43mtree_util\u001b[49m\u001b[38;5;241;43m.\u001b[39;49m\u001b[43mdispatch_registry\u001b[49m\u001b[43m,\u001b[49m\u001b[43m \u001b[49m\u001b[43mpxla\u001b[49m\u001b[38;5;241;43m.\u001b[39;49m\u001b[43mcc_shard_arg\u001b[49m\u001b[43m,\u001b[49m\n\u001b[1;32m   1741\u001b[0m \u001b[43m    \u001b[49m\u001b[43m_get_cpp_global_cache\u001b[49m\u001b[43m(\u001b[49m\u001b[43mcache_key\u001b[49m\u001b[38;5;241;43m.\u001b[39;49m\u001b[43mcontains_explicit_attributes\u001b[49m\u001b[43m)\u001b[49m\u001b[43m)\u001b[49m\u001b[43m(\u001b[49m\u001b[38;5;241;43m*\u001b[39;49m\u001b[43margs\u001b[49m\u001b[43m)\u001b[49m\n",
      "File \u001b[0;32m~/OneDrive/Documents/DOCUMENTEN/4_PhD/BSC/bsc/lib/python3.12/site-packages/jax/_src/pjit.py:1714\u001b[0m, in \u001b[0;36m_pjit_call_impl.<locals>.call_impl_cache_miss\u001b[0;34m(*args_, **kwargs_)\u001b[0m\n\u001b[1;32m   1713\u001b[0m \u001b[38;5;28;01mdef\u001b[39;00m \u001b[38;5;21mcall_impl_cache_miss\u001b[39m(\u001b[38;5;241m*\u001b[39margs_, \u001b[38;5;241m*\u001b[39m\u001b[38;5;241m*\u001b[39mkwargs_):\n\u001b[0;32m-> 1714\u001b[0m   out_flat, compiled \u001b[38;5;241m=\u001b[39m \u001b[43m_pjit_call_impl_python\u001b[49m\u001b[43m(\u001b[49m\n\u001b[1;32m   1715\u001b[0m \u001b[43m      \u001b[49m\u001b[38;5;241;43m*\u001b[39;49m\u001b[43margs\u001b[49m\u001b[43m,\u001b[49m\u001b[43m \u001b[49m\u001b[43mjaxpr\u001b[49m\u001b[38;5;241;43m=\u001b[39;49m\u001b[43mjaxpr\u001b[49m\u001b[43m,\u001b[49m\u001b[43m \u001b[49m\u001b[43min_shardings\u001b[49m\u001b[38;5;241;43m=\u001b[39;49m\u001b[43min_shardings\u001b[49m\u001b[43m,\u001b[49m\n\u001b[1;32m   1716\u001b[0m \u001b[43m      \u001b[49m\u001b[43mout_shardings\u001b[49m\u001b[38;5;241;43m=\u001b[39;49m\u001b[43mout_shardings\u001b[49m\u001b[43m,\u001b[49m\u001b[43m \u001b[49m\u001b[43min_layouts\u001b[49m\u001b[38;5;241;43m=\u001b[39;49m\u001b[43min_layouts\u001b[49m\u001b[43m,\u001b[49m\n\u001b[1;32m   1717\u001b[0m \u001b[43m      \u001b[49m\u001b[43mout_layouts\u001b[49m\u001b[38;5;241;43m=\u001b[39;49m\u001b[43mout_layouts\u001b[49m\u001b[43m,\u001b[49m\u001b[43m \u001b[49m\u001b[43mresource_env\u001b[49m\u001b[38;5;241;43m=\u001b[39;49m\u001b[43mresource_env\u001b[49m\u001b[43m,\u001b[49m\n\u001b[1;32m   1718\u001b[0m \u001b[43m      \u001b[49m\u001b[43mdonated_invars\u001b[49m\u001b[38;5;241;43m=\u001b[39;49m\u001b[43mdonated_invars\u001b[49m\u001b[43m,\u001b[49m\u001b[43m \u001b[49m\u001b[43mname\u001b[49m\u001b[38;5;241;43m=\u001b[39;49m\u001b[43mname\u001b[49m\u001b[43m,\u001b[49m\u001b[43m \u001b[49m\u001b[43mkeep_unused\u001b[49m\u001b[38;5;241;43m=\u001b[39;49m\u001b[43mkeep_unused\u001b[49m\u001b[43m,\u001b[49m\n\u001b[1;32m   1719\u001b[0m \u001b[43m      \u001b[49m\u001b[43minline\u001b[49m\u001b[38;5;241;43m=\u001b[39;49m\u001b[43minline\u001b[49m\u001b[43m)\u001b[49m\n\u001b[1;32m   1720\u001b[0m   pgle_profiler \u001b[38;5;241m=\u001b[39m _read_pgle_profiler(jaxpr)\n\u001b[1;32m   1721\u001b[0m   fastpath_data \u001b[38;5;241m=\u001b[39m _get_fastpath_data(\n\u001b[1;32m   1722\u001b[0m       compiled, tree_structure(out_flat), args, out_flat, [], jaxpr\u001b[38;5;241m.\u001b[39meffects,\n\u001b[1;32m   1723\u001b[0m       jaxpr\u001b[38;5;241m.\u001b[39mconsts, \u001b[38;5;28;01mNone\u001b[39;00m, pgle_profiler)\n",
      "File \u001b[0;32m~/OneDrive/Documents/DOCUMENTEN/4_PhD/BSC/bsc/lib/python3.12/site-packages/jax/_src/pjit.py:1644\u001b[0m, in \u001b[0;36m_pjit_call_impl_python\u001b[0;34m(jaxpr, in_shardings, out_shardings, in_layouts, out_layouts, resource_env, donated_invars, name, keep_unused, inline, *args)\u001b[0m\n\u001b[1;32m   1631\u001b[0m     compile_options \u001b[38;5;241m=\u001b[39m {\u001b[38;5;124m'\u001b[39m\u001b[38;5;124mfdo_profile\u001b[39m\u001b[38;5;124m'\u001b[39m: fdo_profile}\n\u001b[1;32m   1633\u001b[0m \u001b[38;5;66;03m# TODO(patrios): Do not pass mutable profile session through cached lowering\u001b[39;00m\n\u001b[1;32m   1634\u001b[0m \u001b[38;5;66;03m# chain. Instead we need to move profilers dictionary to pxla module and use\u001b[39;00m\n\u001b[1;32m   1635\u001b[0m \u001b[38;5;66;03m# module as key. Right now we can't do that since there is no way to evict _pjit_lower_cached cache for in PGLE mode.\u001b[39;00m\n\u001b[1;32m   1636\u001b[0m compiled \u001b[38;5;241m=\u001b[39m \u001b[43m_resolve_and_lower\u001b[49m\u001b[43m(\u001b[49m\n\u001b[1;32m   1637\u001b[0m \u001b[43m    \u001b[49m\u001b[43margs\u001b[49m\u001b[43m,\u001b[49m\u001b[43m \u001b[49m\u001b[43mjaxpr\u001b[49m\u001b[38;5;241;43m=\u001b[39;49m\u001b[43mjaxpr\u001b[49m\u001b[43m,\u001b[49m\u001b[43m \u001b[49m\u001b[43min_shardings\u001b[49m\u001b[38;5;241;43m=\u001b[39;49m\u001b[43min_shardings\u001b[49m\u001b[43m,\u001b[49m\n\u001b[1;32m   1638\u001b[0m \u001b[43m    \u001b[49m\u001b[43mout_shardings\u001b[49m\u001b[38;5;241;43m=\u001b[39;49m\u001b[43mout_shardings\u001b[49m\u001b[43m,\u001b[49m\u001b[43m \u001b[49m\u001b[43min_layouts\u001b[49m\u001b[38;5;241;43m=\u001b[39;49m\u001b[43min_layouts\u001b[49m\u001b[43m,\u001b[49m\n\u001b[1;32m   1639\u001b[0m \u001b[43m    \u001b[49m\u001b[43mout_layouts\u001b[49m\u001b[38;5;241;43m=\u001b[39;49m\u001b[43mout_layouts\u001b[49m\u001b[43m,\u001b[49m\u001b[43m \u001b[49m\u001b[43mresource_env\u001b[49m\u001b[38;5;241;43m=\u001b[39;49m\u001b[43mresource_env\u001b[49m\u001b[43m,\u001b[49m\n\u001b[1;32m   1640\u001b[0m \u001b[43m    \u001b[49m\u001b[43mdonated_invars\u001b[49m\u001b[38;5;241;43m=\u001b[39;49m\u001b[43mdonated_invars\u001b[49m\u001b[43m,\u001b[49m\u001b[43m \u001b[49m\u001b[43mname\u001b[49m\u001b[38;5;241;43m=\u001b[39;49m\u001b[43mname\u001b[49m\u001b[43m,\u001b[49m\u001b[43m \u001b[49m\u001b[43mkeep_unused\u001b[49m\u001b[38;5;241;43m=\u001b[39;49m\u001b[43mkeep_unused\u001b[49m\u001b[43m,\u001b[49m\n\u001b[1;32m   1641\u001b[0m \u001b[43m    \u001b[49m\u001b[43minline\u001b[49m\u001b[38;5;241;43m=\u001b[39;49m\u001b[43minline\u001b[49m\u001b[43m,\u001b[49m\u001b[43m \u001b[49m\u001b[43mlowering_platforms\u001b[49m\u001b[38;5;241;43m=\u001b[39;49m\u001b[38;5;28;43;01mNone\u001b[39;49;00m\u001b[43m,\u001b[49m\n\u001b[1;32m   1642\u001b[0m \u001b[43m    \u001b[49m\u001b[43mlowering_parameters\u001b[49m\u001b[38;5;241;43m=\u001b[39;49m\u001b[43mmlir\u001b[49m\u001b[38;5;241;43m.\u001b[39;49m\u001b[43mLoweringParameters\u001b[49m\u001b[43m(\u001b[49m\u001b[43m)\u001b[49m\u001b[43m,\u001b[49m\n\u001b[1;32m   1643\u001b[0m \u001b[43m    \u001b[49m\u001b[43mpgle_profiler\u001b[49m\u001b[38;5;241;43m=\u001b[39;49m\u001b[43mpgle_profiler\u001b[49m\n\u001b[0;32m-> 1644\u001b[0m \u001b[43m\u001b[49m\u001b[43m)\u001b[49m\u001b[38;5;241;43m.\u001b[39;49m\u001b[43mcompile\u001b[49m\u001b[43m(\u001b[49m\u001b[43mcompile_options\u001b[49m\u001b[43m)\u001b[49m\n\u001b[1;32m   1646\u001b[0m _most_recent_pjit_call_executable\u001b[38;5;241m.\u001b[39mweak_key_dict[jaxpr] \u001b[38;5;241m=\u001b[39m compiled\n\u001b[1;32m   1647\u001b[0m \u001b[38;5;66;03m# This check is expensive so only do it if enable_checks is on.\u001b[39;00m\n",
      "File \u001b[0;32m~/OneDrive/Documents/DOCUMENTEN/4_PhD/BSC/bsc/lib/python3.12/site-packages/jax/_src/interpreters/pxla.py:2345\u001b[0m, in \u001b[0;36mMeshComputation.compile\u001b[0;34m(self, compiler_options)\u001b[0m\n\u001b[1;32m   2343\u001b[0m \u001b[38;5;28;01mdef\u001b[39;00m \u001b[38;5;21mcompile\u001b[39m(\u001b[38;5;28mself\u001b[39m, compiler_options\u001b[38;5;241m=\u001b[39m\u001b[38;5;28;01mNone\u001b[39;00m) \u001b[38;5;241m-\u001b[39m\u001b[38;5;241m>\u001b[39m MeshExecutable:\n\u001b[1;32m   2344\u001b[0m   \u001b[38;5;28;01mif\u001b[39;00m \u001b[38;5;28mself\u001b[39m\u001b[38;5;241m.\u001b[39m_executable \u001b[38;5;129;01mis\u001b[39;00m \u001b[38;5;28;01mNone\u001b[39;00m \u001b[38;5;129;01mor\u001b[39;00m compiler_options \u001b[38;5;129;01mis\u001b[39;00m \u001b[38;5;129;01mnot\u001b[39;00m \u001b[38;5;28;01mNone\u001b[39;00m:\n\u001b[0;32m-> 2345\u001b[0m     executable \u001b[38;5;241m=\u001b[39m \u001b[43mUnloadedMeshExecutable\u001b[49m\u001b[38;5;241;43m.\u001b[39;49m\u001b[43mfrom_hlo\u001b[49m\u001b[43m(\u001b[49m\n\u001b[1;32m   2346\u001b[0m \u001b[43m        \u001b[49m\u001b[38;5;28;43mself\u001b[39;49m\u001b[38;5;241;43m.\u001b[39;49m\u001b[43m_name\u001b[49m\u001b[43m,\u001b[49m\u001b[43m \u001b[49m\u001b[38;5;28;43mself\u001b[39;49m\u001b[38;5;241;43m.\u001b[39;49m\u001b[43m_hlo\u001b[49m\u001b[43m,\u001b[49m\u001b[43m \u001b[49m\u001b[38;5;241;43m*\u001b[39;49m\u001b[38;5;241;43m*\u001b[39;49m\u001b[38;5;28;43mself\u001b[39;49m\u001b[38;5;241;43m.\u001b[39;49m\u001b[43mcompile_args\u001b[49m\u001b[43m,\u001b[49m\n\u001b[1;32m   2347\u001b[0m \u001b[43m        \u001b[49m\u001b[43mcompiler_options\u001b[49m\u001b[38;5;241;43m=\u001b[39;49m\u001b[43mcompiler_options\u001b[49m\u001b[43m)\u001b[49m\n\u001b[1;32m   2348\u001b[0m     \u001b[38;5;28;01mif\u001b[39;00m compiler_options \u001b[38;5;129;01mis\u001b[39;00m \u001b[38;5;28;01mNone\u001b[39;00m:\n\u001b[1;32m   2349\u001b[0m       \u001b[38;5;28mself\u001b[39m\u001b[38;5;241m.\u001b[39m_executable \u001b[38;5;241m=\u001b[39m executable\n",
      "File \u001b[0;32m~/OneDrive/Documents/DOCUMENTEN/4_PhD/BSC/bsc/lib/python3.12/site-packages/jax/_src/interpreters/pxla.py:2854\u001b[0m, in \u001b[0;36mUnloadedMeshExecutable.from_hlo\u001b[0;34m(***failed resolving arguments***)\u001b[0m\n\u001b[1;32m   2851\u001b[0m       mesh \u001b[38;5;241m=\u001b[39m i\u001b[38;5;241m.\u001b[39mmesh  \u001b[38;5;66;03m# type: ignore\u001b[39;00m\n\u001b[1;32m   2852\u001b[0m       \u001b[38;5;28;01mbreak\u001b[39;00m\n\u001b[0;32m-> 2854\u001b[0m xla_executable \u001b[38;5;241m=\u001b[39m \u001b[43m_cached_compilation\u001b[49m\u001b[43m(\u001b[49m\n\u001b[1;32m   2855\u001b[0m \u001b[43m    \u001b[49m\u001b[43mhlo\u001b[49m\u001b[43m,\u001b[49m\u001b[43m \u001b[49m\u001b[43mname\u001b[49m\u001b[43m,\u001b[49m\u001b[43m \u001b[49m\u001b[43mmesh\u001b[49m\u001b[43m,\u001b[49m\u001b[43m \u001b[49m\u001b[43mspmd_lowering\u001b[49m\u001b[43m,\u001b[49m\n\u001b[1;32m   2856\u001b[0m \u001b[43m    \u001b[49m\u001b[43mtuple_args\u001b[49m\u001b[43m,\u001b[49m\u001b[43m \u001b[49m\u001b[43mauto_spmd_lowering\u001b[49m\u001b[43m,\u001b[49m\u001b[43m \u001b[49m\u001b[43mallow_prop_to_inputs\u001b[49m\u001b[43m,\u001b[49m\n\u001b[1;32m   2857\u001b[0m \u001b[43m    \u001b[49m\u001b[43mallow_prop_to_outputs\u001b[49m\u001b[43m,\u001b[49m\u001b[43m \u001b[49m\u001b[38;5;28;43mtuple\u001b[39;49m\u001b[43m(\u001b[49m\u001b[43mhost_callbacks\u001b[49m\u001b[43m)\u001b[49m\u001b[43m,\u001b[49m\u001b[43m \u001b[49m\u001b[43mbackend\u001b[49m\u001b[43m,\u001b[49m\u001b[43m \u001b[49m\u001b[43mda\u001b[49m\u001b[43m,\u001b[49m\u001b[43m \u001b[49m\u001b[43mpmap_nreps\u001b[49m\u001b[43m,\u001b[49m\n\u001b[1;32m   2858\u001b[0m \u001b[43m    \u001b[49m\u001b[43mcompiler_options_keys\u001b[49m\u001b[43m,\u001b[49m\u001b[43m \u001b[49m\u001b[43mcompiler_options_values\u001b[49m\u001b[43m,\u001b[49m\u001b[43m \u001b[49m\u001b[43mpgle_profiler\u001b[49m\u001b[43m)\u001b[49m\n\u001b[1;32m   2860\u001b[0m \u001b[38;5;28;01mif\u001b[39;00m auto_spmd_lowering:\n\u001b[1;32m   2861\u001b[0m   \u001b[38;5;28;01massert\u001b[39;00m mesh \u001b[38;5;129;01mis\u001b[39;00m \u001b[38;5;129;01mnot\u001b[39;00m \u001b[38;5;28;01mNone\u001b[39;00m\n",
      "File \u001b[0;32m~/OneDrive/Documents/DOCUMENTEN/4_PhD/BSC/bsc/lib/python3.12/site-packages/jax/_src/interpreters/pxla.py:2666\u001b[0m, in \u001b[0;36m_cached_compilation\u001b[0;34m(computation, name, mesh, spmd_lowering, tuple_args, auto_spmd_lowering, allow_prop_to_inputs, allow_prop_to_outputs, host_callbacks, backend, da, pmap_nreps, compiler_options_keys, compiler_options_values, pgle_profiler)\u001b[0m\n\u001b[1;32m   2658\u001b[0m compile_options \u001b[38;5;241m=\u001b[39m create_compile_options(\n\u001b[1;32m   2659\u001b[0m     computation, mesh, spmd_lowering, tuple_args, auto_spmd_lowering,\n\u001b[1;32m   2660\u001b[0m     allow_prop_to_inputs, allow_prop_to_outputs, backend,\n\u001b[1;32m   2661\u001b[0m     dev, pmap_nreps, compiler_options)\n\u001b[1;32m   2663\u001b[0m \u001b[38;5;28;01mwith\u001b[39;00m dispatch\u001b[38;5;241m.\u001b[39mlog_elapsed_time(\n\u001b[1;32m   2664\u001b[0m     \u001b[38;5;124m\"\u001b[39m\u001b[38;5;124mFinished XLA compilation of \u001b[39m\u001b[38;5;132;01m{fun_name}\u001b[39;00m\u001b[38;5;124m in \u001b[39m\u001b[38;5;132;01m{elapsed_time:.9f}\u001b[39;00m\u001b[38;5;124m sec\u001b[39m\u001b[38;5;124m\"\u001b[39m,\n\u001b[1;32m   2665\u001b[0m     fun_name\u001b[38;5;241m=\u001b[39mname, event\u001b[38;5;241m=\u001b[39mdispatch\u001b[38;5;241m.\u001b[39mBACKEND_COMPILE_EVENT):\n\u001b[0;32m-> 2666\u001b[0m   xla_executable \u001b[38;5;241m=\u001b[39m \u001b[43mcompiler\u001b[49m\u001b[38;5;241;43m.\u001b[39;49m\u001b[43mcompile_or_get_cached\u001b[49m\u001b[43m(\u001b[49m\n\u001b[1;32m   2667\u001b[0m \u001b[43m      \u001b[49m\u001b[43mbackend\u001b[49m\u001b[43m,\u001b[49m\u001b[43m \u001b[49m\u001b[43mcomputation\u001b[49m\u001b[43m,\u001b[49m\u001b[43m \u001b[49m\u001b[43mdev\u001b[49m\u001b[43m,\u001b[49m\u001b[43m \u001b[49m\u001b[43mcompile_options\u001b[49m\u001b[43m,\u001b[49m\u001b[43m \u001b[49m\u001b[43mhost_callbacks\u001b[49m\u001b[43m,\u001b[49m\n\u001b[1;32m   2668\u001b[0m \u001b[43m      \u001b[49m\u001b[43mpgle_profiler\u001b[49m\u001b[43m)\u001b[49m\n\u001b[1;32m   2669\u001b[0m \u001b[38;5;28;01mreturn\u001b[39;00m xla_executable\n",
      "File \u001b[0;32m~/OneDrive/Documents/DOCUMENTEN/4_PhD/BSC/bsc/lib/python3.12/site-packages/jax/_src/compiler.py:434\u001b[0m, in \u001b[0;36mcompile_or_get_cached\u001b[0;34m(backend, computation, devices, compile_options, host_callbacks, pgle_profiler)\u001b[0m\n\u001b[1;32m    432\u001b[0m \u001b[38;5;28;01melse\u001b[39;00m:\n\u001b[1;32m    433\u001b[0m   log_persistent_cache_miss(module_name, cache_key)\n\u001b[0;32m--> 434\u001b[0m   \u001b[38;5;28;01mreturn\u001b[39;00m \u001b[43m_compile_and_write_cache\u001b[49m\u001b[43m(\u001b[49m\n\u001b[1;32m    435\u001b[0m \u001b[43m      \u001b[49m\u001b[43mbackend\u001b[49m\u001b[43m,\u001b[49m\n\u001b[1;32m    436\u001b[0m \u001b[43m      \u001b[49m\u001b[43mcomputation\u001b[49m\u001b[43m,\u001b[49m\n\u001b[1;32m    437\u001b[0m \u001b[43m      \u001b[49m\u001b[43mcompile_options\u001b[49m\u001b[43m,\u001b[49m\n\u001b[1;32m    438\u001b[0m \u001b[43m      \u001b[49m\u001b[43mhost_callbacks\u001b[49m\u001b[43m,\u001b[49m\n\u001b[1;32m    439\u001b[0m \u001b[43m      \u001b[49m\u001b[43mmodule_name\u001b[49m\u001b[43m,\u001b[49m\n\u001b[1;32m    440\u001b[0m \u001b[43m      \u001b[49m\u001b[43mcache_key\u001b[49m\u001b[43m,\u001b[49m\n\u001b[1;32m    441\u001b[0m \u001b[43m  \u001b[49m\u001b[43m)\u001b[49m\n",
      "File \u001b[0;32m~/OneDrive/Documents/DOCUMENTEN/4_PhD/BSC/bsc/lib/python3.12/site-packages/jax/_src/compiler.py:662\u001b[0m, in \u001b[0;36m_compile_and_write_cache\u001b[0;34m(backend, computation, compile_options, host_callbacks, module_name, cache_key)\u001b[0m\n\u001b[1;32m    653\u001b[0m \u001b[38;5;28;01mdef\u001b[39;00m \u001b[38;5;21m_compile_and_write_cache\u001b[39m(\n\u001b[1;32m    654\u001b[0m     backend: xc\u001b[38;5;241m.\u001b[39mClient,\n\u001b[1;32m    655\u001b[0m     computation: ir\u001b[38;5;241m.\u001b[39mModule,\n\u001b[0;32m   (...)\u001b[0m\n\u001b[1;32m    659\u001b[0m     cache_key: \u001b[38;5;28mstr\u001b[39m,\n\u001b[1;32m    660\u001b[0m ) \u001b[38;5;241m-\u001b[39m\u001b[38;5;241m>\u001b[39m xc\u001b[38;5;241m.\u001b[39mLoadedExecutable:\n\u001b[1;32m    661\u001b[0m   start_time \u001b[38;5;241m=\u001b[39m time\u001b[38;5;241m.\u001b[39mmonotonic()\n\u001b[0;32m--> 662\u001b[0m   executable \u001b[38;5;241m=\u001b[39m \u001b[43mbackend_compile\u001b[49m\u001b[43m(\u001b[49m\n\u001b[1;32m    663\u001b[0m \u001b[43m      \u001b[49m\u001b[43mbackend\u001b[49m\u001b[43m,\u001b[49m\u001b[43m \u001b[49m\u001b[43mcomputation\u001b[49m\u001b[43m,\u001b[49m\u001b[43m \u001b[49m\u001b[43mcompile_options\u001b[49m\u001b[43m,\u001b[49m\u001b[43m \u001b[49m\u001b[43mhost_callbacks\u001b[49m\n\u001b[1;32m    664\u001b[0m \u001b[43m  \u001b[49m\u001b[43m)\u001b[49m\n\u001b[1;32m    665\u001b[0m   compile_time \u001b[38;5;241m=\u001b[39m time\u001b[38;5;241m.\u001b[39mmonotonic() \u001b[38;5;241m-\u001b[39m start_time\n\u001b[1;32m    666\u001b[0m   _cache_write(\n\u001b[1;32m    667\u001b[0m       cache_key, compile_time, module_name, backend, executable, host_callbacks\n\u001b[1;32m    668\u001b[0m   )\n",
      "File \u001b[0;32m~/OneDrive/Documents/DOCUMENTEN/4_PhD/BSC/bsc/lib/python3.12/site-packages/jax/_src/profiler.py:333\u001b[0m, in \u001b[0;36mannotate_function.<locals>.wrapper\u001b[0;34m(*args, **kwargs)\u001b[0m\n\u001b[1;32m    330\u001b[0m \u001b[38;5;129m@wraps\u001b[39m(func)\n\u001b[1;32m    331\u001b[0m \u001b[38;5;28;01mdef\u001b[39;00m \u001b[38;5;21mwrapper\u001b[39m(\u001b[38;5;241m*\u001b[39margs, \u001b[38;5;241m*\u001b[39m\u001b[38;5;241m*\u001b[39mkwargs):\n\u001b[1;32m    332\u001b[0m   \u001b[38;5;28;01mwith\u001b[39;00m TraceAnnotation(name, \u001b[38;5;241m*\u001b[39m\u001b[38;5;241m*\u001b[39mdecorator_kwargs):\n\u001b[0;32m--> 333\u001b[0m     \u001b[38;5;28;01mreturn\u001b[39;00m \u001b[43mfunc\u001b[49m\u001b[43m(\u001b[49m\u001b[38;5;241;43m*\u001b[39;49m\u001b[43margs\u001b[49m\u001b[43m,\u001b[49m\u001b[43m \u001b[49m\u001b[38;5;241;43m*\u001b[39;49m\u001b[38;5;241;43m*\u001b[39;49m\u001b[43mkwargs\u001b[49m\u001b[43m)\u001b[49m\n\u001b[1;32m    334\u001b[0m   \u001b[38;5;28;01mreturn\u001b[39;00m wrapper\n",
      "File \u001b[0;32m~/OneDrive/Documents/DOCUMENTEN/4_PhD/BSC/bsc/lib/python3.12/site-packages/jax/_src/compiler.py:267\u001b[0m, in \u001b[0;36mbackend_compile\u001b[0;34m(backend, module, options, host_callbacks)\u001b[0m\n\u001b[1;32m    261\u001b[0m     \u001b[38;5;28;01mreturn\u001b[39;00m backend\u001b[38;5;241m.\u001b[39mcompile(\n\u001b[1;32m    262\u001b[0m         built_c, compile_options\u001b[38;5;241m=\u001b[39moptions, host_callbacks\u001b[38;5;241m=\u001b[39mhost_callbacks\n\u001b[1;32m    263\u001b[0m     )\n\u001b[1;32m    264\u001b[0m   \u001b[38;5;66;03m# Some backends don't have `host_callbacks` option yet\u001b[39;00m\n\u001b[1;32m    265\u001b[0m   \u001b[38;5;66;03m# TODO(sharadmv): remove this fallback when all backends allow `compile`\u001b[39;00m\n\u001b[1;32m    266\u001b[0m   \u001b[38;5;66;03m# to take in `host_callbacks`\u001b[39;00m\n\u001b[0;32m--> 267\u001b[0m   \u001b[38;5;28;01mreturn\u001b[39;00m \u001b[43mbackend\u001b[49m\u001b[38;5;241;43m.\u001b[39;49m\u001b[43mcompile\u001b[49m\u001b[43m(\u001b[49m\u001b[43mbuilt_c\u001b[49m\u001b[43m,\u001b[49m\u001b[43m \u001b[49m\u001b[43mcompile_options\u001b[49m\u001b[38;5;241;43m=\u001b[39;49m\u001b[43moptions\u001b[49m\u001b[43m)\u001b[49m\n\u001b[1;32m    268\u001b[0m \u001b[38;5;28;01mexcept\u001b[39;00m xc\u001b[38;5;241m.\u001b[39mXlaRuntimeError \u001b[38;5;28;01mas\u001b[39;00m e:\n\u001b[1;32m    269\u001b[0m   \u001b[38;5;28;01mfor\u001b[39;00m error_handler \u001b[38;5;129;01min\u001b[39;00m _XLA_RUNTIME_ERROR_HANDLERS:\n",
      "\u001b[0;31mKeyboardInterrupt\u001b[0m: "
     ]
    }
   ],
   "source": [
    "rng, rng_reset = jax.random.split(rng, 2)\n",
    "env_state = env_container.env.reset(rng_reset)\n",
    "mjx_frames = []\n",
    "\n",
    "i = 0\n",
    "while not jnp.any(env_state.terminated | env_state.truncated):\n",
    "    if i%10 == 0:\n",
    "        print(i)\n",
    "    i += 1\n",
    "    \n",
    "    sensory_input = jnp.concatenate(\n",
    "        [env_state.observations[label] for label in config[\"environment\"][\"sensor_selection\"]],\n",
    "        # axis = 1\n",
    "    )\n",
    "\n",
    "    start_action = time.time()\n",
    "    action,_ = cons_contr.apply(cons_contr_params, sensory_input)\n",
    "    print(f\"action rollout time = {time.time()-start_action}\")\n",
    "\n",
    "    start_env_step = time.time()\n",
    "    env_state = env_container.env.step(state=env_state, action=action)\n",
    "    print(f\"env step time = {time.time()-start_env_step}\")\n",
    "    \n",
    "    mjx_frames.append(\n",
    "            post_render(\n",
    "                env_container.env.render(state=env_state),\n",
    "                env_container.env.environment_configuration\n",
    "                )\n",
    "            )\n",
    "show_video(images=mjx_frames)"
   ]
  },
  {
   "cell_type": "code",
   "execution_count": null,
   "metadata": {},
   "outputs": [],
   "source": []
  }
 ],
 "metadata": {
  "kernelspec": {
   "display_name": "bsc",
   "language": "python",
   "name": "python3"
  },
  "language_info": {
   "codemirror_mode": {
    "name": "ipython",
    "version": 3
   },
   "file_extension": ".py",
   "mimetype": "text/x-python",
   "name": "python",
   "nbconvert_exporter": "python",
   "pygments_lexer": "ipython3",
   "version": "3.12.3"
  }
 },
 "nbformat": 4,
 "nbformat_minor": 2
}

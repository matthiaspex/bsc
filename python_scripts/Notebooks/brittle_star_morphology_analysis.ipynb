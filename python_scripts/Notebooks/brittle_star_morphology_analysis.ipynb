{
 "cells": [
  {
   "cell_type": "markdown",
   "metadata": {},
   "source": [
    "# Brittle Star Morphology Analysis\n",
    "## Order of sensory and actuator arrays"
   ]
  },
  {
   "cell_type": "code",
   "execution_count": 1,
   "metadata": {},
   "outputs": [
    {
     "name": "stdout",
     "output_type": "stream",
     "text": [
      "/home/idlab515/OneDrive/Documents/DOCUMENTEN/4_PhD/BSC/bsc/bin/python\n",
      "/home/idlab515/OneDrive/Documents/DOCUMENTEN/4_PhD/BSC/\n",
      "/home/idlab515/OneDrive/Documents/DOCUMENTEN/4_PhD/BSC/bsc/bin/python\n",
      "sys.path:  ['/home/idlab515/OneDrive/Documents/DOCUMENTEN/4_PhD/BSC/', '/home/idlab515/OneDrive/Documents/DOCUMENTEN/4_PhD/BSC/python_scripts/Notebooks', '/home/idlab515/OneDrive/Documents/DOCUMENTEN/4_PhD/BSC/bsc_utils', '/home/idlab515/OneDrive/Documents/DOCUMENTEN/4_PhD/BSC', '/usr/lib/python312.zip', '/usr/lib/python3.12', '/usr/lib/python3.12/lib-dynload', '', '/home/idlab515/OneDrive/Documents/DOCUMENTEN/4_PhD/BSC/bsc/lib/python3.12/site-packages']\n"
     ]
    }
   ],
   "source": [
    "import sys\n",
    "print(sys.executable)\n",
    "\n",
    "import os\n",
    "pythonpath = os.environ[\"HOME\"]+\"/OneDrive/Documents/DOCUMENTEN/4_PhD/BSC/\"\n",
    "print(pythonpath)\n",
    "\n",
    "import sys\n",
    "print(sys.executable)\n",
    "sys.path.insert(0, pythonpath)\n",
    "\n",
    "print(\"sys.path: \", sys.path)"
   ]
  },
  {
   "cell_type": "code",
   "execution_count": 33,
   "metadata": {},
   "outputs": [],
   "source": [
    "import os\n",
    "\n",
    "import numpy as np\n",
    "import jax\n",
    "from jax import numpy as jnp\n",
    "from evosax import OpenES, FitnessShaper\n",
    "import time\n",
    "import wandb\n",
    "import flax\n",
    "\n",
    "import mediapy as media\n",
    "\n",
    "from bsc_utils.controller.base import ExplicitMLP, NNController\n",
    "from bsc_utils.controller.hebbian import HebbianController\n",
    "from bsc_utils.simulate.train import Trainer\n",
    "from bsc_utils.simulate.analyze import Simulator\n",
    "from bsc_utils.simulate.base import rollout\n",
    "from bsc_utils.miscellaneous import check_GPU_access, load_config_from_yaml, \\\n",
    "    store_config_and_policy_params, get_run_name_from_config, complete_sensor_selection, \\\n",
    "    get_target_positions\n",
    "from bsc_utils.evolution import efficiency_from_reward_cost, fitness_from_stacked_data\n",
    "from bsc_utils.BrittleStarEnv import EnvContainer\n",
    "from bsc_utils.visualization import post_render\n",
    "\n",
    "jnp.set_printoptions(precision=3, suppress=False, linewidth=100)\n",
    "rng = jax.random.PRNGKey(2024)\n"
   ]
  },
  {
   "cell_type": "code",
   "execution_count": 44,
   "metadata": {},
   "outputs": [
    {
     "name": "stderr",
     "output_type": "stream",
     "text": [
      "WARNING:root:Failed to initialize GPU. Everything will run on the cpu.\n"
     ]
    },
    {
     "name": "stdout",
     "output_type": "stream",
     "text": [
      "VSC\n",
      "Checking that the mujoco installation succeeded:\n",
      "MuJoCo installation successful.\n"
     ]
    }
   ],
   "source": [
    "base_dir_path = '/home/idlab515/OneDrive/Documents/DOCUMENTEN/4_PhD/BSC/'\n",
    "\n",
    "CONFIG_FILE = base_dir_path + \"config/general_bsc.yaml\"\n",
    "config = load_config_from_yaml(CONFIG_FILE)\n",
    "print(config[\"experiment\"][\"interface\"])\n",
    "check_GPU_access(interface=config[\"experiment\"][\"interface\"])"
   ]
  },
  {
   "cell_type": "code",
   "execution_count": 45,
   "metadata": {},
   "outputs": [
    {
     "data": {
      "text/html": [
       "<table class=\"show_images\" style=\"border-spacing:0px;\"><tr><td style=\"padding:1px;\"><img width=\"320\" height=\"240\" style=\"image-rendering:auto; object-fit:cover;\" src=\"data:image/png;base64,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\"/></td></tr></table>"
      ],
      "text/plain": [
       "<IPython.core.display.HTML object>"
      ]
     },
     "metadata": {},
     "output_type": "display_data"
    },
    {
     "data": {
      "text/html": [
       "<table class=\"show_images\" style=\"border-spacing:0px;\"><tr><td style=\"padding:1px;\"><img width=\"320\" height=\"240\" style=\"image-rendering:auto; object-fit:cover;\" src=\"data:image/png;base64,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\"/></td></tr></table>"
      ],
      "text/plain": [
       "<IPython.core.display.HTML object>"
      ]
     },
     "metadata": {},
     "output_type": "display_data"
    }
   ],
   "source": [
    "env_container = EnvContainer(config)\n",
    "env_container.generate_env()\n",
    "env_container.visualize_morphology()\n",
    "env_container.visualize_arena()\n"
   ]
  },
  {
   "cell_type": "code",
   "execution_count": 46,
   "metadata": {},
   "outputs": [
    {
     "name": "stdout",
     "output_type": "stream",
     "text": [
      "MJX Observatin Space:\n",
      "\tDict('joint_position': Box(-0.5235988, 0.5235988, (20,), <class 'jax.numpy.float32'>), 'joint_velocity': Box(-inf, inf, (20,), <class 'jax.numpy.float32'>), 'joint_actuator_force': Box(-inf, inf, (20,), <class 'jax.numpy.float32'>), 'actuator_force': Box([-5.  -5.  -4.5 -4.5 -4.  -4.  -3.5 -3.5 -3.  -3.  -5.  -5.  -4.5 -4.5 -4.  -4.  -3.5 -3.5 -3.\n",
      " -3. ], [5.  5.  4.5 4.5 4.  4.  3.5 3.5 3.  3.  5.  5.  4.5 4.5 4.  4.  3.5 3.5 3.  3. ], (20,), <class 'jax.numpy.float32'>), 'disk_position': Box(-inf, inf, (3,), <class 'jax.numpy.float32'>), 'disk_rotation': Box(-3.1415927, 3.1415927, (3,), <class 'jax.numpy.float32'>), 'disk_linear_velocity': Box(-inf, inf, (3,), <class 'jax.numpy.float32'>), 'disk_angular_velocity': Box(-inf, inf, (3,), <class 'jax.numpy.float32'>), 'segment_contact': Box(0.0, 1.0, (10,), <class 'jax.numpy.float32'>), 'segment_light_intake': Box(0.0, 1.0, (10,), <class 'jax.numpy.float32'>))\n",
      "MJX Action Space:\n",
      "\tBox(-0.5235988, 0.5235988, (20,), <class 'jax.numpy.float32'>)\n",
      "First 5 actuators:\n",
      "\tMJX: ['BrittleStarMorphology/arm_0_segment_0_in_plane_joint_p_control', 'BrittleStarMorphology/arm_0_segment_0_out_of_plane_joint_p_control', 'BrittleStarMorphology/arm_0_segment_1_in_plane_joint_p_control', 'BrittleStarMorphology/arm_0_segment_1_out_of_plane_joint_p_control', 'BrittleStarMorphology/arm_0_segment_2_in_plane_joint_p_control']\n"
     ]
    }
   ],
   "source": [
    "print(\"MJX Observatin Space:\")\n",
    "print(f\"\\t{env_container.env.observation_space}\")\n",
    "\n",
    "print(\"MJX Action Space:\")\n",
    "print(f\"\\t{env_container.env.action_space}\")\n",
    "\n",
    "print(\"First 5 actuators:\")\n",
    "print(f\"\\tMJX: {env_container.env.actuators[:5]}\")\n",
    "\n"
   ]
  },
  {
   "cell_type": "code",
   "execution_count": 47,
   "metadata": {},
   "outputs": [
    {
     "name": "stdout",
     "output_type": "stream",
     "text": [
      "{'joint_position': Array([0., 0., 0., 0., 0., 0., 0., 0., 0., 0., 0., 0., 0., 0., 0., 0., 0., 0., 0., 0.], dtype=float32), 'joint_velocity': Array([0., 0., 0., 0., 0., 0., 0., 0., 0., 0., 0., 0., 0., 0., 0., 0., 0., 0., 0., 0.], dtype=float32), 'joint_actuator_force': Array([0., 0., 0., 0., 0., 0., 0., 0., 0., 0., 0., 0., 0., 0., 0., 0., 0., 0., 0., 0.], dtype=float32), 'actuator_force': Array([0., 0., 0., 0., 0., 0., 0., 0., 0., 0., 0., 0., 0., 0., 0., 0., 0., 0., 0., 0.], dtype=float32), 'disk_position': Array([-3.  ,  0.  ,  0.11], dtype=float32), 'disk_rotation': Array([-3.142,  0.   ,  0.   ], dtype=float32), 'disk_linear_velocity': Array([0., 0., 0.], dtype=float32), 'disk_angular_velocity': Array([0., 0., 0.], dtype=float32), 'segment_contact': Array([0, 0, 0, 0, 0, 0, 0, 0, 0, 0], dtype=int32), 'segment_light_intake': Array([0.849, 0.834, 0.824, 0.814, 0.804, 0.869, 0.864, 0.859, 0.854, 0.854], dtype=float32)}\n",
      "dict_keys(['joint_position', 'joint_velocity', 'joint_actuator_force', 'actuator_force', 'disk_position', 'disk_rotation', 'disk_linear_velocity', 'disk_angular_velocity', 'segment_contact', 'segment_light_intake'])\n"
     ]
    }
   ],
   "source": [
    "rng, rng_dummy_state = jax.random.split(rng, 2)\n",
    "env_container.generate_dummy_state(rng_dummy_state)\n",
    "print(env_container.dummy_state.observations)\n",
    "print(env_container.dummy_state.observations.keys())"
   ]
  },
  {
   "cell_type": "code",
   "execution_count": 34,
   "metadata": {},
   "outputs": [
    {
     "name": "stdout",
     "output_type": "stream",
     "text": [
      "[ 0.5  0.   0.   0.   0.   0.   0.   0.   0.   0.   0.  -0.5  0.   0.   0.   0.   0.   0.   0.\n",
      "  0. ]\n"
     ]
    }
   ],
   "source": [
    "dummy_action = np.zeros(len(env_container.env.actuators))\n",
    "dummy_action[0] = 0.5\n",
    "dummy_action[11] = -0.5\n",
    "print(dummy_action)"
   ]
  },
  {
   "cell_type": "code",
   "execution_count": 37,
   "metadata": {},
   "outputs": [
    {
     "name": "stderr",
     "output_type": "stream",
     "text": [
      "/home/idlab515/OneDrive/Documents/DOCUMENTEN/4_PhD/BSC/bsc/lib/python3.12/site-packages/jax/_src/interpreters/xla.py:133: RuntimeWarning: overflow encountered in cast\n",
      "  return np.asarray(x, dtypes.canonicalize_dtype(x.dtype))\n",
      "/home/idlab515/OneDrive/Documents/DOCUMENTEN/4_PhD/BSC/bsc/lib/python3.12/site-packages/jax/_src/interpreters/xla.py:133: RuntimeWarning: overflow encountered in cast\n",
      "  return np.asarray(x, dtypes.canonicalize_dtype(x.dtype))\n",
      "/home/idlab515/OneDrive/Documents/DOCUMENTEN/4_PhD/BSC/bsc/lib/python3.12/site-packages/jax/_src/interpreters/xla.py:133: RuntimeWarning: overflow encountered in cast\n",
      "  return np.asarray(x, dtypes.canonicalize_dtype(x.dtype))\n",
      "/home/idlab515/OneDrive/Documents/DOCUMENTEN/4_PhD/BSC/bsc/lib/python3.12/site-packages/jax/_src/interpreters/xla.py:133: RuntimeWarning: overflow encountered in cast\n",
      "  return np.asarray(x, dtypes.canonicalize_dtype(x.dtype))\n",
      "/home/idlab515/OneDrive/Documents/DOCUMENTEN/4_PhD/BSC/bsc/lib/python3.12/site-packages/jax/_src/interpreters/xla.py:133: RuntimeWarning: overflow encountered in cast\n",
      "  return np.asarray(x, dtypes.canonicalize_dtype(x.dtype))\n",
      "/home/idlab515/OneDrive/Documents/DOCUMENTEN/4_PhD/BSC/bsc/lib/python3.12/site-packages/jax/_src/interpreters/xla.py:133: RuntimeWarning: overflow encountered in cast\n",
      "  return np.asarray(x, dtypes.canonicalize_dtype(x.dtype))\n",
      "/home/idlab515/OneDrive/Documents/DOCUMENTEN/4_PhD/BSC/bsc/lib/python3.12/site-packages/jax/_src/interpreters/xla.py:133: RuntimeWarning: overflow encountered in cast\n",
      "  return np.asarray(x, dtypes.canonicalize_dtype(x.dtype))\n",
      "/home/idlab515/OneDrive/Documents/DOCUMENTEN/4_PhD/BSC/bsc/lib/python3.12/site-packages/jax/_src/interpreters/xla.py:133: RuntimeWarning: overflow encountered in cast\n",
      "  return np.asarray(x, dtypes.canonicalize_dtype(x.dtype))\n",
      "/home/idlab515/OneDrive/Documents/DOCUMENTEN/4_PhD/BSC/bsc/lib/python3.12/site-packages/jax/_src/interpreters/xla.py:133: RuntimeWarning: overflow encountered in cast\n",
      "  return np.asarray(x, dtypes.canonicalize_dtype(x.dtype))\n",
      "/home/idlab515/OneDrive/Documents/DOCUMENTEN/4_PhD/BSC/bsc/lib/python3.12/site-packages/jax/_src/interpreters/xla.py:133: RuntimeWarning: overflow encountered in cast\n",
      "  return np.asarray(x, dtypes.canonicalize_dtype(x.dtype))\n"
     ]
    },
    {
     "name": "stdout",
     "output_type": "stream",
     "text": [
      "[ 0.51  -0.017 -0.035 -0.012 -0.016 -0.007 -0.005 -0.003 -0.001 -0.001  0.007 -0.453 -0.008  0.053\n",
      " -0.007  0.044 -0.003  0.024 -0.001  0.011]\n"
     ]
    },
    {
     "data": {
      "text/html": [
       "<table class=\"show_images\" style=\"border-spacing:0px;\"><tr><td style=\"padding:1px;\"><img width=\"1280\" height=\"480\" style=\"image-rendering:auto; object-fit:cover;\" src=\"data:image/png;base64,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\"/></td></tr></table>"
      ],
      "text/plain": [
       "<IPython.core.display.HTML object>"
      ]
     },
     "metadata": {},
     "output_type": "display_data"
    }
   ],
   "source": [
    "for i in range(10):\n",
    "    env_container.dummy_state = env_container.env.step(state=env_container.dummy_state, action=dummy_action)\n",
    "print(env_container.dummy_state.observations[\"joint_position\"])\n",
    "env_container.visualize_dummy_state()"
   ]
  },
  {
   "cell_type": "code",
   "execution_count": 39,
   "metadata": {},
   "outputs": [
    {
     "name": "stdout",
     "output_type": "stream",
     "text": [
      "{'joint_position': Array([ 0.51 , -0.017, -0.035, -0.012, -0.016, -0.007, -0.005, -0.003, -0.001, -0.001,  0.007,\n",
      "       -0.453, -0.008,  0.053, -0.007,  0.044, -0.003,  0.024, -0.001,  0.011], dtype=float32), 'joint_velocity': Array([-0.016, -0.778,  0.533, -0.062, -0.36 ,  0.033, -0.324,  0.018, -0.09 ,  0.004, -0.298,\n",
      "       -0.316,  0.775,  0.917,  0.057,  0.266, -0.744, -0.373, -0.289,  0.01 ], dtype=float32), 'joint_actuator_force': Array([-0.506,  0.856,  1.727,  0.578,  0.8  ,  0.347,  0.27 ,  0.147,  0.049,  0.031, -0.33 ,\n",
      "       -2.327,  0.382, -2.625,  0.371, -2.189,  0.149, -1.181,  0.061, -0.554], dtype=float32), 'actuator_force': Array([-0.506,  0.856,  1.727,  0.578,  0.8  ,  0.347,  0.27 ,  0.147,  0.049,  0.031, -0.33 ,\n",
      "       -2.327,  0.382, -2.625,  0.371, -2.189,  0.149, -1.181,  0.061, -0.554], dtype=float32), 'disk_position': Array([-5.139e-07,  1.771e-03,  4.224e-02], dtype=float32), 'disk_rotation': Array([-3.035e+00,  1.023e-04,  2.687e-01], dtype=float32), 'disk_linear_velocity': Array([ 0.004,  0.01 , -0.028], dtype=float32), 'disk_angular_velocity': Array([-0.283,  0.037, -0.024], dtype=float32), 'segment_contact': Array([0, 0, 0, 0, 0, 0, 0, 0, 0, 1], dtype=int32)}\n",
      "dict_keys(['joint_position', 'joint_velocity', 'joint_actuator_force', 'actuator_force', 'disk_position', 'disk_rotation', 'disk_linear_velocity', 'disk_angular_velocity', 'segment_contact'])\n"
     ]
    }
   ],
   "source": [
    "print(env_container.dummy_state.observations)\n",
    "print(env_container.dummy_state.observations.keys())"
   ]
  },
  {
   "cell_type": "code",
   "execution_count": null,
   "metadata": {},
   "outputs": [],
   "source": []
  }
 ],
 "metadata": {
  "kernelspec": {
   "display_name": "bsc",
   "language": "python",
   "name": "python3"
  },
  "language_info": {
   "codemirror_mode": {
    "name": "ipython",
    "version": 3
   },
   "file_extension": ".py",
   "mimetype": "text/x-python",
   "name": "python",
   "nbconvert_exporter": "python",
   "pygments_lexer": "ipython3",
   "version": "3.12.3"
  }
 },
 "nbformat": 4,
 "nbformat_minor": 2
}

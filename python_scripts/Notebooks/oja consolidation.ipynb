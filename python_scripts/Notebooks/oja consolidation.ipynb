{
 "cells": [
  {
   "cell_type": "code",
   "execution_count": 15,
   "metadata": {},
   "outputs": [],
   "source": [
    "import jax\n",
    "from jax import numpy as jnp\n",
    "from typing import Union\n",
    "import pickle\n",
    "import copy\n",
    "from bsc_utils.miscellaneous import multimodal_normal_sampling\n",
    "from bsc_utils.controller.base import ExplicitMLP\n",
    "from bsc_utils.simulate.analyze import Simulator\n",
    "from bsc_utils.miscellaneous import load_config_from_yaml\n",
    "from bsc_utils.miscellaneous import complete_config_with_defaults\n",
    "import time\n",
    "import numpy as np\n",
    "\n",
    "from mediapy import show_video\n",
    "\n",
    "from bsc_utils.visualization import post_render\n",
    "\n",
    "rng = jax.random.PRNGKey(0)"
   ]
  },
  {
   "cell_type": "code",
   "execution_count": 2,
   "metadata": {},
   "outputs": [],
   "source": [
    "### Configurables\n",
    "simulation_time = 0.6\n",
    "\n",
    "# consolidation network\n",
    "num_hidden = 2\n",
    "nodes_hidden = 4\n",
    "\n",
    "# Kernel initialisation\n",
    "means = [-3,3]\n",
    "stds = [1,1]\n",
    "trunc_mins = [-6,0]\n",
    "trunc_maxs = [0,6]\n",
    "\n",
    "# means = [0]\n",
    "# stds = [0.5]\n",
    "# trunc_mins = [-1]\n",
    "# trunc_maxs = [1]\n",
    "\n",
    "\n",
    "alpha = 0.1"
   ]
  },
  {
   "cell_type": "code",
   "execution_count": 3,
   "metadata": {},
   "outputs": [
    {
     "name": "stdout",
     "output_type": "stream",
     "text": [
      "(250, 50)\n",
      "(250,)\n",
      "(250, 125)\n",
      "{'params': {'layers_0': {'bias': (128,), 'kernel': (125, 128)}, 'layers_1': {'bias': (128,), 'kernel': (128, 128)}, 'layers_2': {'bias': (50,), 'kernel': (128, 50)}}}\n"
     ]
    }
   ],
   "source": [
    "with open(\"observations.pkl\", \"rb\") as file:\n",
    "    observations_all = pickle.load(file)\n",
    "observations = jnp.concatenate(\n",
    "    [observations_all[label] for label in ('joint_position', 'joint_actuator_force', 'segment_contact')],\n",
    "    axis = 1\n",
    ")\n",
    "observations = observations[0].T\n",
    "\n",
    "with open(\"nn_params_example.pkl\", \"rb\") as file:\n",
    "    nn_params_example = pickle.load(file)\n",
    "\n",
    "actions = jnp.load(\"actions.npy\")[0].T\n",
    "rewards = jnp.load(\"rewards.npy\")[0]\n",
    "\n",
    "print(actions.shape)\n",
    "print(rewards.shape)\n",
    "print(observations.shape)\n",
    "print(jax.tree.map(lambda x: x.shape, nn_params_example))"
   ]
  },
  {
   "cell_type": "code",
   "execution_count": 4,
   "metadata": {},
   "outputs": [],
   "source": [
    "# make explictMLP with way more layers and biases\n",
    "# generate fictional rollout, at the end of every rollout, you manually set the output as desired"
   ]
  },
  {
   "cell_type": "code",
   "execution_count": 5,
   "metadata": {},
   "outputs": [
    {
     "name": "stdout",
     "output_type": "stream",
     "text": [
      "[125, 4, 4, 50]\n"
     ]
    }
   ],
   "source": [
    "hidden_layers = []\n",
    "\n",
    "for i in range(num_hidden):\n",
    "    hidden_layers += [nodes_hidden]\n",
    "\n",
    "input_dim = nn_params_example[\"params\"][\"layers_0\"][\"kernel\"].shape[0]\n",
    "output_dim = nn_params_example[\"params\"][\"layers_2\"][\"kernel\"].shape[1]\n",
    "\n",
    "layers = [input_dim] + hidden_layers + [output_dim]\n",
    "print(layers)"
   ]
  },
  {
   "cell_type": "code",
   "execution_count": 6,
   "metadata": {},
   "outputs": [
    {
     "name": "stdout",
     "output_type": "stream",
     "text": [
      "{'params': {'layers_0': {'bias': 4, 'kernel': 500}, 'layers_1': {'bias': 4, 'kernel': 16}, 'layers_2': {'bias': 50, 'kernel': 200}}}\n"
     ]
    }
   ],
   "source": [
    "cons_contr = ExplicitMLP(features = layers[1:], joint_control = \"position\")\n",
    "\n",
    "rng, rng_init = jax.random.split(rng, 2)\n",
    "cons_contr_params = cons_contr.init(rng_init, jnp.zeros(layers[0]))\n",
    "\n",
    "print(jax.tree.map(lambda x: x.size, cons_contr_params))"
   ]
  },
  {
   "cell_type": "code",
   "execution_count": 6,
   "metadata": {},
   "outputs": [],
   "source": []
  },
  {
   "cell_type": "code",
   "execution_count": 7,
   "metadata": {},
   "outputs": [],
   "source": [
    "def identical(x):\n",
    "    return x"
   ]
  },
  {
   "cell_type": "code",
   "execution_count": 8,
   "metadata": {},
   "outputs": [],
   "source": [
    "def DNN_rollout(params_dict, input, act_hidden=jnp.tanh, act_output=jnp.tanh, joint_control=\"position\"):\n",
    "    num_layers = len(params_dict[\"params\"].keys())\n",
    "    neuron_activities = [input]\n",
    "    for p in range(num_layers):\n",
    "        kernel = params_dict[\"params\"][f\"layers_{p}\"][\"kernel\"]\n",
    "        bias = params_dict[\"params\"][f\"layers_{p}\"][\"bias\"]\n",
    "        output = jnp.dot(input,kernel)\n",
    "        output = output+bias\n",
    "\n",
    "        ### !!! activity which is stored is not yet rescaled by the tanh function\n",
    "        neuron_activities.append(output)\n",
    "        if p != num_layers-1:\n",
    "            output = act_hidden(output)\n",
    "        elif p == num_layers-1:\n",
    "            assert joint_control in ['position', 'torque'], \"joint_control should be either 'position' or 'torque'\"\n",
    "            if joint_control == 'position':\n",
    "                output = 30*jnp.pi/180 * act_output(output) # the action space range for positions is -0.5236..0.5236\n",
    "            elif joint_control == 'torque':\n",
    "                output = act_output(output) # the action space range for torques is -1..1\n",
    "        \n",
    "        input = output\n",
    "    return output, neuron_activities"
   ]
  },
  {
   "cell_type": "code",
   "execution_count": 9,
   "metadata": {},
   "outputs": [],
   "source": [
    "def initialise_cons_contr_params(path, leaf):\n",
    "    rng = jax.random.PRNGKey(2000)\n",
    "    rng, rng_init = jax.random.split(rng, 2)\n",
    "    if \"kernel\" in jax.tree_util.keystr(path):\n",
    "        leaf_old = leaf\n",
    "        sample_sizes = [int(leaf_old.size/len(means)) for _ in range(len(means))]\n",
    "        values = multimodal_normal_sampling(rng,\n",
    "                                            means,\n",
    "                                            stds,\n",
    "                                            sample_sizes,\n",
    "                                            trunc_mins,\n",
    "                                            trunc_maxs)\n",
    "        leaf = jnp.reshape(values, leaf_old.shape)\n",
    "        return leaf  # Modify leaf\n",
    "    elif \"bias\" in jax.tree_util.keystr(path):\n",
    "        leaf = leaf*0\n",
    "        return leaf  # Modify leaf\n",
    "    return leaf  # Keep unchanged otherwise\n",
    "\n",
    "cons_contr_params = jax.tree_util.tree_map_with_path(initialise_cons_contr_params, cons_contr_params)\n",
    "# print(cons_contr_params)\n"
   ]
  },
  {
   "cell_type": "code",
   "execution_count": 16,
   "metadata": {},
   "outputs": [],
   "source": [
    "def synaptic_competition(input_nodes,\n",
    "                         output_nodes,\n",
    "                         synapse_strengths,\n",
    "                         learning_rate = 0.1\n",
    "                         ):\n",
    "    synapse_strengths = np.array(synapse_strengths)\n",
    "    for i in range(len(output_nodes)):\n",
    "        for j in range(len(input_nodes)):\n",
    "            synapse_strengths[j,i] = synapse_strengths[j,i] + learning_rate * input_nodes[j] * output_nodes[i]\n",
    "        if max(synapse_strengths[:,i]) > 1:\n",
    "            synapse_strengths[:,i]/max(synapse_strengths[:,i])\n",
    "\n",
    "    return jnp.array(synapse_strengths)\n",
    "\n",
    "def apply_oja(input_nodes,\n",
    "            output_nodes,\n",
    "            synapse_strengths,\n",
    "            alpha = 0.1\n",
    "            ):\n",
    "    \n",
    "    \"\"\" \n",
    "    Input: \n",
    "    - learning rule kernel: dims (popsize, input_layer_dim, output_layer_dim, lr_dim = 5)\n",
    "    - learning_rule: only \"ABCD\" implemented so far.\n",
    "    Output: synaptic strength increment kernel: dims (popsize, input_layer_dim, output_layer_dim)\n",
    "    This function is vmapable and jittable\n",
    "    \"\"\"\n",
    "    in_dim = len(input_nodes)\n",
    "    out_dim = len(output_nodes)\n",
    "    inp = jnp.transpose(jnp.tile(input_nodes, (out_dim, 1))) # Generates (in_dim, out_dim) dimension, but constant along axis = 1 (output dimension)\n",
    "    outp = jnp.tile(output_nodes, (in_dim, 1)) # Generates (in_dim, out_dim) dimension, but constant along axis = 0 (input dimesnion)\n",
    "    # these dimensions are required for matrix multiplications\n",
    "\n",
    "    # kernel content: [alpha, A, B, C, D] --> Dw_ij = alpha_ij * (A_ij*o_i*o_j + B_ij * o_i + C_ij * o_j + D_ij)\n",
    "\n",
    "\n",
    "\n",
    "    ss_incr = alpha * (inp*outp - synapse_strengths * outp**2) # 10*synapse_strengths*outp)\n",
    "    return ss_incr\n",
    "\n",
    "    ss_factor = jnp.exp(ss_incr)\n",
    "    return ss_factor # synaptic strength multiplication factor\n",
    "\n",
    "\n",
    "def update_synapse_strengths(\n",
    "        synapse_strengths_input,\n",
    "        neuron_activities,\n",
    "        alpha = 0.1\n",
    "):\n",
    "    synapse_strengths = copy.deepcopy(synapse_strengths_input)\n",
    "\n",
    "    num_layers = len(synapse_strengths[\"params\"].keys())\n",
    "    for p in range(num_layers):\n",
    "        input_nodes = neuron_activities[p]\n",
    "        output_nodes = neuron_activities[p+1]\n",
    "        ss = synapse_strengths[\"params\"][f\"layers_{p}\"][\"kernel\"]\n",
    "        # ss_factor = apply_oja(input_nodes, output_nodes, ss, alpha = alpha)\n",
    "        # synapse_strengths[\"params\"][f\"layers_{p}\"][\"kernel\"] = synapse_strengths[\"params\"][f\"layers_{p}\"][\"kernel\"] * ss_factor\n",
    "        # synapse_strengths[\"params\"][f\"layers_{p}\"][\"kernel\"] = synapse_strengths[\"params\"][f\"layers_{p}\"][\"kernel\"] + ss_factor\n",
    "        synapse_strengths[\"params\"][f\"layers_{p}\"][\"kernel\"] = synaptic_competition(input_nodes, output_nodes, synapse_strengths=ss)\n",
    "\n",
    "    return synapse_strengths\n"
   ]
  },
  {
   "cell_type": "code",
   "execution_count": 17,
   "metadata": {},
   "outputs": [
    {
     "name": "stdout",
     "output_type": "stream",
     "text": [
      "neuron_activities:  [Array([ 8.64433572e-02,  6.24429993e-02, -6.80434778e-02,  6.28114268e-02,\n",
      "        4.34342623e-02, -4.60484698e-02,  2.83792000e-02,  5.78537909e-03,\n",
      "       -1.69487018e-02,  8.98392405e-03,  8.18489343e-02, -8.57615918e-02,\n",
      "        5.15808873e-02, -6.21377937e-02,  4.18016464e-02,  4.63826396e-02,\n",
      "        2.71992665e-02, -2.82686781e-02, -1.73509661e-02,  1.72501877e-02,\n",
      "       -9.02444273e-02,  8.14239159e-02,  6.57787025e-02,  2.74188332e-02,\n",
      "        4.48259935e-02,  4.18333560e-02,  2.66676657e-02,  2.77491435e-02,\n",
      "       -1.71418190e-02, -8.87496956e-03, -8.45217779e-02, -8.53838474e-02,\n",
      "       -6.11315034e-02,  4.54097539e-02, -4.25338820e-02,  4.57606204e-02,\n",
      "       -1.18897585e-02,  2.89175585e-02, -1.02446666e-02,  1.71762221e-02,\n",
      "       -8.40959176e-02,  8.64328444e-02, -6.08897619e-02,  6.23210557e-02,\n",
      "       -4.24084030e-02,  4.31630835e-02, -2.79226862e-02, -2.94658337e-02,\n",
      "       -1.69477277e-02,  1.54434033e-02,  4.78575897e+01,  3.51958466e+01,\n",
      "       -3.52639008e+01,  3.55957031e+01,  2.49726410e+01, -2.48980675e+01,\n",
      "        1.64352551e+01,  3.56602407e+00, -9.73708534e+00,  5.24379778e+00,\n",
      "        4.84004364e+01, -4.80581779e+01,  3.14420280e+01, -3.56358566e+01,\n",
      "        2.50771618e+01,  2.48844891e+01,  1.61553478e+01, -1.64377308e+01,\n",
      "       -9.89009857e+00,  9.89912891e+00, -4.76664848e+01,  4.84295311e+01,\n",
      "        3.54066582e+01,  1.83978882e+01,  2.49426079e+01,  2.50769329e+01,\n",
      "        1.51843157e+01,  1.64519768e+01, -9.90075111e+00, -4.99704647e+00,\n",
      "       -4.81679840e+01, -4.73736763e+01, -3.56985664e+01,  2.31502209e+01,\n",
      "       -2.50471020e+01,  2.49086914e+01, -7.28217220e+00,  1.62773914e+01,\n",
      "       -6.02345419e+00,  9.89413071e+00, -4.82071342e+01,  4.80049973e+01,\n",
      "       -3.57133713e+01,  3.56272697e+01, -2.50524635e+01,  2.50216026e+01,\n",
      "       -1.64388580e+01, -1.64051018e+01, -9.90363979e+00,  8.99565029e+00,\n",
      "        0.00000000e+00,  0.00000000e+00,  0.00000000e+00,  0.00000000e+00,\n",
      "        0.00000000e+00,  0.00000000e+00,  0.00000000e+00,  0.00000000e+00,\n",
      "        0.00000000e+00,  0.00000000e+00,  0.00000000e+00,  0.00000000e+00,\n",
      "        0.00000000e+00,  0.00000000e+00,  0.00000000e+00,  0.00000000e+00,\n",
      "        0.00000000e+00,  0.00000000e+00,  0.00000000e+00,  0.00000000e+00,\n",
      "        0.00000000e+00,  0.00000000e+00,  0.00000000e+00,  0.00000000e+00,\n",
      "        0.00000000e+00], dtype=float32), Array([-1., -1., -1.,  1.], dtype=float32), Array([-0.9999984 , -0.99376327, -0.66029644, -0.7647285 ], dtype=float32), Array([ 0.5235869 ,  0.08807421, -0.52358615, -0.52358705, -0.5235988 ,\n",
      "       -0.51793057, -0.5235827 ,  0.5235988 , -0.5235705 , -0.47693294,\n",
      "       -0.52358764, -0.5235988 , -0.5235988 , -0.02098392, -0.5235659 ,\n",
      "        0.5235869 ,  0.52112293, -0.52297294,  0.50860536,  0.52286106,\n",
      "       -0.52353585, -0.5235988 , -0.5235986 ,  0.5235978 , -0.52359706,\n",
      "        0.52270347,  0.50792295,  0.23113704,  0.52359784,  0.52358943,\n",
      "        0.18537335,  0.5218439 , -0.33869943, -0.5235988 ,  0.5235988 ,\n",
      "        0.5235988 , -0.5235977 ,  0.47679228,  0.52359855, -0.5235555 ,\n",
      "       -0.05041564,  0.51281583,  0.52318084, -0.43746054, -0.51011395,\n",
      "        0.52348816,  0.52115214,  0.5235876 , -0.5235839 ,  0.5226101 ],      dtype=float32)]\n"
     ]
    },
    {
     "ename": "TypeError",
     "evalue": "JAX does not support string indexing; got idx=('params',)",
     "output_type": "error",
     "traceback": [
      "\u001b[0;31m---------------------------------------------------------------------------\u001b[0m",
      "\u001b[0;31mTypeError\u001b[0m                                 Traceback (most recent call last)",
      "\u001b[0;32m/tmp/ipykernel_17208/2736398249.py\u001b[0m in \u001b[0;36m?\u001b[0;34m()\u001b[0m\n\u001b[1;32m      6\u001b[0m     \u001b[0m_\u001b[0m\u001b[0;34m,\u001b[0m \u001b[0mneuron_activities\u001b[0m \u001b[0;34m=\u001b[0m \u001b[0mcons_contr\u001b[0m\u001b[0;34m.\u001b[0m\u001b[0mapply\u001b[0m\u001b[0;34m(\u001b[0m\u001b[0mcons_contr_params\u001b[0m\u001b[0;34m,\u001b[0m \u001b[0mobservations\u001b[0m\u001b[0;34m[\u001b[0m\u001b[0mi\u001b[0m\u001b[0;34m,\u001b[0m\u001b[0;34m:\u001b[0m\u001b[0;34m]\u001b[0m\u001b[0;34m,\u001b[0m \u001b[0mact_hidden\u001b[0m \u001b[0;34m=\u001b[0m \u001b[0mnn\u001b[0m\u001b[0;34m.\u001b[0m\u001b[0mtanh\u001b[0m\u001b[0;34m,\u001b[0m \u001b[0mact_output\u001b[0m\u001b[0;34m=\u001b[0m\u001b[0mnn\u001b[0m\u001b[0;34m.\u001b[0m\u001b[0mtanh\u001b[0m\u001b[0;34m)\u001b[0m\u001b[0;34m\u001b[0m\u001b[0;34m\u001b[0m\u001b[0m\n\u001b[1;32m      7\u001b[0m     \u001b[0mprint\u001b[0m\u001b[0;34m(\u001b[0m\u001b[0;34m\"neuron_activities: \"\u001b[0m\u001b[0;34m,\u001b[0m \u001b[0mneuron_activities\u001b[0m\u001b[0;34m)\u001b[0m\u001b[0;34m\u001b[0m\u001b[0;34m\u001b[0m\u001b[0m\n\u001b[1;32m      8\u001b[0m     \u001b[0mneuron_activities\u001b[0m\u001b[0;34m[\u001b[0m\u001b[0;34m-\u001b[0m\u001b[0;36m1\u001b[0m\u001b[0;34m]\u001b[0m \u001b[0;34m=\u001b[0m \u001b[0mactions\u001b[0m\u001b[0;34m[\u001b[0m\u001b[0mi\u001b[0m\u001b[0;34m,\u001b[0m\u001b[0;34m:\u001b[0m\u001b[0;34m]\u001b[0m\u001b[0;34m\u001b[0m\u001b[0;34m\u001b[0m\u001b[0m\n\u001b[1;32m      9\u001b[0m \u001b[0;34m\u001b[0m\u001b[0m\n\u001b[0;32m---> 10\u001b[0;31m     \u001b[0mcons_contr_params\u001b[0m \u001b[0;34m=\u001b[0m \u001b[0mupdate_synapse_strengths\u001b[0m\u001b[0;34m(\u001b[0m\u001b[0mcons_contr_params\u001b[0m\u001b[0;34m,\u001b[0m \u001b[0mneuron_activities\u001b[0m\u001b[0;34m,\u001b[0m \u001b[0malpha\u001b[0m\u001b[0;34m=\u001b[0m\u001b[0malpha\u001b[0m\u001b[0;34m)\u001b[0m\u001b[0;34m\u001b[0m\u001b[0;34m\u001b[0m\u001b[0m\n\u001b[0m\u001b[1;32m     11\u001b[0m     \u001b[0mprint\u001b[0m\u001b[0;34m(\u001b[0m\u001b[0mcons_contr_params\u001b[0m\u001b[0;34m[\u001b[0m\u001b[0;34m\"params\"\u001b[0m\u001b[0;34m]\u001b[0m\u001b[0;34m[\u001b[0m\u001b[0;34m\"layers_0\"\u001b[0m\u001b[0;34m]\u001b[0m\u001b[0;34m[\u001b[0m\u001b[0;34m\"kernel\"\u001b[0m\u001b[0;34m]\u001b[0m\u001b[0;34m[\u001b[0m\u001b[0;36m0\u001b[0m\u001b[0;34m,\u001b[0m\u001b[0;34m:\u001b[0m\u001b[0;36m7\u001b[0m\u001b[0;34m]\u001b[0m\u001b[0;34m)\u001b[0m\u001b[0;34m\u001b[0m\u001b[0;34m\u001b[0m\u001b[0m\n\u001b[1;32m     12\u001b[0m     \u001b[0;31m# print(cons_contr_params)\u001b[0m\u001b[0;34m\u001b[0m\u001b[0;34m\u001b[0m\u001b[0m\n",
      "\u001b[0;32m/tmp/ipykernel_17208/3169389650.py\u001b[0m in \u001b[0;36m?\u001b[0;34m(synapse_strengths_input, neuron_activities, alpha)\u001b[0m\n\u001b[1;32m     52\u001b[0m     \u001b[0mnum_layers\u001b[0m \u001b[0;34m=\u001b[0m \u001b[0mlen\u001b[0m\u001b[0;34m(\u001b[0m\u001b[0msynapse_strengths\u001b[0m\u001b[0;34m[\u001b[0m\u001b[0;34m\"params\"\u001b[0m\u001b[0;34m]\u001b[0m\u001b[0;34m.\u001b[0m\u001b[0mkeys\u001b[0m\u001b[0;34m(\u001b[0m\u001b[0;34m)\u001b[0m\u001b[0;34m)\u001b[0m\u001b[0;34m\u001b[0m\u001b[0;34m\u001b[0m\u001b[0m\n\u001b[1;32m     53\u001b[0m     \u001b[0;32mfor\u001b[0m \u001b[0mp\u001b[0m \u001b[0;32min\u001b[0m \u001b[0mrange\u001b[0m\u001b[0;34m(\u001b[0m\u001b[0mnum_layers\u001b[0m\u001b[0;34m)\u001b[0m\u001b[0;34m:\u001b[0m\u001b[0;34m\u001b[0m\u001b[0;34m\u001b[0m\u001b[0m\n\u001b[1;32m     54\u001b[0m         \u001b[0minput_nodes\u001b[0m \u001b[0;34m=\u001b[0m \u001b[0mneuron_activities\u001b[0m\u001b[0;34m[\u001b[0m\u001b[0mp\u001b[0m\u001b[0;34m]\u001b[0m\u001b[0;34m\u001b[0m\u001b[0;34m\u001b[0m\u001b[0m\n\u001b[1;32m     55\u001b[0m         \u001b[0moutput_nodes\u001b[0m \u001b[0;34m=\u001b[0m \u001b[0mneuron_activities\u001b[0m\u001b[0;34m[\u001b[0m\u001b[0mp\u001b[0m\u001b[0;34m+\u001b[0m\u001b[0;36m1\u001b[0m\u001b[0;34m]\u001b[0m\u001b[0;34m\u001b[0m\u001b[0;34m\u001b[0m\u001b[0m\n\u001b[0;32m---> 56\u001b[0;31m         \u001b[0mss\u001b[0m \u001b[0;34m=\u001b[0m \u001b[0msynapse_strengths\u001b[0m\u001b[0;34m[\u001b[0m\u001b[0;34m\"params\"\u001b[0m\u001b[0;34m]\u001b[0m\u001b[0;34m[\u001b[0m\u001b[0;34mf\"\u001b[0m\u001b[0;34mlayers_\u001b[0m\u001b[0;34m{\u001b[0m\u001b[0mp\u001b[0m\u001b[0;34m}\u001b[0m\u001b[0;34m\"\u001b[0m\u001b[0;34m]\u001b[0m\u001b[0;34m[\u001b[0m\u001b[0;34m\"kernel\"\u001b[0m\u001b[0;34m]\u001b[0m\u001b[0;34m\u001b[0m\u001b[0;34m\u001b[0m\u001b[0m\n\u001b[0m\u001b[1;32m     57\u001b[0m         \u001b[0;31m# ss_factor = apply_oja(input_nodes, output_nodes, ss, alpha = alpha)\u001b[0m\u001b[0;34m\u001b[0m\u001b[0;34m\u001b[0m\u001b[0m\n\u001b[1;32m     58\u001b[0m         \u001b[0;31m# synapse_strengths[\"params\"][f\"layers_{p}\"][\"kernel\"] = synapse_strengths[\"params\"][f\"layers_{p}\"][\"kernel\"] * ss_factor\u001b[0m\u001b[0;34m\u001b[0m\u001b[0;34m\u001b[0m\u001b[0m\n\u001b[1;32m     59\u001b[0m         \u001b[0;31m# synapse_strengths[\"params\"][f\"layers_{p}\"][\"kernel\"] = synapse_strengths[\"params\"][f\"layers_{p}\"][\"kernel\"] + ss_factor\u001b[0m\u001b[0;34m\u001b[0m\u001b[0;34m\u001b[0m\u001b[0m\n",
      "\u001b[0;32m~/OneDrive/Documents/DOCUMENTEN/4_PhD/BSC/bsc/lib/python3.12/site-packages/jax/_src/array.py\u001b[0m in \u001b[0;36m?\u001b[0;34m(self, idx)\u001b[0m\n\u001b[1;32m    366\u001b[0m \u001b[0;34m\u001b[0m\u001b[0m\n\u001b[1;32m    367\u001b[0m         return ArrayImpl(\n\u001b[1;32m    368\u001b[0m             \u001b[0mout\u001b[0m\u001b[0;34m.\u001b[0m\u001b[0maval\u001b[0m\u001b[0;34m,\u001b[0m \u001b[0msharding\u001b[0m\u001b[0;34m,\u001b[0m \u001b[0;34m[\u001b[0m\u001b[0mout\u001b[0m\u001b[0;34m]\u001b[0m\u001b[0;34m,\u001b[0m \u001b[0mcommitted\u001b[0m\u001b[0;34m=\u001b[0m\u001b[0;32mFalse\u001b[0m\u001b[0;34m,\u001b[0m \u001b[0m_skip_checks\u001b[0m\u001b[0;34m=\u001b[0m\u001b[0;32mTrue\u001b[0m\u001b[0;34m)\u001b[0m\u001b[0;34m\u001b[0m\u001b[0;34m\u001b[0m\u001b[0m\n\u001b[1;32m    369\u001b[0m \u001b[0;34m\u001b[0m\u001b[0m\n\u001b[0;32m--> 370\u001b[0;31m     \u001b[0;32mreturn\u001b[0m \u001b[0mlax_numpy\u001b[0m\u001b[0;34m.\u001b[0m\u001b[0m_rewriting_take\u001b[0m\u001b[0;34m(\u001b[0m\u001b[0mself\u001b[0m\u001b[0;34m,\u001b[0m \u001b[0midx\u001b[0m\u001b[0;34m)\u001b[0m\u001b[0;34m\u001b[0m\u001b[0;34m\u001b[0m\u001b[0m\n\u001b[0m",
      "\u001b[0;32m~/OneDrive/Documents/DOCUMENTEN/4_PhD/BSC/bsc/lib/python3.12/site-packages/jax/_src/numpy/lax_numpy.py\u001b[0m in \u001b[0;36m?\u001b[0;34m(arr, idx, indices_are_sorted, unique_indices, mode, fill_value)\u001b[0m\n\u001b[1;32m  11406\u001b[0m           \u001b[0;32mnot\u001b[0m \u001b[0mdtypes\u001b[0m\u001b[0;34m.\u001b[0m\u001b[0missubdtype\u001b[0m\u001b[0;34m(\u001b[0m\u001b[0maval\u001b[0m\u001b[0;34m.\u001b[0m\u001b[0mdtype\u001b[0m\u001b[0;34m,\u001b[0m \u001b[0mdtypes\u001b[0m\u001b[0;34m.\u001b[0m\u001b[0mbool_\u001b[0m\u001b[0;34m)\u001b[0m \u001b[0;32mand\u001b[0m\u001b[0;34m\u001b[0m\u001b[0;34m\u001b[0m\u001b[0m\n\u001b[1;32m  11407\u001b[0m           \u001b[0misinstance\u001b[0m\u001b[0;34m(\u001b[0m\u001b[0marr\u001b[0m\u001b[0;34m.\u001b[0m\u001b[0mshape\u001b[0m\u001b[0;34m[\u001b[0m\u001b[0;36m0\u001b[0m\u001b[0;34m]\u001b[0m\u001b[0;34m,\u001b[0m \u001b[0mint\u001b[0m\u001b[0;34m)\u001b[0m\u001b[0;34m)\u001b[0m\u001b[0;34m:\u001b[0m\u001b[0;34m\u001b[0m\u001b[0;34m\u001b[0m\u001b[0m\n\u001b[1;32m  11408\u001b[0m         \u001b[0;32mreturn\u001b[0m \u001b[0mlax\u001b[0m\u001b[0;34m.\u001b[0m\u001b[0mdynamic_index_in_dim\u001b[0m\u001b[0;34m(\u001b[0m\u001b[0marr\u001b[0m\u001b[0;34m,\u001b[0m \u001b[0midx\u001b[0m\u001b[0;34m,\u001b[0m \u001b[0mkeepdims\u001b[0m\u001b[0;34m=\u001b[0m\u001b[0;32mFalse\u001b[0m\u001b[0;34m)\u001b[0m\u001b[0;34m\u001b[0m\u001b[0;34m\u001b[0m\u001b[0m\n\u001b[1;32m  11409\u001b[0m \u001b[0;34m\u001b[0m\u001b[0m\n\u001b[0;32m> 11410\u001b[0;31m   \u001b[0mtreedef\u001b[0m\u001b[0;34m,\u001b[0m \u001b[0mstatic_idx\u001b[0m\u001b[0;34m,\u001b[0m \u001b[0mdynamic_idx\u001b[0m \u001b[0;34m=\u001b[0m \u001b[0m_split_index_for_jit\u001b[0m\u001b[0;34m(\u001b[0m\u001b[0midx\u001b[0m\u001b[0;34m,\u001b[0m \u001b[0marr\u001b[0m\u001b[0;34m.\u001b[0m\u001b[0mshape\u001b[0m\u001b[0;34m)\u001b[0m\u001b[0;34m\u001b[0m\u001b[0;34m\u001b[0m\u001b[0m\n\u001b[0m\u001b[1;32m  11411\u001b[0m   return _gather(arr, treedef, static_idx, dynamic_idx, indices_are_sorted,\n\u001b[1;32m  11412\u001b[0m                  \u001b[0munique_indices\u001b[0m\u001b[0;34m,\u001b[0m \u001b[0mmode\u001b[0m\u001b[0;34m,\u001b[0m \u001b[0mfill_value\u001b[0m\u001b[0;34m)\u001b[0m\u001b[0;34m\u001b[0m\u001b[0;34m\u001b[0m\u001b[0m\n",
      "\u001b[0;32m~/OneDrive/Documents/DOCUMENTEN/4_PhD/BSC/bsc/lib/python3.12/site-packages/jax/_src/numpy/lax_numpy.py\u001b[0m in \u001b[0;36m?\u001b[0;34m(idx, shape)\u001b[0m\n\u001b[1;32m  11487\u001b[0m   \"\"\"\n\u001b[1;32m  11488\u001b[0m   \u001b[0;31m# Convert list indices to tuples in cases (deprecated by NumPy.)\u001b[0m\u001b[0;34m\u001b[0m\u001b[0;34m\u001b[0m\u001b[0m\n\u001b[1;32m  11489\u001b[0m   \u001b[0midx\u001b[0m \u001b[0;34m=\u001b[0m \u001b[0m_eliminate_deprecated_list_indexing\u001b[0m\u001b[0;34m(\u001b[0m\u001b[0midx\u001b[0m\u001b[0;34m)\u001b[0m\u001b[0;34m\u001b[0m\u001b[0;34m\u001b[0m\u001b[0m\n\u001b[1;32m  11490\u001b[0m   \u001b[0;32mif\u001b[0m \u001b[0many\u001b[0m\u001b[0;34m(\u001b[0m\u001b[0misinstance\u001b[0m\u001b[0;34m(\u001b[0m\u001b[0mi\u001b[0m\u001b[0;34m,\u001b[0m \u001b[0mstr\u001b[0m\u001b[0;34m)\u001b[0m \u001b[0;32mfor\u001b[0m \u001b[0mi\u001b[0m \u001b[0;32min\u001b[0m \u001b[0midx\u001b[0m\u001b[0;34m)\u001b[0m\u001b[0;34m:\u001b[0m\u001b[0;34m\u001b[0m\u001b[0;34m\u001b[0m\u001b[0m\n\u001b[0;32m> 11491\u001b[0;31m     \u001b[0;32mraise\u001b[0m \u001b[0mTypeError\u001b[0m\u001b[0;34m(\u001b[0m\u001b[0;34mf\"\u001b[0m\u001b[0;34mJAX does not support string indexing; got \u001b[0m\u001b[0;34m{\u001b[0m\u001b[0midx\u001b[0m\u001b[0;34m=\u001b[0m\u001b[0;34m}\u001b[0m\u001b[0;34m\"\u001b[0m\u001b[0;34m)\u001b[0m\u001b[0;34m\u001b[0m\u001b[0;34m\u001b[0m\u001b[0m\n\u001b[0m\u001b[1;32m  11492\u001b[0m \u001b[0;34m\u001b[0m\u001b[0m\n\u001b[1;32m  11493\u001b[0m   \u001b[0;31m# Expand any (concrete) boolean indices. We can then use advanced integer\u001b[0m\u001b[0;34m\u001b[0m\u001b[0;34m\u001b[0m\u001b[0m\n\u001b[1;32m  11494\u001b[0m   \u001b[0;31m# indexing logic to handle them.\u001b[0m\u001b[0;34m\u001b[0m\u001b[0;34m\u001b[0m\u001b[0m\n",
      "\u001b[0;31mTypeError\u001b[0m: JAX does not support string indexing; got idx=('params',)"
     ]
    }
   ],
   "source": [
    "\n",
    "from flax import linen as nn\n",
    "\n",
    "for i in range(observations.shape[0]):\n",
    "    # print(\"observations: \", observations[i,:5])\n",
    "    # _, neuron_activities = DNN_rollout(cons_contr_params, observations[i,:], act_hidden = nn.tanh, act_output=nn.tanh)\n",
    "    _, neuron_activities = cons_contr.apply(cons_contr_params, observations[i,:], act_hidden = nn.tanh, act_output=nn.tanh)\n",
    "    print(\"neuron_activities: \", neuron_activities)\n",
    "    neuron_activities[-1] = actions[i,:]\n",
    "\n",
    "    cons_contr_params = update_synapse_strengths(cons_contr_params, neuron_activities, alpha=alpha)\n",
    "    print(cons_contr_params[\"params\"][\"layers_0\"][\"kernel\"][0,:7])\n",
    "    # print(cons_contr_params)"
   ]
  },
  {
   "cell_type": "code",
   "execution_count": 12,
   "metadata": {},
   "outputs": [
    {
     "data": {
      "text/html": [
       "<table class=\"show_images\" style=\"border-spacing:0px;\"><tr><td style=\"padding:1px;\"><img width=\"320\" height=\"240\" style=\"image-rendering:auto; object-fit:cover;\" src=\"data:image/png;base64,iVBORw0KGgoAAAANSUhEUgAAAUAAAADwCAIAAAD+Tyo8AAAHBUlEQVR4nO3d3XITyR2H4XEMttYrFUVltxaTo1xcLiqXlVvIAYGQrCH6lsU6B2KntAIbWdOt4Wc9T3FgqMK0uvRqWn+Pzdnd3V0DZPpT3wsADidgCCZgCCZgCCZgCCZgCCZgCCZgCCZgCCZgCCZgCCZgCCZgCCZgCCZgCCZgCCZgCCZgCCZgCCZgCCZgCCZgCCZgCCZgCCZgCCZgCCZgCCZgCCZgCCZgCCZgCCZgCCZgCCZgCCZgCCZgCCZgCCZgCCZgCCZgCCZgCCZgCCZgCCZgCCZgCCZgCCZgCCZgCCZgCCZgCCZgCCZgCCZgCCZgCCZgCCZgCCZgCCZgCCZgCCZgCCZgCCZgCCZgCCZgCCZgCCZgCCZgCCZgCCZgCCZgCCZgCCZgCCZgCCZgCCZgCCZgCCZgCCZgCCZgCCZgCCZgCCZgCCZgCPas7wU8ZW9vJn0v4bvw6uWw7yU8WQKu6J9v/j2bLUej0336jseTq6tLAdfjCF3LZL7qewn9u7w4X85ntqIeAVe0nM9Wy3nfq+jfZCHgWgRcy2SxWi2ml8/P+15In8ZjU4C6BFzLdH7bNM14ctLP4NVyvlpMN1tBDQKuZbJYLeezvlfRs8Hz8+V85ghdj4BrWc6nTdPcLk76PfDmCL3ZCmoQcBXt3PXy4qTfA28evkF0PQKupT0/n+wgZ/uBO0VXIuAq3t1MV4vP58aTvQi3D7zdCopzJ1Z1F//4+2Dxr75X0YNB09z89W9N0yzns+n8tnnZ94KeIlfgKrZH0KdZ7w5H6EoEXN5kvmrnrideb/vwDaIrETAVXc7fbD4wiK5EwOVtn5/bZzBO0TUIuLzp/Ladu574EbplEF2JgKlo6z3wzB3RNQi4PCPo1vbDd4SuQcCFGUHfxyC6BgFT1/Yp2g8JK07AhRlB77AJVQm4MCPo+xhE1yDg8nwf/zaD6KoEXNj2rNUVuDGIrkzAJW2PoPnScj51Q2VZAq7F5be1fYp2ES5LwCVNFqvxzfu+V/HdMYiuR8AlbQ9pPGu/5EfMFifgwtxE+SVH6HoEXJJn51d5LatHwMXsjKA9a7/KILosAVeh3h1O0ZUIuBgj6AcY6VUi4GKMoPdhEF2WgIvxffz7cIQuS8Acg1e0SgRchhH0w7Y3xCC6IAGXp96HOUUXJOAy3t1MjaAf5nWtBgGXZwT9Ve22GEQXJOAyjKD35whdkIAL8H38+/C6VoOAy/NM/SqD6BoEXMD2+Zl9OEWXIuAC/CjZPdmc4gTM8RhEFyfgAvxvDI/lCF2KgLtyE+X+djbHHKs7AXM8u4NoF+HOBNzVzgjaFXhP5vZFCLgrI+hHsUVlCZijMoguS8BdGUEfxiC6CAF3YgTdkUF0RwLmqLZf4/7363sX4Y4E3IkR9GPZorIE3IkRdEfmWB0JmGNrX+lWC/dydCXgToygD9BulHs5uhPw4Yygu/Od/R0JmGP74x3RvhrcybO+FxDs3c306CPos/r/RNM0d1U/u6NKQQLupB1BF3KcPr/pm8soWfh0ftu8LPj5Tosj9OG2z36PvKqc3fMrRdf1G0SXIuBO9puj5ob6WPs+UoPoUgR8oJ0R9B+/hnQiue7j21thEN2FgMsYLN4qdg+ft2iweNv+kUF0F4ZYB9qMoFfr3za/XZz90DQ/9LukJIsP7dat1nWH3k+bgA90d3f35v2H8fjzrbzP503TXPe6ojD/+X3rLoafJrOVQfRhBHygq8vzq8Hlxw8fmqa5WH9cr92U/zjPlv9dPXvRNM2n9e1vn9Z9LyeV98BPUMQXqZ7fftx8MBoNr3960e9icgn4QKOrwevrV5uP2+diDffV+MCvI3yqgkbD4VH+nafJEfpAo6vL9uOLddeAv7fLY+uBhRUZPW3q3d5MHsUV+HCjq8vrV7889m99/4fbPXV8IO2rnnq7cAU+3PD3Z94DV+DQOA/25eO970K92bTh8MehgDtwBe5kNBru1PsELq1lPbwho9FwdDXoYVlPhYAP9/qnF5u3cIrd3/ZeXaw/joZDR+guHKG7+vPg08X5X/peRaTrn39Rb0dnd3duZDvceLYczxZ9ryLVZDIdDn987YvAHQgYgnkPDMEEDMEEDMEEDMEEDMEEDMEEDMEEDMEEDMEEDMEEDMEEDMEEDMEEDMEEDMEEDMEEDMEEDMEEDMEEDMEEDMEEDMEEDMEEDMEEDMEEDMEEDMEEDMEEDMEEDMEEDMEEDMEEDMEEDMEEDMEEDMEEDMEEDMEEDMEEDMEEDMEEDMEEDMEEDMEEDMEEDMEEDMEEDMEEDMEEDMEEDMEEDMEEDMEEDMEEDMEEDMEEDMEEDMEEDMEEDMEEDMEEDMEEDMEEDMEEDMEEDMEEDMEEDMEEDMEEDMEEDMEEDMEEDMEEDMEEDMH+D0R0AMI1LjGYAAAAAElFTkSuQmCC\"/></td></tr></table>"
      ],
      "text/plain": [
       "<IPython.core.display.HTML object>"
      ]
     },
     "metadata": {},
     "output_type": "display_data"
    },
    {
     "data": {
      "text/html": [
       "<table class=\"show_images\" style=\"border-spacing:0px;\"><tr><td style=\"padding:1px;\"><img width=\"320\" height=\"240\" style=\"image-rendering:auto; object-fit:cover;\" src=\"data:image/png;base64,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\"/></td></tr></table>"
      ],
      "text/plain": [
       "<IPython.core.display.HTML object>"
      ]
     },
     "metadata": {},
     "output_type": "display_data"
    }
   ],
   "source": [
    "from bsc_utils.BrittleStarEnv import EnvContainer\n",
    "\n",
    "\n",
    "config = load_config_from_yaml(\"2024_04_01_b01_r03.yaml\")\n",
    "config = complete_config_with_defaults(config)\n",
    "config[\"environment\"][\"simulation_time\"] = simulation_time\n",
    "\n",
    "env_container = EnvContainer(config)\n",
    "env_container.generate_env()\n",
    "env_container.generate_env_damaged()\n",
    "env_container.visualize_arena()\n",
    "env_container.visualize_morphology()"
   ]
  },
  {
   "cell_type": "code",
   "execution_count": 13,
   "metadata": {},
   "outputs": [
    {
     "name": "stderr",
     "output_type": "stream",
     "text": [
      "/home/idlab515/OneDrive/Documents/DOCUMENTEN/4_PhD/BSC/bsc/lib/python3.12/site-packages/jax/_src/interpreters/xla.py:133: RuntimeWarning: overflow encountered in cast\n",
      "  return np.asarray(x, dtypes.canonicalize_dtype(x.dtype))\n"
     ]
    },
    {
     "name": "stdout",
     "output_type": "stream",
     "text": [
      "0\n",
      "action rollout time = 0.006784677505493164\n"
     ]
    },
    {
     "name": "stderr",
     "output_type": "stream",
     "text": [
      "/home/idlab515/OneDrive/Documents/DOCUMENTEN/4_PhD/BSC/bsc/lib/python3.12/site-packages/jax/_src/interpreters/xla.py:133: RuntimeWarning: overflow encountered in cast\n",
      "  return np.asarray(x, dtypes.canonicalize_dtype(x.dtype))\n"
     ]
    },
    {
     "name": "stdout",
     "output_type": "stream",
     "text": [
      "env step time = 13.470183372497559\n",
      "action rollout time = 0.006602764129638672\n"
     ]
    },
    {
     "name": "stderr",
     "output_type": "stream",
     "text": [
      "/home/idlab515/OneDrive/Documents/DOCUMENTEN/4_PhD/BSC/bsc/lib/python3.12/site-packages/jax/_src/interpreters/xla.py:133: RuntimeWarning: overflow encountered in cast\n",
      "  return np.asarray(x, dtypes.canonicalize_dtype(x.dtype))\n"
     ]
    },
    {
     "name": "stdout",
     "output_type": "stream",
     "text": [
      "env step time = 14.041691064834595\n",
      "action rollout time = 0.005740165710449219\n"
     ]
    },
    {
     "name": "stderr",
     "output_type": "stream",
     "text": [
      "/home/idlab515/OneDrive/Documents/DOCUMENTEN/4_PhD/BSC/bsc/lib/python3.12/site-packages/jax/_src/interpreters/xla.py:133: RuntimeWarning: overflow encountered in cast\n",
      "  return np.asarray(x, dtypes.canonicalize_dtype(x.dtype))\n"
     ]
    },
    {
     "name": "stdout",
     "output_type": "stream",
     "text": [
      "env step time = 15.93035626411438\n",
      "action rollout time = 0.005834341049194336\n"
     ]
    },
    {
     "name": "stderr",
     "output_type": "stream",
     "text": [
      "/home/idlab515/OneDrive/Documents/DOCUMENTEN/4_PhD/BSC/bsc/lib/python3.12/site-packages/jax/_src/interpreters/xla.py:133: RuntimeWarning: overflow encountered in cast\n",
      "  return np.asarray(x, dtypes.canonicalize_dtype(x.dtype))\n"
     ]
    },
    {
     "name": "stdout",
     "output_type": "stream",
     "text": [
      "env step time = 15.652003049850464\n",
      "action rollout time = 0.00606226921081543\n"
     ]
    },
    {
     "name": "stderr",
     "output_type": "stream",
     "text": [
      "/home/idlab515/OneDrive/Documents/DOCUMENTEN/4_PhD/BSC/bsc/lib/python3.12/site-packages/jax/_src/interpreters/xla.py:133: RuntimeWarning: overflow encountered in cast\n",
      "  return np.asarray(x, dtypes.canonicalize_dtype(x.dtype))\n"
     ]
    },
    {
     "name": "stdout",
     "output_type": "stream",
     "text": [
      "env step time = 13.815199136734009\n",
      "action rollout time = 0.006784677505493164\n"
     ]
    },
    {
     "name": "stderr",
     "output_type": "stream",
     "text": [
      "/home/idlab515/OneDrive/Documents/DOCUMENTEN/4_PhD/BSC/bsc/lib/python3.12/site-packages/jax/_src/interpreters/xla.py:133: RuntimeWarning: overflow encountered in cast\n",
      "  return np.asarray(x, dtypes.canonicalize_dtype(x.dtype))\n"
     ]
    },
    {
     "name": "stdout",
     "output_type": "stream",
     "text": [
      "env step time = 14.993698120117188\n",
      "action rollout time = 0.0057981014251708984\n"
     ]
    },
    {
     "name": "stderr",
     "output_type": "stream",
     "text": [
      "/home/idlab515/OneDrive/Documents/DOCUMENTEN/4_PhD/BSC/bsc/lib/python3.12/site-packages/jax/_src/interpreters/xla.py:133: RuntimeWarning: overflow encountered in cast\n",
      "  return np.asarray(x, dtypes.canonicalize_dtype(x.dtype))\n"
     ]
    },
    {
     "name": "stdout",
     "output_type": "stream",
     "text": [
      "env step time = 14.431471109390259\n",
      "action rollout time = 0.005606412887573242\n"
     ]
    },
    {
     "name": "stderr",
     "output_type": "stream",
     "text": [
      "/home/idlab515/OneDrive/Documents/DOCUMENTEN/4_PhD/BSC/bsc/lib/python3.12/site-packages/jax/_src/interpreters/xla.py:133: RuntimeWarning: overflow encountered in cast\n",
      "  return np.asarray(x, dtypes.canonicalize_dtype(x.dtype))\n"
     ]
    },
    {
     "name": "stdout",
     "output_type": "stream",
     "text": [
      "env step time = 15.036092758178711\n",
      "action rollout time = 0.00672459602355957\n"
     ]
    },
    {
     "name": "stderr",
     "output_type": "stream",
     "text": [
      "/home/idlab515/OneDrive/Documents/DOCUMENTEN/4_PhD/BSC/bsc/lib/python3.12/site-packages/jax/_src/interpreters/xla.py:133: RuntimeWarning: overflow encountered in cast\n",
      "  return np.asarray(x, dtypes.canonicalize_dtype(x.dtype))\n"
     ]
    },
    {
     "name": "stdout",
     "output_type": "stream",
     "text": [
      "env step time = 14.156311273574829\n",
      "action rollout time = 0.005583286285400391\n"
     ]
    },
    {
     "name": "stderr",
     "output_type": "stream",
     "text": [
      "/home/idlab515/OneDrive/Documents/DOCUMENTEN/4_PhD/BSC/bsc/lib/python3.12/site-packages/jax/_src/interpreters/xla.py:133: RuntimeWarning: overflow encountered in cast\n",
      "  return np.asarray(x, dtypes.canonicalize_dtype(x.dtype))\n"
     ]
    },
    {
     "name": "stdout",
     "output_type": "stream",
     "text": [
      "env step time = 15.110350847244263\n",
      "10\n",
      "action rollout time = 0.006487131118774414\n"
     ]
    },
    {
     "name": "stderr",
     "output_type": "stream",
     "text": [
      "/home/idlab515/OneDrive/Documents/DOCUMENTEN/4_PhD/BSC/bsc/lib/python3.12/site-packages/jax/_src/interpreters/xla.py:133: RuntimeWarning: overflow encountered in cast\n",
      "  return np.asarray(x, dtypes.canonicalize_dtype(x.dtype))\n"
     ]
    },
    {
     "name": "stdout",
     "output_type": "stream",
     "text": [
      "env step time = 14.594327926635742\n",
      "action rollout time = 0.00615382194519043\n"
     ]
    },
    {
     "name": "stderr",
     "output_type": "stream",
     "text": [
      "/home/idlab515/OneDrive/Documents/DOCUMENTEN/4_PhD/BSC/bsc/lib/python3.12/site-packages/jax/_src/interpreters/xla.py:133: RuntimeWarning: overflow encountered in cast\n",
      "  return np.asarray(x, dtypes.canonicalize_dtype(x.dtype))\n"
     ]
    },
    {
     "name": "stdout",
     "output_type": "stream",
     "text": [
      "env step time = 15.624542951583862\n",
      "action rollout time = 0.0061492919921875\n"
     ]
    },
    {
     "name": "stderr",
     "output_type": "stream",
     "text": [
      "/home/idlab515/OneDrive/Documents/DOCUMENTEN/4_PhD/BSC/bsc/lib/python3.12/site-packages/jax/_src/interpreters/xla.py:133: RuntimeWarning: overflow encountered in cast\n",
      "  return np.asarray(x, dtypes.canonicalize_dtype(x.dtype))\n"
     ]
    },
    {
     "name": "stdout",
     "output_type": "stream",
     "text": [
      "env step time = 14.924583673477173\n",
      "action rollout time = 0.005697965621948242\n"
     ]
    },
    {
     "name": "stderr",
     "output_type": "stream",
     "text": [
      "/home/idlab515/OneDrive/Documents/DOCUMENTEN/4_PhD/BSC/bsc/lib/python3.12/site-packages/jax/_src/interpreters/xla.py:133: RuntimeWarning: overflow encountered in cast\n",
      "  return np.asarray(x, dtypes.canonicalize_dtype(x.dtype))\n"
     ]
    },
    {
     "name": "stdout",
     "output_type": "stream",
     "text": [
      "env step time = 15.19635796546936\n",
      "action rollout time = 0.007923603057861328\n"
     ]
    },
    {
     "name": "stderr",
     "output_type": "stream",
     "text": [
      "/home/idlab515/OneDrive/Documents/DOCUMENTEN/4_PhD/BSC/bsc/lib/python3.12/site-packages/jax/_src/interpreters/xla.py:133: RuntimeWarning: overflow encountered in cast\n",
      "  return np.asarray(x, dtypes.canonicalize_dtype(x.dtype))\n"
     ]
    },
    {
     "name": "stdout",
     "output_type": "stream",
     "text": [
      "env step time = 16.62286067008972\n"
     ]
    },
    {
     "data": {
      "text/html": [
       "<table class=\"show_videos\" style=\"border-spacing:0px;\"><tr><td style=\"padding:1px;\"><video controls width=\"1280\" height=\"480\" style=\"object-fit:cover;\" loop autoplay muted>\n",
       "      <source src=\"data:video/mp4;base64,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\" type=\"video/mp4\"/>\n",
       "      This browser does not support the video tag.\n",
       "      </video></td></tr></table>"
      ],
      "text/plain": [
       "<IPython.core.display.HTML object>"
      ]
     },
     "metadata": {},
     "output_type": "display_data"
    }
   ],
   "source": [
    "rng, rng_reset = jax.random.split(rng, 2)\n",
    "env_state = env_container.env.reset(rng_reset)\n",
    "mjx_frames = []\n",
    "\n",
    "i = 0\n",
    "while not jnp.any(env_state.terminated | env_state.truncated):\n",
    "    if i%10 == 0:\n",
    "        print(i)\n",
    "    i += 1\n",
    "    \n",
    "    sensory_input = jnp.concatenate(\n",
    "        [env_state.observations[label] for label in config[\"environment\"][\"sensor_selection\"]],\n",
    "        # axis = 1\n",
    "    )\n",
    "\n",
    "    start_action = time.time()\n",
    "    action,_ = cons_contr.apply(cons_contr_params, sensory_input)\n",
    "    print(f\"action rollout time = {time.time()-start_action}\")\n",
    "\n",
    "    start_env_step = time.time()\n",
    "    env_state = env_container.env.step(state=env_state, action=action)\n",
    "    print(f\"env step time = {time.time()-start_env_step}\")\n",
    "    \n",
    "    mjx_frames.append(\n",
    "            post_render(\n",
    "                env_container.env.render(state=env_state),\n",
    "                env_container.env.environment_configuration\n",
    "                )\n",
    "            )\n",
    "show_video(images=mjx_frames)"
   ]
  },
  {
   "cell_type": "code",
   "execution_count": null,
   "metadata": {},
   "outputs": [],
   "source": []
  }
 ],
 "metadata": {
  "kernelspec": {
   "display_name": "bsc",
   "language": "python",
   "name": "python3"
  },
  "language_info": {
   "codemirror_mode": {
    "name": "ipython",
    "version": 3
   },
   "file_extension": ".py",
   "mimetype": "text/x-python",
   "name": "python",
   "nbconvert_exporter": "python",
   "pygments_lexer": "ipython3",
   "version": "3.12.3"
  }
 },
 "nbformat": 4,
 "nbformat_minor": 2
}

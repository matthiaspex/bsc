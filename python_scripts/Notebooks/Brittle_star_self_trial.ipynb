{
 "cells": [
  {
   "cell_type": "markdown",
   "id": "c1863bd1-874f-4f02-8b47-e26ea78b8ac3",
   "metadata": {},
   "source": [
    "# Experimenting with Brittle Star Morphology and Environment"
   ]
  },
  {
   "cell_type": "code",
   "execution_count": 1,
   "id": "a2a06f57-2bb7-43c1-8ca7-e0e9784be2fd",
   "metadata": {},
   "outputs": [
    {
     "name": "stdout",
     "output_type": "stream",
     "text": [
      "/home/idlab515/OneDrive/Documents/DOCUMENTEN/4_PhD/BSC/bsc/bin/python\n"
     ]
    }
   ],
   "source": [
    "import sys\n",
    "\n",
    "print(sys.executable)"
   ]
  },
  {
   "cell_type": "code",
   "execution_count": 4,
   "id": "f3f81103",
   "metadata": {},
   "outputs": [],
   "source": [
    "import biorobot"
   ]
  },
  {
   "cell_type": "code",
   "execution_count": 5,
   "id": "a7ddd27e-5f60-4d29-ba6e-a2deea01f75f",
   "metadata": {},
   "outputs": [
    {
     "name": "stderr",
     "output_type": "stream",
     "text": [
      "WARNING:root:Failed to initialize GPU. Everything will run on the cpu.\n"
     ]
    },
    {
     "name": "stdout",
     "output_type": "stream",
     "text": [
      "Checking that the mujoco installation succeeded:\n",
      "MuJoCo installation successful.\n"
     ]
    }
   ],
   "source": [
    "import os\n",
    "import subprocess\n",
    "import logging\n",
    "\n",
    "try:\n",
    "    if subprocess.run('nvidia-smi').returncode:\n",
    "        raise RuntimeError(\n",
    "                'Cannot communicate with GPU. '\n",
    "                'Make sure you are using a GPU Colab runtime. '\n",
    "                'Go to the Runtime menu and select Choose runtime type.'\n",
    "                )\n",
    "\n",
    "    # Add an ICD config so that glvnd can pick up the Nvidia EGL driver.\n",
    "    # This is usually installed as part of an Nvidia driver package, but the Colab\n",
    "    # kernel doesn't install its driver via APT, and as a result the ICD is missing.\n",
    "    # (https://github.com/NVIDIA/libglvnd/blob/master/src/EGL/icd_enumeration.md)\n",
    "    NVIDIA_ICD_CONFIG_PATH = '/usr/share/glvnd/egl_vendor.d/10_nvidia.json'\n",
    "    if not os.path.exists(NVIDIA_ICD_CONFIG_PATH):\n",
    "        with open(NVIDIA_ICD_CONFIG_PATH, 'w') as f:\n",
    "            f.write(\n",
    "                    \"\"\"{\n",
    "                            \"file_format_version\" : \"1.0.0\",\n",
    "                            \"ICD\" : {\n",
    "                                \"library_path\" : \"libEGL_nvidia.so.0\"\n",
    "                            }\n",
    "                        }\n",
    "                        \"\"\"\n",
    "                    )\n",
    "\n",
    "    # Configure MuJoCo to use the EGL rendering backend (requires GPU)\n",
    "    print('Setting environment variable to use GPU rendering:')\n",
    "    %env MUJOCO_GL=egl\n",
    "\n",
    "    # Check if jax finds the GPU\n",
    "    import jax\n",
    "\n",
    "    print(jax.devices('gpu'))\n",
    "except Exception:\n",
    "    logging.warning(\"Failed to initialize GPU. Everything will run on the cpu.\")\n",
    "\n",
    "try:\n",
    "    print('Checking that the mujoco installation succeeded:')\n",
    "    import mujoco\n",
    "\n",
    "    mujoco.MjModel.from_xml_string('<mujoco/>')\n",
    "except Exception as e:\n",
    "    raise e from RuntimeError(\n",
    "            'Something went wrong during installation. Check the shell output above '\n",
    "            'for more information.\\n'\n",
    "            'If using a hosted Colab runtime, make sure you enable GPU acceleration '\n",
    "            'by going to the Runtime menu and selecting \"Choose runtime type\".'\n",
    "            )\n",
    "\n",
    "print('MuJoCo installation successful.')"
   ]
  },
  {
   "cell_type": "code",
   "execution_count": 4,
   "id": "869de609-b035-472f-a335-7e349f229c39",
   "metadata": {},
   "outputs": [
    {
     "name": "stdout",
     "output_type": "stream",
     "text": [
      "Installing mediapy:\n"
     ]
    }
   ],
   "source": [
    "from mujoco_utils.environment.base import MuJoCoEnvironmentConfiguration\n",
    "from mujoco_utils.mjcf_utils import MJCFRootComponent\n",
    "import numpy as np\n",
    "import jax.numpy as jnp\n",
    "from typing import Union, List\n",
    "\n",
    "# Graphics and plotting.\n",
    "print('Installing mediapy:')\n",
    "ffmpeg_v = !command -v ffmpeg\n",
    "assert \"command not found\" not in ffmpeg_v, f\"Please install FFmpeg for visualizations.\"\n",
    "!{sys.executable} -m pip install -q mediapy\n",
    "import mediapy as media\n",
    "\n",
    "# More legible printing from numpy.\n",
    "np.set_printoptions(precision=3, suppress=True, linewidth=100)\n",
    "jnp.set_printoptions(precision=3, suppress=True, linewidth=100)\n",
    "\n",
    "def visualize_mjcf(\n",
    "        mjcf: MJCFRootComponent\n",
    "        ) -> None:\n",
    "    model = mujoco.MjModel.from_xml_string(mjcf.get_mjcf_str())\n",
    "    data = mujoco.MjData(model)\n",
    "    renderer = mujoco.Renderer(model)\n",
    "    mujoco.mj_forward(model, data)\n",
    "    renderer.update_scene(data)\n",
    "    media.show_image(renderer.render())\n",
    "\n",
    "\n",
    "def post_environment_render(\n",
    "        render_output: Union[np.ndarray, List[np.ndarray]],\n",
    "        environment_configuration: MuJoCoEnvironmentConfiguration\n",
    "        ) -> np.ndarray:\n",
    "    if len(environment_configuration.camera_ids) > 1:\n",
    "        render_output = [np.concatenate(env_frames, axis=1) for env_frames in render_output]\n",
    "\n",
    "    return render_output[:, :, ::-1]  # RGB to BGR"
   ]
  },
  {
   "cell_type": "markdown",
   "id": "dccfbbf1-5105-4692-957b-661140277ed4",
   "metadata": {},
   "source": [
    "## 1) creating morphology"
   ]
  },
  {
   "cell_type": "code",
   "execution_count": 5,
   "id": "ab46ed00-b2d5-4fe1-bf55-b1120b8b0cc5",
   "metadata": {},
   "outputs": [],
   "source": [
    "from mujoco_utils.environment.mjx_env import MJXGymEnvWrapper\n",
    "import gymnasium\n",
    "from brb.brittle_star.mjcf.morphology.specification.default import default_brittle_star_morphology_specification\n",
    "from brb.brittle_star.mjcf.morphology.morphology import MJCFBrittleStarMorphology\n",
    "from brb.brittle_star.mjcf.morphology.specification.specification import BrittleStarMorphologySpecification\n",
    "\n",
    "\n",
    "def create_morphology(\n",
    "        morphology_specification: BrittleStarMorphologySpecification\n",
    "        ) -> MJCFBrittleStarMorphology:\n",
    "    morphology = MJCFBrittleStarMorphology(\n",
    "            specification=morphology_specification\n",
    "            )\n",
    "    return morphology"
   ]
  },
  {
   "cell_type": "code",
   "execution_count": 6,
   "id": "660419bb-ea11-4f38-86f8-46fa01f82d62",
   "metadata": {},
   "outputs": [
    {
     "data": {
      "text/html": [
       "<table class=\"show_images\" style=\"border-spacing:0px;\"><tr><td style=\"padding:1px;\"><img width=\"320\" height=\"240\" style=\"image-rendering:auto; object-fit:cover;\" src=\"data:image/png;base64,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\"/></td></tr></table>"
      ],
      "text/plain": [
       "<IPython.core.display.HTML object>"
      ]
     },
     "metadata": {},
     "output_type": "display_data"
    }
   ],
   "source": [
    "morphology_specification = default_brittle_star_morphology_specification(\n",
    "        num_arms=5, num_segments_per_arm=4, use_p_control=True, use_torque_control=False\n",
    "        )\n",
    "morphology = create_morphology(morphology_specification=morphology_specification)\n",
    "visualize_mjcf(mjcf=morphology)"
   ]
  },
  {
   "cell_type": "code",
   "execution_count": 7,
   "id": "a233a600-25f5-4a7a-af55-a2af2728c418",
   "metadata": {},
   "outputs": [
    {
     "data": {
      "text/html": [
       "<table class=\"show_images\" style=\"border-spacing:0px;\"><tr><td style=\"padding:1px;\"><img width=\"320\" height=\"240\" style=\"image-rendering:auto; object-fit:cover;\" src=\"data:image/png;base64,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\"/></td></tr></table>"
      ],
      "text/plain": [
       "<IPython.core.display.HTML object>"
      ]
     },
     "metadata": {},
     "output_type": "display_data"
    }
   ],
   "source": [
    "morphology_specification = default_brittle_star_morphology_specification(\n",
    "        num_arms=4, num_segments_per_arm=[5,0,8,16], use_p_control=True, use_torque_control=False\n",
    "        )\n",
    "morphology = create_morphology(morphology_specification=morphology_specification)\n",
    "visualize_mjcf(mjcf=morphology)"
   ]
  },
  {
   "cell_type": "code",
   "execution_count": 8,
   "id": "b133fd02-04be-4e6c-9d98-d2b66f0af5aa",
   "metadata": {},
   "outputs": [
    {
     "data": {
      "text/html": [
       "<table class=\"show_images\" style=\"border-spacing:0px;\"><tr><td style=\"padding:1px;\"><img width=\"320\" height=\"240\" style=\"image-rendering:auto; object-fit:cover;\" src=\"data:image/png;base64,iVBORw0KGgoAAAANSUhEUgAAAUAAAADwCAIAAAD+Tyo8AAATPklEQVR4nO3dyXMbSXYG8JdZe6FQKOwLF6kl9TY9S3tijj7YB//RjrAPvjjC9jjcMzEed09L4iYSIEHstW/pAyRqGWm0USqg8P0O3YoQAb1m81MWMl9mEgEAAAAAAAAAAAAAAAAAAAAAAAAAAAAAAAAAAAAAAAAAAAAAAAAAAAAAAAAAAAAAAAAAAAAAAAAAAAAAAAAAAAAAAAAAAAAAAAAAAAAAAAAAAAAAAAAAAAAAAAAAAAAAAAAAAAAAAAAAAAAAAAAAAAAAAAAAAAAAAAAAAAAAAAAAAAAAAABsBN2q/PIf//6L739VdCHwdnLRBcDG6T+4Zzm1NE6KLgTejhddAGwWvWJWHFvXdHcyLboWeDsEGF7S+eKOrKpX5+dPfvy56Frg7fAIDc9VHLt9uE9Eq8ms6FrgnSDA8Fy917Xsap7l108uiq4F3gkCDE/VOq16v7uYzubDy2C5KroceCf4DAxPte8cSIqSp9n8alx0LfCuEGAgIqo4tcagZ1atOAx9DL/bAwEGIqLGXj/zAlVVvdk8DsKiy4F3hQADtQ72nE4752x4dHJ5fFp0OfAeEOBdp2hao9+VFCnPhbdYYvjdLgjwrmsMepW6wyU5TeLl1XXR5cD7QYB3XXOv3z/Yt2p2EkZLtE9uG6wD77R6v5smyfD0TFKV8emTosuB94YA7y7VMNp3DsyqJYS4Oj6bDS+LrgjeGx6hd1e919EMnXGeZVkSRUWXAx8CAd5Rqq47vY6sKEKIJIymF6OiK4IPgQDvqMZe3+m0Gt0O53x1PYk8v+iK4EMgwDtK1TV/tqAkZYxNL/Dpd1thEmsXNQa9WqclyfLw/GJ5PQlct+iK4ANhBN45mmm0D/clWWaMMc7GJ1g92mII8M6p97uKrjPO8zyPg1CIvOiK4MMhwLtFMwy71ZQVmYTIknR5PUXz81ZDgHdL83Cv1m6ZNZtxHofhfITpq+2GAO8Wu1mv2NX+YCCrqjudRX5QdEXwUTALvUMag14aJ6OHR9PzIVPk2fCq6IrgYyHAu0Izzfbhvm5ZXOKh641+eojVoxLAI/SuaAy6iq5xzkSeM8aQ3nJAgHeCZhrVVlOSZWIsz/LID7IkLboouAUI8E6o97uqrnHOhRBpkiwnU2w/KgcEuPy0itno9/RKhctynmVxEC5w8nNZIMDl1+h3K3Wnuzew6w4jWk3QvFEemIUuP8a5N5mGppmSyIWYX2L1qDwQ4JJrDHr1XldSlbPjkzxOvNUKzRtlgkfoMtMqZutgT1YVSZKMajUMw+HDo6KLgtuEAJdZ49nGIxIiS1ORY+NR2SDApaWZptWoS7LEGBNCZEmCc3PKBwEurXq/q+o6l6T18BsFweJ6UnRRcMsQ4HLSTMNuN2VVXQ+/aZKuJrMkRPNG2WAWupzah/t2s6EaepamwcqLQzRvlBMCXDZW3Xnwu++FEHmW1Wo1z3XjIHTRvFFSCHB59O7dJaLe/btExBjLs2x4ekZEWZrOce1gSSHAW8yqO1bdoWehfZOrkyeYfy4rVnQB8H7Ww6zVeBrdd/Tw9z+4s/mnqQiKhABvunccZt8KGS4lBHgTfdgw+1bIcPkgwAV78LvviWj06PhWhtm3QoZLBgEuzHq95/P/uchwmSDAxSgqvWujR8ejx8dF/elwi9BKWQCzZt/77a8LLKB3/+76YzZsOwS4AP5imURRmiQF1oAMlwMCXBguScUWgAyXAAJcDH+xLLoEImR4+yHAxfA2I8CEDG85BLgY16fnnG/KNx8Z3l6b8jMExUKGtxQCXIzb7ZG8FcjwNsJ2Qniud/+u1XDc6ZyI0OmxFRBgeMnN5id3NkfH5eZDgIuxgY/Qf81uNxv9nqwqb/oCkefTi9FsdEVEtXbLrNlcev2HsizNZsPR+lIIp9t57ZfleR6s3PXZA1bd+et18iSMbq41VnTtlVlAIcQOHhuEABfDajhFl/AWrYOBaVeNmi1J8htb5oWoNhuqpkWev/ftV0a1wvjru1NEnjnd9ukf/9y5f8fptGVF+ev3FIIi3//5v/6n1m517h6quvpKr74gEbn+j//+n+07B+3DfVl56W+WXOSjR0fz0Xjw9YNKzX7xpd5scfzH/20MevV+lzFORFmapHFy9uef6r2u6diMMSKaja68bXvoQIDh9SpWVbMsu16/c+dOEDy/TskwjCDwBREJCoLg+uqqvb8notiwrU6/Z5oVIhJERGL9LyIiEsvlihi7/+UDcqxaq1lv1F8IpyAiISiO49l0+uAX3wpZanRatUZdvPAORJSm2WI2+/rvfsMrRmvQMyqVm98ioiRJNMPoNMdat9EdDNIsu3mtt/I0Sdbqtc7+gBhb1xbHsSLJ1U6zf+cwTmISFPj+D//yb8Fy9Sm+n58IAgwvSZNkPbJJEifGiCgIAi7xZ6GkMIoY54yIBHHOn+aBiBHLs5xxTiQYERG7eQmR4JwzxiRZzogJIYgxxtiz6DFBgjFSFIUxpmlqlGdJmq1HxWeYIJJlxjg3dD1iRETr+8rXLyciSZKJsSiONGJpdvNyIYhJssRvrpVhdPN3BycmiOI4Xv9XcM4L7299XwhwMTb2M3DkBbKjENF4dFnvdyVZ8l335Sy9QFAchsPj0yzL9i1zwthsOn3tF+ZZ7s0WD//wx8G3X8mqEnj+ax7LBUW+f/znH3W7Kul6HIavfo2g0PMe/fCHWrfNOV9MZy/9psiHPx9NL4a9LI18/8War8/Ohw+PWof7q+l0/QhNRP5yOXp0bNrVSb9LxNI4yrJs6x6hsR+4GN//0z8UXcJrePNlmiS1dpOIHv7+hyxN24f7eqXyph+TPMtmw8vJ+ZCIjKrVGPTe1F4WuN712fn616Zd1avWa/IraHoxXP9ar5jsdW8VrJ5PYt1EcS0OdvHaVAS4AMXu5n+TdXqJ6CbAWEbafHiEBiKi0PPX6Z2NLscnZ0SE9G4FBBgo9Pz1Cm3oevPRVdHlwHtAL3QBNmoG68X0Dh8+LroceD8IcAE2p4sD6d12CPDn1rt3d0NG4Jv0EtFsdFlsMfBhMAv9Wd399XdOt110FUQvp3f48HHoesXWAx8GI/BnFflBsYdRrqVJgvSWAwL8+ai6lkSRNy/4NKw0SW5qmI0ukd6thmWkz8HpdVoHe7KixEEYL5aeolQcm4jyLOPr7Tuf66PMK+nFotG2Q4A/Lafbae4PjKql6pqkKGkcu7LsLRZc4lyWiEjRNKKnLf983Rv4ycKM9JYPAvypOJ12Y79v2lVF12RFkWSZS5IkS0kURbNFmqSq/OrGl1zkRC+E+baTHHnP55yR3nJAgG9frd1q7PVNu6oauqwqkixzLhEjIYQQgjEmVDl/tltV5Plru/Zzkd/sp72VMN+0OiO9ZYIA3ya71WwMembNVg1dUVWuyNJ6x6wQWZbnSZpEsb90R4+OKnWn/+ALf7EMVq7VqP/tleGPD/NNetEsWTJYB741hmXd++2vtIrJJUmSlZsN8XmWZWmaxknkB5Pz4Ww4Wh/d1NjrT8+HNy+v1B3LqVXqtXds82CMMWLv8j8Q7VYlhgDfmsPvvundu2tWLc55GIZCCJHnWZqmSRoHgTdbTC6Gq+vX73d/xe2GeR1gpLeU8Aj9UZxex+m08yzzp3Nd1SRFrjmOpmvnZ0/SOE6TJA5Cf7GcnA8XV9fv/rbebO7N5nRERFSpO90vDulvboEQQggS9PSkmldzrJlG5AdoliwljMAfaL0+ZNqWousiz/zFKlt6Zr1W3esxosgPQs8PVqvrs4v55a195nxrmN3Z3G42iEgIcfNPIvrLf/w3GjZKCSPwe3M67cZe36xVVV2XVYXLMiMSubieL5LpjBs6MQpW7tXx2a0Pet5s/ng2J6JK3SGi14Y58gNF14jIn86TMDQbdUXXkN6yQoDfg91uNvf6Zs1WdV1WVenZJHOeZYxzYuzk/366PD0jxj51YNZnr70S5nWS10c0etdTrikVq5El6Woye+MbwZbDI/Q7qTYbzb2+6diaYayXdiVJIqJciDzL0jiJPO/kTz+uJu80R/XpVOrOwS++YoyJPNctizGWxknoeZePj5fvNn8G2wUj8NvpVuXwu2+0iilJkqTIXJLWCcmyLE2SJIxC1706eVJ4eunZyJwl6fopmoi4xGVFsdtNBLiUMAK/3cG3X/e/vFexLc6erg9lSZqlaRpFgeuPT8+mF6Oia3xJrd3qf3lPMw0uSUKINI6DlTt6dOzNF0WXBrcMI/DrOb1OvdcRuViOJ6ZhSLJcrdqcc9/zkjhJoyj0/KuTsxc7MTbHYnzdOtiTVWV9hQKXJFlVDauCAJcPAvwqp9tu7g/WncwiF7pVyZeuNxoziVEuQt8PXf/q+HTdBVl0sW80HY765hekCOKccy4ritWsu7N56PlFlwa3CQF+rtZpPZ1kNgxZVWRZJqI8y66nM388zmRORJfHp6Hrrq/A3mRJFKdJIquqxBgxxmVJ1XXVNBDgkkGAidabEPb6leeTzMp6kjnLUmIsjZPR4+MnPz8qusz34E5n6wVhLkuMMc4lWVFqnfZyPCm6NLhNCDANvrpf73VVQ5dVVVZkSZZJUJalWZomURyu3Nl2bt9ZXI6NqiUrCpMkSZEZ0820Wm3WsSxcJrse4L1vvuzfu6toGjGSFUUIkadZmqZpHEd+cHl0EqzcyN/Kx8751bh5sKeZhqprpmUlScIkbtUR4FLZ0QBbjXqeZZHnK5KkW5X9g4PpZOKuVk/3/QXBajKdXlxuwtLux5gNR9VWQzOMg8PD4XAYBaFhW0UXBbdp5wLsdDutg4FuVbIkXU6mtqTmeT6dTnzPj4IgDkJvvpg8GS7G77F5aGOlSZKnaRLH5+fncRQF82W4wTPn8AF2qJFjfUhV5dkks8hydzYPr2d6o2Y2nCxJVpPZ7W4e2gStg739b78KZ4twuUqF8F1309pO4GPsxAi83oRQcRzN0GVNlWWZc55lmaQq89Vy+uNPZs2WFWV5XcIZ2uuzc2++aB/uV3ttSZbtOFE07fLopOi64HaUPMCqYQy+vFep1zTDkDVVVhRJkkQukiRJ4jgJo3XzsL8o+LD1TyqJIqNqrc+vlRRRbTbc2RxdWeVQ8gDvfX2/tb/HZWm9f0gIkcRxGidxGPrz5dXp2c0NIyWWxkme53mWrc/HVDRVR1tlWZQzwBXHTsI4DsNGv2c36rVabXx1lT4bdYPlanx6vlNHzCzHk/XeBi5xSZHtVnN+Oc424JYm+EhlC/D6EhPdNKMgyFZetvLTerpcLuIwjPwgcL3x8dl0uHOzOMHKTeNEUhTGGJdkVdcqjo2urBIoT4DXmxBuJpm1yJhn+fDomFUMzlnguqPHJ5u5eegzWF5PWgcDRdc4Z1zisqo6aKsshTIEeH0TglV/OsmsqCpjTORCUuTpZHL5z/9qVK1N3jn0ecyGl7plSbIsyTKvSHmeV5uNbe9Uga0P8OCr+829wfomBEVTGWNZmiZxHAfhajJNwoiIkF4icmeLNI5Nu9ruddM0nXJWcWwEeNttd4DNmt3/8l6lWhW5YJxlWZZEcRJFgeteHW/obvuiJFHkzuZOt80kLpHMucQYbofeelsZ4Hq/W3Fq/nKlMUnVNafRiMNwNp0mYRR63uXR6eTJRdE1biJvvgg9f3J1HU/nk6uxO5sXXRF8rC1rpXR6nfbhvmnbsioHK5d5oWTolV47jRN/ubx8fLKaziLsWX8zo2o1Bj3dquiVShQEo4dHiPFW25oR2Om2m/t76z33qq7JikKCxtP59Y9/qbQaRBSsXPwsvtV6Pcmq1xlnjLNat41v2lbbjgAffPf1es+9pumKqgghojDM0jT0PN/3/VMMue8hCaMsTRVN5bJs2lXTrvrLVdFFwQfaggBbdWfw5X3TNNc3/URRFIdR6HqXRyfXZ+dFV7d9Qs9Lo0hWZM65ommqaSDA22tzA9wY9KyG480X7W5X0bRmp301HPmuF3r+5eNjb77Aj92H8Zcrb7lSDV3WNM002of7uPJ7e21igOv9bufuoWlXJUX2F0ux9KZHZ0kUha53dXzqTuerKQ6F+SjL8bXTaVs12zRNxli1Uce3dEttVoDr/W7rYK9Sq2mmrpsmI8qS9MnJk/Hpk4pjp0mKGeZbsbi6zr9JGWNJmhBRGmNXw7baoACbNfuL3/xSNXRV0zjnaZKEQRD5vr9cEpE3L/OW3c/v6Ic/xUFo1uyLnx8HLjrVttVGrAM7nXaWZ81O+85vfllvNCbjcRgEkecPHx37iyV2rgK8ScEjcHN/0P3iUDPNYOXG00XgeUkc+8vV9GI0G12hUxfgbytsBG4Met17d0y7qpumoqqr2fzi58eL8bVpV5MwKsehkACfWmEj8J1ff1dr1BljQgjf9SI/WE2m/mJZ7uOpAG5XYQFWVNWu1a5Gl8HKHT585C9W6OkDeF+FPUJXm/X+g3veYrm6npbyPFcAAAAAAAAAAAAAAAAAAAAAAAAAAAAAAAAAAAAAAAAAAAAAAAAAAAAAAAAAAAAAAAAAAAAAAAAAAAAAAAAAAAAAAAAAAAAAAAAAAAAAAAAAAAAAAAAAAAAAKML/A+ct4f3g5s6HAAAAAElFTkSuQmCC\"/></td></tr></table>"
      ],
      "text/plain": [
       "<IPython.core.display.HTML object>"
      ]
     },
     "metadata": {},
     "output_type": "display_data"
    }
   ],
   "source": [
    "# try some more manual morphology specification:\n",
    "# the only thing that actually changes is the disk radius in this setting, something we needn't change afterwards\n",
    "from brb.brittle_star.mjcf.morphology.specification.specification import BrittleStarActuationSpecification, \\\n",
    "    BrittleStarArmSegmentSpecification, BrittleStarArmSpecification, BrittleStarDiskSpecification, \\\n",
    "    BrittleStarJointSpecification, BrittleStarMorphologySpecification\n",
    "from brb.brittle_star.mjcf.morphology.specification.default import default_arm_specification\n",
    "\n",
    "num_arms = 5\n",
    "num_segments_per_arm = [8,8,0,8,3]\n",
    "disk_specification = BrittleStarDiskSpecification(diameter=0.5, height=0.025)\n",
    "arm_specifications = list()\n",
    "for num_segments in num_segments_per_arm:\n",
    "    arm_specification = default_arm_specification(num_segments_per_arm=num_segments)\n",
    "    arm_specifications.append(arm_specification)\n",
    "\n",
    "actuation_specification = BrittleStarActuationSpecification(use_p_control=True, use_torque_control=False)\n",
    "morphology_specification = BrittleStarMorphologySpecification(\n",
    "    disk_specification=disk_specification,\n",
    "    arm_specifications=arm_specifications,\n",
    "    actuation_specification=actuation_specification)\n",
    "    \n",
    "\n",
    "# morphology_specification = default_brittle_star_morphology_specification(\n",
    "#         num_arms=3, num_segments_per_arm=[5,8,16], use_p_control=True, use_torque_control=False\n",
    "#         )\n",
    "morphology = create_morphology(morphology_specification=morphology_specification)\n",
    "visualize_mjcf(mjcf=morphology)"
   ]
  },
  {
   "cell_type": "code",
   "execution_count": 42,
   "id": "8c8bc522-6cfc-4a5c-b878-b84c2b6cb612",
   "metadata": {},
   "outputs": [
    {
     "ename": "TypeError",
     "evalue": "object of type 'numpy.int64' has no len()",
     "output_type": "error",
     "traceback": [
      "\u001b[0;31m---------------------------------------------------------------------------\u001b[0m",
      "\u001b[0;31mTypeError\u001b[0m                                 Traceback (most recent call last)",
      "Cell \u001b[0;32mIn[42], line 13\u001b[0m\n\u001b[1;32m      1\u001b[0m \u001b[38;5;28;01mfrom\u001b[39;00m \u001b[38;5;21;01mbrb\u001b[39;00m\u001b[38;5;21;01m.\u001b[39;00m\u001b[38;5;21;01mbrittle_star\u001b[39;00m\u001b[38;5;21;01m.\u001b[39;00m\u001b[38;5;21;01mmjcf\u001b[39;00m\u001b[38;5;21;01m.\u001b[39;00m\u001b[38;5;21;01mmorphology\u001b[39;00m\u001b[38;5;21;01m.\u001b[39;00m\u001b[38;5;21;01mspecification\u001b[39;00m\u001b[38;5;21;01m.\u001b[39;00m\u001b[38;5;21;01mdefault\u001b[39;00m \u001b[38;5;28;01mimport\u001b[39;00m default_arm_length_based_brittle_star_morphology_specification\n\u001b[1;32m      2\u001b[0m \u001b[38;5;66;03m# try class default_arm_length_based_brittle_star_morphology_specification\u001b[39;00m\n\u001b[1;32m      3\u001b[0m \u001b[38;5;66;03m# arm lengths in disc diameter: enter a float: the length of the arm is that float * disc diameter\u001b[39;00m\n\u001b[1;32m      4\u001b[0m \u001b[38;5;66;03m# the number of segments will always be a multiple of 3 (min 3, max 99)\u001b[39;00m\n\u001b[0;32m   (...)\u001b[0m\n\u001b[1;32m     10\u001b[0m \u001b[38;5;66;03m#         num_arms=5, arm_length_in_disk_diameters=[3,5,5, 0,8], use_p_control=True, use_torque_control=False\u001b[39;00m\n\u001b[1;32m     11\u001b[0m \u001b[38;5;66;03m#         )\u001b[39;00m\n\u001b[0;32m---> 13\u001b[0m morphology_specification \u001b[38;5;241m=\u001b[39m \u001b[43mdefault_arm_length_based_brittle_star_morphology_specification\u001b[49m\u001b[43m(\u001b[49m\n\u001b[1;32m     14\u001b[0m \u001b[43m        \u001b[49m\u001b[43mnum_arms\u001b[49m\u001b[38;5;241;43m=\u001b[39;49m\u001b[38;5;241;43m5\u001b[39;49m\u001b[43m,\u001b[49m\u001b[43m \u001b[49m\u001b[43marm_length_in_disk_diameters\u001b[49m\u001b[38;5;241;43m=\u001b[39;49m\u001b[38;5;241;43m3\u001b[39;49m\u001b[43m,\u001b[49m\u001b[43m \u001b[49m\u001b[43muse_p_control\u001b[49m\u001b[38;5;241;43m=\u001b[39;49m\u001b[38;5;28;43;01mTrue\u001b[39;49;00m\u001b[43m,\u001b[49m\u001b[43m \u001b[49m\u001b[43muse_torque_control\u001b[49m\u001b[38;5;241;43m=\u001b[39;49m\u001b[38;5;28;43;01mFalse\u001b[39;49;00m\n\u001b[1;32m     15\u001b[0m \u001b[43m        \u001b[49m\u001b[43m)\u001b[49m\n\u001b[1;32m     18\u001b[0m morphology \u001b[38;5;241m=\u001b[39m create_morphology(morphology_specification\u001b[38;5;241m=\u001b[39mmorphology_specification)\n\u001b[1;32m     19\u001b[0m visualize_mjcf(mjcf\u001b[38;5;241m=\u001b[39mmorphology)\n",
      "File \u001b[0;32m/data/gent/457/vsc45787/conda/envs/brb/lib/python3.11/site-packages/brb/brittle_star/mjcf/morphology/specification/default.py:119\u001b[0m, in \u001b[0;36mdefault_arm_length_based_brittle_star_morphology_specification\u001b[0;34m(num_arms, arm_length_in_disk_diameters, use_p_control, use_torque_control)\u001b[0m\n\u001b[1;32m    115\u001b[0m length_per_num_segments \u001b[38;5;241m=\u001b[39m np\u001b[38;5;241m.\u001b[39marray(length_per_num_segments)\n\u001b[1;32m    117\u001b[0m num_segments \u001b[38;5;241m=\u001b[39m np\u001b[38;5;241m.\u001b[39margmin(np\u001b[38;5;241m.\u001b[39mabs(length_per_num_segments \u001b[38;5;241m-\u001b[39m target_arm_length)) \u001b[38;5;241m*\u001b[39m \u001b[38;5;241m3\u001b[39m \u001b[38;5;241m+\u001b[39m \u001b[38;5;241m3\u001b[39m\n\u001b[0;32m--> 119\u001b[0m \u001b[38;5;28;01mreturn\u001b[39;00m \u001b[43mdefault_brittle_star_morphology_specification\u001b[49m\u001b[43m(\u001b[49m\n\u001b[1;32m    120\u001b[0m \u001b[43m        \u001b[49m\u001b[43mnum_arms\u001b[49m\u001b[38;5;241;43m=\u001b[39;49m\u001b[43mnum_arms\u001b[49m\u001b[43m,\u001b[49m\n\u001b[1;32m    121\u001b[0m \u001b[43m        \u001b[49m\u001b[43mnum_segments_per_arm\u001b[49m\u001b[38;5;241;43m=\u001b[39;49m\u001b[43mnum_segments\u001b[49m\u001b[43m,\u001b[49m\n\u001b[1;32m    122\u001b[0m \u001b[43m        \u001b[49m\u001b[43muse_p_control\u001b[49m\u001b[38;5;241;43m=\u001b[39;49m\u001b[43muse_p_control\u001b[49m\u001b[43m,\u001b[49m\n\u001b[1;32m    123\u001b[0m \u001b[43m        \u001b[49m\u001b[43muse_torque_control\u001b[49m\u001b[38;5;241;43m=\u001b[39;49m\u001b[43muse_torque_control\u001b[49m\n\u001b[1;32m    124\u001b[0m \u001b[43m        \u001b[49m\u001b[43m)\u001b[49m\n",
      "File \u001b[0;32m/data/gent/457/vsc45787/conda/envs/brb/lib/python3.11/site-packages/brb/brittle_star/mjcf/morphology/specification/default.py:77\u001b[0m, in \u001b[0;36mdefault_brittle_star_morphology_specification\u001b[0;34m(num_arms, num_segments_per_arm, use_p_control, use_torque_control)\u001b[0m\n\u001b[1;32m     75\u001b[0m     num_segments_per_arm \u001b[38;5;241m=\u001b[39m [num_segments_per_arm] \u001b[38;5;241m*\u001b[39m num_arms\n\u001b[1;32m     76\u001b[0m \u001b[38;5;28;01melse\u001b[39;00m:\n\u001b[0;32m---> 77\u001b[0m     \u001b[38;5;28;01massert\u001b[39;00m \u001b[38;5;28mlen\u001b[39m(num_segments_per_arm) \u001b[38;5;241m==\u001b[39m num_arms, (\u001b[38;5;124mf\u001b[39m\u001b[38;5;124m\"\u001b[39m\u001b[38;5;124mLength of the \u001b[39m\u001b[38;5;124m'\u001b[39m\u001b[38;5;124mnum_segments_per_arm\u001b[39m\u001b[38;5;124m'\u001b[39m\u001b[38;5;124m input must be\u001b[39m\u001b[38;5;124m\"\u001b[39m\n\u001b[1;32m     78\u001b[0m                                                    \u001b[38;5;124mf\u001b[39m\u001b[38;5;124m\"\u001b[39m\u001b[38;5;124mequal to the \u001b[39m\u001b[38;5;124m'\u001b[39m\u001b[38;5;124mnum_arms\u001b[39m\u001b[38;5;124m'\u001b[39m\u001b[38;5;124m input.\u001b[39m\u001b[38;5;124m\"\u001b[39m)\n\u001b[1;32m     80\u001b[0m arm_specifications \u001b[38;5;241m=\u001b[39m \u001b[38;5;28mlist\u001b[39m()\n\u001b[1;32m     81\u001b[0m \u001b[38;5;28;01mfor\u001b[39;00m num_segments \u001b[38;5;129;01min\u001b[39;00m num_segments_per_arm:\n",
      "\u001b[0;31mTypeError\u001b[0m: object of type 'numpy.int64' has no len()"
     ]
    }
   ],
   "source": [
    "from brb.brittle_star.mjcf.morphology.specification.default import default_arm_length_based_brittle_star_morphology_specification\n",
    "# try class default_arm_length_based_brittle_star_morphology_specification\n",
    "# arm lengths in disc diameter: enter a float: the length of the arm is that float * disc diameter\n",
    "# the number of segments will always be a multiple of 3 (min 3, max 99)\n",
    "# Will try by force all different lengths of arms and look which one is closest to the target length\n",
    "\n",
    "\n",
    "# # LISTS NOT YET SUPPORTED AS ARM LENGTHS\n",
    "# morphology_specification = default_arm_length_based_brittle_star_morphology_specification(\n",
    "#         num_arms=5, arm_length_in_disk_diameters=[3,5,5, 0,8], use_p_control=True, use_torque_control=False\n",
    "#         )\n",
    "\n",
    "morphology_specification = default_arm_length_based_brittle_star_morphology_specification(\n",
    "        num_arms=5, arm_length_in_disk_diameters=3, use_p_control=True, use_torque_control=False\n",
    "        )\n",
    "\n",
    "\n",
    "morphology = create_morphology(morphology_specification=morphology_specification)\n",
    "visualize_mjcf(mjcf=morphology)"
   ]
  },
  {
   "cell_type": "code",
   "execution_count": 9,
   "id": "9aa52c94-c597-4076-95b7-12cb16d29634",
   "metadata": {},
   "outputs": [
    {
     "name": "stdout",
     "output_type": "stream",
     "text": [
      "9\n",
      "<class 'numpy.int64'>\n",
      "False\n",
      "True\n",
      "True\n"
     ]
    }
   ],
   "source": [
    "num_segments = np.argmin([5,3,2,8,7,9]) * 3 + 3\n",
    "print(num_segments)\n",
    "print(type(num_segments))\n",
    "print(isinstance(num_segments, int))\n",
    "print(isinstance(num_segments, np.int64))\n",
    "print(isinstance(int(num_segments), int))"
   ]
  },
  {
   "cell_type": "markdown",
   "id": "827c6326-c9b2-43c2-b3a3-3fe7448a1436",
   "metadata": {},
   "source": [
    "## 2) creating arena"
   ]
  },
  {
   "cell_type": "code",
   "execution_count": 10,
   "id": "e0c59366-1b63-44d6-a3fa-d79aed68f76e",
   "metadata": {},
   "outputs": [],
   "source": [
    "from brb.brittle_star.mjcf.arena.aquarium import AquariumArenaConfiguration, MJCFAquariumArena\n",
    "\n",
    "\n",
    "def create_arena(\n",
    "        arena_configuration: AquariumArenaConfiguration\n",
    "        ) -> MJCFAquariumArena:\n",
    "    arena = MJCFAquariumArena(\n",
    "            configuration=arena_configuration\n",
    "            )\n",
    "    return arena"
   ]
  },
  {
   "cell_type": "code",
   "execution_count": 11,
   "id": "d4033f45-a7af-425d-a205-4f2654c22769",
   "metadata": {},
   "outputs": [
    {
     "data": {
      "text/html": [
       "<table class=\"show_images\" style=\"border-spacing:0px;\"><tr><td style=\"padding:1px;\"><img width=\"320\" height=\"240\" style=\"image-rendering:auto; object-fit:cover;\" src=\"data:image/png;base64,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\"/></td></tr></table>"
      ],
      "text/plain": [
       "<IPython.core.display.HTML object>"
      ]
     },
     "metadata": {},
     "output_type": "display_data"
    }
   ],
   "source": [
    "arena_configuration = AquariumArenaConfiguration(\n",
    "        size=(10, 5), sand_ground_color=True, attach_target=False, wall_height=1.5, wall_thickness=0.1\n",
    "        )\n",
    "arena = create_arena(arena_configuration=arena_configuration)\n",
    "visualize_mjcf(mjcf=arena)"
   ]
  },
  {
   "cell_type": "markdown",
   "id": "14a04b90-8fa0-4329-8fa7-7f11399cbc04",
   "metadata": {},
   "source": [
    "## 3) creating an environment\n",
    "Combining morphology and arena"
   ]
  },
  {
   "cell_type": "markdown",
   "id": "bad4cbad-35af-4bc1-80ca-c64eb4fc19df",
   "metadata": {},
   "source": [
    "The cell below just gives information about all the different environment configurations"
   ]
  },
  {
   "cell_type": "code",
   "execution_count": 12,
   "id": "5d55c61e-487b-43b1-a0e4-51107fdd3586",
   "metadata": {},
   "outputs": [],
   "source": [
    "from brb.brittle_star.environment.light.mjc_env import BrittleStarLightEnvironmentConfiguration\n",
    "from brb.brittle_star.environment.target.mjc_env import BrittleStarTargetEnvironmentConfiguration\n",
    "from brb.brittle_star.environment.locomotion.mjc_env import BrittleStarLocomotionEnvironmentConfiguration\n",
    "\n",
    "locomotion_environment_configuration = BrittleStarLocomotionEnvironmentConfiguration(\n",
    "         # If this value is > 0 then we will add randomly sampled noise to the initial joint positions and velocities \n",
    "        joint_randomization_noise_scale=0.0,\n",
    "        # Visualization mode \n",
    "        render_mode=\"rgb_array\",\n",
    "        # Number of seconds per episode \n",
    "        simulation_time=5,\n",
    "        # Number of physics substeps to do per control step \n",
    "        num_physics_steps_per_control_step=10\n",
    "        )\n",
    "target_locomotion_environment_configuration = BrittleStarTargetEnvironmentConfiguration(\n",
    "        # Distance to put our target at (targets are spawned on a circle around the starting location with this given radius).\n",
    "        target_distance=3.0,\n",
    "        joint_randomization_noise_scale=0.0,\n",
    "        render_mode=\"rgb_array\",\n",
    "        simulation_time=5,\n",
    "        num_physics_steps_per_control_step=10\n",
    "        )\n",
    "light_escape_environment_configuration = BrittleStarLightEnvironmentConfiguration(\n",
    "        # If this value is > 0, we will add perlin noise to the generated light map. Otherwise, the light map is a simple linear gradient.\n",
    "        #   Please only provide integer factors of 200.\n",
    "        light_perlin_noise_scale=0,\n",
    "        joint_randomization_noise_scale=0,\n",
    "        render_mode=\"rgb_array\",\n",
    "        simulation_time=5,\n",
    "        num_physics_steps_per_control_step=10\n",
    "        )"
   ]
  },
  {
   "cell_type": "markdown",
   "id": "5de09810-0afa-4817-979f-31300d8d632b",
   "metadata": {},
   "source": [
    "The below cell defines how to create an environment from the selected morphology specifications, aquarium configuration and the specific environment configuration, regarding light, target or distance as a reward."
   ]
  },
  {
   "cell_type": "code",
   "execution_count": 13,
   "id": "d0cd54e9-a07b-40db-97aa-41dcab589608",
   "metadata": {},
   "outputs": [],
   "source": [
    "from mujoco_utils.environment.mjc_env import MJCEnv\n",
    "from brb.brittle_star.environment.light.mjc_env import BrittleStarLightMJCEnvironment\n",
    "from brb.brittle_star.environment.target.mjc_env import BrittleStarTargetMJCEnvironment\n",
    "from brb.brittle_star.environment.locomotion.mjc_env import BrittleStarLocomotionMJCEnvironment\n",
    "from brb.brittle_star.environment.light.mjx_env import BrittleStarLightMJXEnvironment\n",
    "from brb.brittle_star.environment.target.mjx_env import BrittleStarTargetMJXEnvironment\n",
    "from brb.brittle_star.environment.locomotion.mjx_env import BrittleStarLocomotionMJXEnvironment\n",
    "from mujoco_utils.environment.base import MuJoCoEnvironmentConfiguration\n",
    "\n",
    "\n",
    "def create_environment(\n",
    "        morphology_specification: BrittleStarMorphologySpecification,\n",
    "        arena_configuration: AquariumArenaConfiguration,\n",
    "        environment_configuration: MuJoCoEnvironmentConfiguration,\n",
    "        backend: str,\n",
    "        num_environments: int = 1\n",
    "        ) -> Union[MJCEnv, MJXGymEnvWrapper]:\n",
    "    assert backend in [\"MJC\", \"MJX\"], \"Please specify a valid backend; Either 'MJC' or 'MJX'\"\n",
    "\n",
    "    def _create_env() -> Union[MJCEnv, gymnasium.vector.AsyncVectorEnv, MJXGymEnvWrapper]:\n",
    "        morphology = create_morphology(\n",
    "                morphology_specification=morphology_specification\n",
    "                )\n",
    "        arena = create_arena(\n",
    "                arena_configuration=arena_configuration\n",
    "                )\n",
    "        if isinstance(environment_configuration, BrittleStarLocomotionEnvironmentConfiguration):\n",
    "            env_class = BrittleStarLocomotionMJCEnvironment if backend == \"MJC\" else BrittleStarLocomotionMJXEnvironment\n",
    "        elif isinstance(environment_configuration, BrittleStarTargetEnvironmentConfiguration):\n",
    "            env_class = BrittleStarTargetMJCEnvironment if backend == \"MJC\" else BrittleStarTargetMJXEnvironment\n",
    "        else:\n",
    "            env_class = BrittleStarLightMJCEnvironment if backend == \"MJC\" else BrittleStarLightMJXEnvironment\n",
    "\n",
    "        env = env_class(morphology=morphology, arena=arena, configuration=environment_configuration)\n",
    "        return env\n",
    "\n",
    "    if backend == \"MJC\":\n",
    "        if num_environments > 1:\n",
    "            return gymnasium.vector.AsyncVectorEnv(\n",
    "                    [_create_env for _ in range(num_environments)]\n",
    "                    )\n",
    "        else:\n",
    "            return _create_env()\n",
    "    else:\n",
    "        # MJXGymEnvWrapper takes care of the handling the consequences of functional programming made necessary by Jax \n",
    "        return MJXGymEnvWrapper(env=_create_env(), num_envs=num_environments)"
   ]
  },
  {
   "cell_type": "markdown",
   "id": "44fa5fb5-5017-4f0e-8cc6-4b708dbca69b",
   "metadata": {},
   "source": [
    "Now we can start using these environments"
   ]
  },
  {
   "cell_type": "code",
   "execution_count": 14,
   "id": "a345f1a6-236c-4043-83a9-9ff499339362",
   "metadata": {},
   "outputs": [
    {
     "data": {
      "text/html": [
       "<table class=\"show_images\" style=\"border-spacing:0px;\"><tr><td style=\"padding:1px;\"><img width=\"320\" height=\"240\" style=\"image-rendering:auto; object-fit:cover;\" src=\"data:image/png;base64,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\"/></td></tr></table>"
      ],
      "text/plain": [
       "<IPython.core.display.HTML object>"
      ]
     },
     "metadata": {},
     "output_type": "display_data"
    }
   ],
   "source": [
    "morphology_specification = default_brittle_star_morphology_specification(\n",
    "        num_arms=5, num_segments_per_arm=4, use_p_control=True, use_torque_control=False\n",
    "        )\n",
    "arena_configuration = AquariumArenaConfiguration(\n",
    "        size=(10, 5), sand_ground_color=True, attach_target=False, wall_height=1.5, wall_thickness=0.1\n",
    "        )\n",
    "environment_configuration = BrittleStarLightEnvironmentConfiguration(\n",
    "        joint_randomization_noise_scale=0.0,\n",
    "        light_perlin_noise_scale=0, # integer that divides 200\n",
    "        render_mode=\"rgb_array\",\n",
    "        simulation_time=5,\n",
    "        num_physics_steps_per_control_step=10\n",
    "        )\n",
    "\n",
    "# arena_configuration = AquariumArenaConfiguration(\n",
    "#         size=(10, 5), sand_ground_color=True, attach_target=True, wall_height=1.5, wall_thickness=0.1\n",
    "#         )\n",
    "# environment_configuration = BrittleStarTargetEnvironmentConfiguration(\n",
    "#         # Distance to put our target at (targets are spawned on a circle around the starting location with this given radius).\n",
    "#         target_distance=8.0,\n",
    "#         joint_randomization_noise_scale=0.0,\n",
    "#         render_mode=\"rgb_array\",\n",
    "#         simulation_time=5,\n",
    "#         num_physics_steps_per_control_step=10\n",
    "#         )\n",
    "\n",
    "\n",
    "env = create_environment(\n",
    "        morphology_specification=morphology_specification,\n",
    "        arena_configuration=arena_configuration,\n",
    "        environment_configuration=environment_configuration,\n",
    "        backend=\"MJX\"\n",
    "        )\n",
    "\n",
    "env.reset()  # Always need to reset the environment before doing anything else with it\n",
    "frame = env.render()\n",
    "media.show_image(post_environment_render(frame, environment_configuration=environment_configuration))\n",
    "env.close() # always close the environment after using it!"
   ]
  },
  {
   "cell_type": "code",
   "execution_count": 15,
   "id": "8e9d021f-e4cb-48d6-acf1-97adacefd389",
   "metadata": {},
   "outputs": [],
   "source": [
    "mjc_env = create_environment(\n",
    "        morphology_specification=morphology_specification,\n",
    "        arena_configuration=arena_configuration,\n",
    "        environment_configuration=environment_configuration,\n",
    "        backend=\"MJC\"\n",
    "        )\n",
    "mjx_env = create_environment(\n",
    "        morphology_specification=morphology_specification,\n",
    "        arena_configuration=arena_configuration,\n",
    "        environment_configuration=environment_configuration,\n",
    "        backend=\"MJX\"\n",
    "        )"
   ]
  },
  {
   "cell_type": "code",
   "execution_count": 16,
   "id": "49ece22b-e409-458a-8017-4f78cdb76fda",
   "metadata": {},
   "outputs": [
    {
     "name": "stdout",
     "output_type": "stream",
     "text": [
      "Dict('disk_angular_velocity': Box(-inf, inf, (3,), float32), 'disk_linear_velocity': Box(-inf, inf, (3,), float32), 'disk_position': Box(-inf, inf, (3,), float32), 'disk_rotation': Box(-3.1415927, 3.1415927, (3,), float32), 'in_plane_joint_position': Box(-0.5235988, 0.5235988, (20,), float32), 'in_plane_joint_velocity': Box(-inf, inf, (20,), float32), 'out_of_plane_joint_position': Box(-0.5235988, 0.5235988, (20,), float32), 'out_of_plane_joint_velocity': Box(-inf, inf, (20,), float32), 'segment_contact': Box(0.0, 1.0, (20,), float32), 'segment_light_intake': Box(0.0, 1.0, (20,), float32))\n",
      "\n",
      "Dict('disk_angular_velocity': Box(-inf, inf, (3,), float32), 'disk_linear_velocity': Box(-inf, inf, (3,), float32), 'disk_position': Box(-inf, inf, (3,), float32), 'disk_rotation': Box(-3.1415927, 3.1415927, (3,), float32), 'in_plane_joint_position': Box(-0.5235988, 0.5235988, (20,), float32), 'in_plane_joint_velocity': Box(-inf, inf, (20,), float32), 'out_of_plane_joint_position': Box(-0.5235988, 0.5235988, (20,), float32), 'out_of_plane_joint_velocity': Box(-inf, inf, (20,), float32), 'segment_contact': Box(0.0, 1.0, (20,), float32), 'segment_light_intake': Box(0.0, 1.0, (20,), float32))\n"
     ]
    }
   ],
   "source": [
    "print(mjc_env.observation_space)\n",
    "print()\n",
    "print(mjx_env.observation_space)"
   ]
  },
  {
   "cell_type": "code",
   "execution_count": 17,
   "id": "b5e71ae7-7621-4d0e-8c01-492c9b386d09",
   "metadata": {},
   "outputs": [
    {
     "name": "stdout",
     "output_type": "stream",
     "text": [
      "Box(-0.5235988, 0.5235988, (40,), float32)\n",
      "\n",
      "Box(-0.5235988, 0.5235988, (40,), float32)\n"
     ]
    }
   ],
   "source": [
    "print(mjc_env.action_space)\n",
    "print()\n",
    "print(mjx_env.action_space)"
   ]
  },
  {
   "cell_type": "code",
   "execution_count": 18,
   "id": "81e770d6-dded-4474-83ef-2f346c089386",
   "metadata": {},
   "outputs": [
    {
     "name": "stdout",
     "output_type": "stream",
     "text": [
      "['BrittleStarMorphology/arm_0_segment_3_out_of_plane_joint_p_control', 'BrittleStarMorphology/arm_1_segment_0_in_plane_joint_p_control']\n"
     ]
    }
   ],
   "source": [
    "print(mjc_env.actuators[7:9])"
   ]
  },
  {
   "cell_type": "code",
   "execution_count": 19,
   "id": "c6e164cf-afd8-45d0-b435-d9b63ae0f013",
   "metadata": {},
   "outputs": [
    {
     "ename": "XlaRuntimeError",
     "evalue": "INTERNAL: cuSolver internal error",
     "output_type": "error",
     "traceback": [
      "\u001b[0;31m---------------------------------------------------------------------------\u001b[0m",
      "\u001b[0;31mXlaRuntimeError\u001b[0m                           Traceback (most recent call last)",
      "Cell \u001b[0;32mIn[19], line 6\u001b[0m\n\u001b[1;32m      4\u001b[0m \u001b[38;5;28;01mwhile\u001b[39;00m \u001b[38;5;129;01mnot\u001b[39;00m done:\n\u001b[1;32m      5\u001b[0m     actions \u001b[38;5;241m=\u001b[39m jnp\u001b[38;5;241m.\u001b[39marray(mjx_env\u001b[38;5;241m.\u001b[39maction_space\u001b[38;5;241m.\u001b[39msample())\n\u001b[0;32m----> 6\u001b[0m     obs, reward, terminated, truncated, info \u001b[38;5;241m=\u001b[39m \u001b[43mmjx_env\u001b[49m\u001b[38;5;241;43m.\u001b[39;49m\u001b[43mstep\u001b[49m\u001b[43m(\u001b[49m\u001b[43mactions\u001b[49m\u001b[38;5;241;43m=\u001b[39;49m\u001b[43mactions\u001b[49m\u001b[43m)\u001b[49m\n\u001b[1;32m      7\u001b[0m     frame \u001b[38;5;241m=\u001b[39m post_environment_render(mjx_env\u001b[38;5;241m.\u001b[39mrender(), environment_configuration\u001b[38;5;241m=\u001b[39menvironment_configuration)\n\u001b[1;32m      8\u001b[0m     frames\u001b[38;5;241m.\u001b[39mappend(frame)\n",
      "File \u001b[0;32m/data/gent/457/vsc45787/conda/envs/brb/lib/python3.11/site-packages/mujoco_utils/environment/mjx_env.py:394\u001b[0m, in \u001b[0;36mMJXGymEnvWrapper.step\u001b[0;34m(self, actions)\u001b[0m\n\u001b[1;32m    389\u001b[0m \u001b[38;5;28;01mdef\u001b[39;00m \u001b[38;5;21mstep\u001b[39m(\n\u001b[1;32m    390\u001b[0m         \u001b[38;5;28mself\u001b[39m,\n\u001b[1;32m    391\u001b[0m         actions: ActType\n\u001b[1;32m    392\u001b[0m         ) \u001b[38;5;241m-\u001b[39m\u001b[38;5;241m>\u001b[39m Union[StepReturnType, StepBatchReturnType]:\n\u001b[1;32m    393\u001b[0m \u001b[38;5;250m    \u001b[39m\u001b[38;5;124;03m\"\"\"Steps through the environment with action.\"\"\"\u001b[39;00m\n\u001b[0;32m--> 394\u001b[0m     \u001b[38;5;28mself\u001b[39m\u001b[38;5;241m.\u001b[39m_mjx_state \u001b[38;5;241m=\u001b[39m \u001b[38;5;28;43mself\u001b[39;49m\u001b[38;5;241;43m.\u001b[39;49m\u001b[43m_jit_step\u001b[49m\u001b[43m(\u001b[49m\u001b[38;5;28;43mself\u001b[39;49m\u001b[38;5;241;43m.\u001b[39;49m\u001b[43m_mjx_state\u001b[49m\u001b[43m,\u001b[49m\u001b[43m \u001b[49m\u001b[43mactions\u001b[49m\u001b[43m)\u001b[49m\n\u001b[1;32m    396\u001b[0m     \u001b[38;5;28;01mreturn\u001b[39;00m (\n\u001b[1;32m    397\u001b[0m     \u001b[38;5;28mself\u001b[39m\u001b[38;5;241m.\u001b[39m_mjx_state\u001b[38;5;241m.\u001b[39mobservations, \u001b[38;5;28mself\u001b[39m\u001b[38;5;241m.\u001b[39m_mjx_state\u001b[38;5;241m.\u001b[39mreward, \u001b[38;5;28mself\u001b[39m\u001b[38;5;241m.\u001b[39m_mjx_state\u001b[38;5;241m.\u001b[39mterminated, \u001b[38;5;28mself\u001b[39m\u001b[38;5;241m.\u001b[39m_mjx_state\u001b[38;5;241m.\u001b[39mtruncated,\n\u001b[1;32m    398\u001b[0m     \u001b[38;5;28mself\u001b[39m\u001b[38;5;241m.\u001b[39m_mjx_state\u001b[38;5;241m.\u001b[39minfo)\n",
      "    \u001b[0;31m[... skipping hidden 14 frame]\u001b[0m\n",
      "File \u001b[0;32m/data/gent/457/vsc45787/conda/envs/brb/lib/python3.11/site-packages/jax/_src/compiler.py:256\u001b[0m, in \u001b[0;36mbackend_compile\u001b[0;34m(backend, module, options, host_callbacks)\u001b[0m\n\u001b[1;32m    251\u001b[0m   \u001b[38;5;28;01mreturn\u001b[39;00m backend\u001b[38;5;241m.\u001b[39mcompile(built_c, compile_options\u001b[38;5;241m=\u001b[39moptions,\n\u001b[1;32m    252\u001b[0m                          host_callbacks\u001b[38;5;241m=\u001b[39mhost_callbacks)\n\u001b[1;32m    253\u001b[0m \u001b[38;5;66;03m# Some backends don't have `host_callbacks` option yet\u001b[39;00m\n\u001b[1;32m    254\u001b[0m \u001b[38;5;66;03m# TODO(sharadmv): remove this fallback when all backends allow `compile`\u001b[39;00m\n\u001b[1;32m    255\u001b[0m \u001b[38;5;66;03m# to take in `host_callbacks`\u001b[39;00m\n\u001b[0;32m--> 256\u001b[0m \u001b[38;5;28;01mreturn\u001b[39;00m \u001b[43mbackend\u001b[49m\u001b[38;5;241;43m.\u001b[39;49m\u001b[43mcompile\u001b[49m\u001b[43m(\u001b[49m\u001b[43mbuilt_c\u001b[49m\u001b[43m,\u001b[49m\u001b[43m \u001b[49m\u001b[43mcompile_options\u001b[49m\u001b[38;5;241;43m=\u001b[39;49m\u001b[43moptions\u001b[49m\u001b[43m)\u001b[49m\n",
      "\u001b[0;31mXlaRuntimeError\u001b[0m: INTERNAL: cuSolver internal error"
     ]
    }
   ],
   "source": [
    "done = False\n",
    "frames = []\n",
    "obs, info = mjx_env.reset()\n",
    "while not done:\n",
    "    actions = jnp.array(mjx_env.action_space.sample())\n",
    "    obs, reward, terminated, truncated, info = mjx_env.step(actions=actions)\n",
    "    frame = post_environment_render(mjx_env.render(), environment_configuration=environment_configuration)\n",
    "    frames.append(frame)\n",
    "    done = terminated | truncated\n",
    "media.show_video(images=frames)"
   ]
  },
  {
   "cell_type": "code",
   "execution_count": 20,
   "id": "423c6ed5-1e09-455d-bc3c-47927b50cc7b",
   "metadata": {},
   "outputs": [],
   "source": [
    "mjc_env.close()\n",
    "mjx_env.close()"
   ]
  },
  {
   "cell_type": "markdown",
   "id": "e5b7a5e7-ac89-4952-8bd7-c979af2eb89b",
   "metadata": {},
   "source": [
    "## Vectorization"
   ]
  },
  {
   "cell_type": "code",
   "execution_count": null,
   "id": "465e1441-c4ba-46ca-ad67-59f0b640e534",
   "metadata": {},
   "outputs": [],
   "source": [
    "import time\n",
    "\n",
    "start = time.time()\n",
    "\n",
    "end = time.time()\n",
    "print(end - start)"
   ]
  },
  {
   "cell_type": "code",
   "execution_count": null,
   "id": "376844d7-b4be-4515-abc3-4db2f75f6517",
   "metadata": {},
   "outputs": [],
   "source": []
  },
  {
   "cell_type": "code",
   "execution_count": null,
   "id": "3dbd30fa-7505-494d-8e43-eff13dc88400",
   "metadata": {},
   "outputs": [],
   "source": []
  },
  {
   "cell_type": "code",
   "execution_count": null,
   "id": "759cd69a-90cc-42e3-8e4d-7b213eee8103",
   "metadata": {},
   "outputs": [],
   "source": []
  },
  {
   "cell_type": "code",
   "execution_count": null,
   "id": "5390e2d0-b1a3-401f-940f-3734a422a6a2",
   "metadata": {},
   "outputs": [],
   "source": []
  },
  {
   "cell_type": "code",
   "execution_count": null,
   "id": "55f0dc76-f848-4cd3-979f-39411556bb29",
   "metadata": {},
   "outputs": [],
   "source": []
  },
  {
   "cell_type": "code",
   "execution_count": null,
   "id": "32519d2b-6a0c-4760-92e7-53317de43db9",
   "metadata": {},
   "outputs": [],
   "source": []
  },
  {
   "cell_type": "code",
   "execution_count": null,
   "id": "72560e26-2d23-43d7-877e-e4005c20223e",
   "metadata": {},
   "outputs": [],
   "source": []
  },
  {
   "cell_type": "code",
   "execution_count": null,
   "id": "cbab763e-1d42-4489-8f81-0a02b3e6533f",
   "metadata": {},
   "outputs": [],
   "source": []
  },
  {
   "cell_type": "code",
   "execution_count": null,
   "id": "2e50773b-7d69-452e-87da-320529b96dc8",
   "metadata": {},
   "outputs": [],
   "source": []
  },
  {
   "cell_type": "code",
   "execution_count": null,
   "id": "d76981cc-d15e-4f91-9aa1-429744afbb8c",
   "metadata": {},
   "outputs": [],
   "source": []
  },
  {
   "cell_type": "code",
   "execution_count": null,
   "id": "7a8d1b99-0298-4783-b980-e9af53ec3d47",
   "metadata": {},
   "outputs": [],
   "source": []
  },
  {
   "cell_type": "code",
   "execution_count": null,
   "id": "9f8c14e2-3a59-4cbf-a52b-f9382bbf9050",
   "metadata": {},
   "outputs": [],
   "source": []
  },
  {
   "cell_type": "code",
   "execution_count": null,
   "id": "16134c1b-0cb2-4a89-8d74-bd28ea5560fd",
   "metadata": {},
   "outputs": [],
   "source": []
  },
  {
   "cell_type": "code",
   "execution_count": null,
   "id": "651d9907-584b-4d4f-8cb6-84ddeaba7f0d",
   "metadata": {},
   "outputs": [],
   "source": []
  }
 ],
 "metadata": {
  "kernelspec": {
   "display_name": "bsc",
   "language": "python",
   "name": "python3"
  },
  "language_info": {
   "codemirror_mode": {
    "name": "ipython",
    "version": 3
   },
   "file_extension": ".py",
   "mimetype": "text/x-python",
   "name": "python",
   "nbconvert_exporter": "python",
   "pygments_lexer": "ipython3",
   "version": "3.12.3"
  }
 },
 "nbformat": 4,
 "nbformat_minor": 5
}

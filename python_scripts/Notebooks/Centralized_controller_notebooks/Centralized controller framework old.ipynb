{
 "cells": [
  {
   "cell_type": "markdown",
   "id": "769e6555-18b4-4f0f-92bb-7fe51e6fd529",
   "metadata": {},
   "source": [
    "# Developping a framework for the centralised controller of a Brittle Star robot\n",
    "Integrating the brittle star morphology and environment framework of the bio-inspired robotics benchmark with the Evosac implementations of neural networks."
   ]
  },
  {
   "cell_type": "code",
   "execution_count": 1,
   "id": "62122052-bad7-4baa-a5f7-29f2a76c1dbf",
   "metadata": {},
   "outputs": [
    {
     "name": "stdout",
     "output_type": "stream",
     "text": [
      "/user/gent/457/vsc45787/.conda/envs/hope/bin/python\n"
     ]
    }
   ],
   "source": [
    "import sys\n",
    "\n",
    "print(sys.executable)"
   ]
  },
  {
   "cell_type": "code",
   "execution_count": 2,
   "id": "9ac753a4-ad98-474a-86d2-3f2a28094827",
   "metadata": {},
   "outputs": [
    {
     "name": "stdout",
     "output_type": "stream",
     "text": [
      "['/user/gent/457/vsc45787/.conda/envs/hope/lib/python3.11/site-packages/wandb']\n",
      "env: \"WANDB_NOTEBOOK_NAME\"=\"Centralized controller framework\"\n"
     ]
    }
   ],
   "source": [
    "import numpy as np\n",
    "import jax\n",
    "from jax import numpy as jnp\n",
    "import evosax\n",
    "from evosax import OpenES, ParameterReshaper, NetworkMapper, FitnessShaper\n",
    "import flax\n",
    "from flax import linen as nn\n",
    "from typing import Any, Callable, Sequence, Union, List\n",
    "import brb\n",
    "import time\n",
    "\n",
    "import wandb\n",
    "print(wandb.__path__)\n",
    "%env \"WANDB_NOTEBOOK_NAME\" \"Centralized controller framework\"\n",
    "\n",
    "rng = jax.random.PRNGKey(0) # make an rng right away and every split throughout the document should make a new rng\n",
    "# this new rng should only be used for the sole purpose of splitting in the future\n"
   ]
  },
  {
   "cell_type": "markdown",
   "id": "82bd0750-4000-4d13-93ec-4c62ec025754",
   "metadata": {},
   "source": [
    "## Checking accesibility GPU"
   ]
  },
  {
   "cell_type": "code",
   "execution_count": 3,
   "id": "804bc266-40fe-4846-9569-d58bc5d7ea12",
   "metadata": {},
   "outputs": [
    {
     "name": "stdout",
     "output_type": "stream",
     "text": [
      "Tue Feb  6 12:34:01 2024       \n",
      "+---------------------------------------------------------------------------------------+\n",
      "| NVIDIA-SMI 535.154.05             Driver Version: 535.154.05   CUDA Version: 12.2     |\n",
      "|-----------------------------------------+----------------------+----------------------+\n",
      "| GPU  Name                 Persistence-M | Bus-Id        Disp.A | Volatile Uncorr. ECC |\n",
      "| Fan  Temp   Perf          Pwr:Usage/Cap |         Memory-Usage | GPU-Util  Compute M. |\n",
      "|                                         |                      |               MIG M. |\n",
      "|=========================================+======================+======================|\n",
      "|   0  NVIDIA A2                      On  | 00000000:3B:00.0 Off |                    0 |\n",
      "|  0%   51C    P0              18W /  60W |  11246MiB / 15356MiB |      0%      Default |\n",
      "|                                         |                      |                  N/A |\n",
      "+-----------------------------------------+----------------------+----------------------+\n",
      "                                                                                         \n",
      "+---------------------------------------------------------------------------------------+\n",
      "| Processes:                                                                            |\n",
      "|  GPU   GI   CI        PID   Type   Process name                            GPU Memory |\n",
      "|        ID   ID                                                             Usage      |\n",
      "|=======================================================================================|\n",
      "|    0   N/A  N/A    771454      C   ...sc45787/.conda/envs/hope/bin/python    11238MiB |\n",
      "+---------------------------------------------------------------------------------------+\n",
      "Setting environment variable to use GPU rendering:\n",
      "env: MUJOCO_GL=egl\n",
      "[cuda(id=0)]\n",
      "Checking that the mujoco installation succeeded:\n",
      "MuJoCo installation successful.\n"
     ]
    }
   ],
   "source": [
    "import os\n",
    "import subprocess\n",
    "import logging\n",
    "\n",
    "try:\n",
    "    if subprocess.run('nvidia-smi').returncode:\n",
    "        raise RuntimeError(\n",
    "                'Cannot communicate with GPU. '\n",
    "                'Make sure you are using a GPU Colab runtime. '\n",
    "                'Go to the Runtime menu and select Choose runtime type.'\n",
    "                )\n",
    "\n",
    "    # Add an ICD config so that glvnd can pick up the Nvidia EGL driver.\n",
    "    # This is usually installed as part of an Nvidia driver package, but the Colab\n",
    "    # kernel doesn't install its driver via APT, and as a result the ICD is missing.\n",
    "    # (https://github.com/NVIDIA/libglvnd/blob/master/src/EGL/icd_enumeration.md)\n",
    "    NVIDIA_ICD_CONFIG_PATH = '/usr/share/glvnd/egl_vendor.d/10_nvidia.json'\n",
    "    if not os.path.exists(NVIDIA_ICD_CONFIG_PATH):\n",
    "        with open(NVIDIA_ICD_CONFIG_PATH, 'w') as f:\n",
    "            f.write(\n",
    "                    \"\"\"{\n",
    "                            \"file_format_version\" : \"1.0.0\",\n",
    "                            \"ICD\" : {\n",
    "                                \"library_path\" : \"libEGL_nvidia.so.0\"\n",
    "                            }\n",
    "                        }\n",
    "                        \"\"\"\n",
    "                    )\n",
    "\n",
    "    # Configure MuJoCo to use the EGL rendering backend (requires GPU)\n",
    "    print('Setting environment variable to use GPU rendering:')\n",
    "    %env MUJOCO_GL=egl\n",
    "\n",
    "    # Check if jax finds the GPU\n",
    "    import jax\n",
    "\n",
    "    print(jax.devices('gpu'))\n",
    "except Exception:\n",
    "    logging.warning(\"Failed to initialize GPU. Everything will run on the cpu.\")\n",
    "\n",
    "try:\n",
    "    print('Checking that the mujoco installation succeeded:')\n",
    "    import mujoco\n",
    "\n",
    "    mujoco.MjModel.from_xml_string('<mujoco/>')\n",
    "except Exception as e:\n",
    "    raise e from RuntimeError(\n",
    "            'Something went wrong during installation. Check the shell output above '\n",
    "            'for more information.\\n'\n",
    "            'If using a hosted Colab runtime, make sure you enable GPU acceleration '\n",
    "            'by going to the Runtime menu and selecting \"Choose runtime type\".'\n",
    "            )\n",
    "\n",
    "print('MuJoCo installation successful.')"
   ]
  },
  {
   "cell_type": "markdown",
   "id": "c53891bf-e7d6-418d-a974-2e2b2020bcc3",
   "metadata": {},
   "source": [
    "## Weights and Biases trial"
   ]
  },
  {
   "cell_type": "code",
   "execution_count": 4,
   "id": "fbca0515-e57f-4caa-9257-8c97227a8729",
   "metadata": {},
   "outputs": [],
   "source": [
    "# # start a new wandb run to track this script\n",
    "# rng, rng_acc, rng_loss, rng_offset = jax.random.split(rng, 4)\n",
    "# wandb.init(\n",
    "#     # set the wandb project where this run will be logged\n",
    "#     project = \"my-awesome-project\",\n",
    "\n",
    "#     # track hyperparameters and run metadata\n",
    "#     config={\n",
    "#     \"learning_rate\": 0.02,\n",
    "#     \"architecture\": \"CNN\",\n",
    "#     \"dataset\": \"CIFAR-100\",\n",
    "#     \"epochs\": 10,\n",
    "#     }\n",
    "# )\n",
    "\n",
    "# # simulate training\n",
    "# epochs = 10\n",
    "# offset = jax.random.uniform(rng_offset)/5\n",
    "# for epoch in range(2, epochs):\n",
    "#     acc = 1 - 2 ** -epoch - jax.random.uniform(rng_acc) / epoch - offset\n",
    "#     loss = 2** -epoch + jax.random.uniform(rng_loss) / epoch + offset\n",
    "\n",
    "#     # log memtrics to wandb\n",
    "#     wandb.log({\"acc\": acc, \"loss\":loss})\n",
    "\n",
    "# # [optional] finish the wandb run, necessary in notebooks\n",
    "# wandb.finish()"
   ]
  },
  {
   "cell_type": "code",
   "execution_count": null,
   "id": "80a04f3d-ccd7-4009-8166-bbfad121cacc",
   "metadata": {},
   "outputs": [],
   "source": []
  },
  {
   "cell_type": "markdown",
   "id": "dcbba8b7-c194-4cbb-a8b6-724448be571c",
   "metadata": {},
   "source": [
    "## Defining classes and functionalities"
   ]
  },
  {
   "cell_type": "markdown",
   "id": "749057ab-a3cf-4cec-8077-b8a60fb85cbd",
   "metadata": {},
   "source": [
    "### Utilities for visualisation"
   ]
  },
  {
   "cell_type": "code",
   "execution_count": 5,
   "id": "1d49a8f5-9d99-4ff7-9267-b3bdf47ed8c2",
   "metadata": {},
   "outputs": [],
   "source": [
    "from mujoco_utils.environment.base import MuJoCoEnvironmentConfiguration\n",
    "from mujoco_utils.mjcf_utils import MJCFRootComponent\n",
    "\n",
    "# Graphics and plotting.\n",
    "ffmpeg_v = !command -v ffmpeg\n",
    "assert \"command not found\" not in ffmpeg_v, f\"Please install FFmpeg for visualizations.\"\n",
    "!{sys.executable} -m pip install -q mediapy\n",
    "import mediapy as media\n",
    "\n",
    "# More legible printing from numpy.\n",
    "np.set_printoptions(precision=3, suppress=True, linewidth=100)\n",
    "jnp.set_printoptions(precision=3, suppress=True, linewidth=100)\n",
    "\n",
    "\n",
    "def visualize_mjcf(\n",
    "        mjcf: MJCFRootComponent\n",
    "        ) -> None:\n",
    "    model = mujoco.MjModel.from_xml_string(mjcf.get_mjcf_str())\n",
    "    data = mujoco.MjData(model)\n",
    "    renderer = mujoco.Renderer(model)\n",
    "    mujoco.mj_forward(model, data)\n",
    "    renderer.update_scene(data)\n",
    "    media.show_image(renderer.render())\n",
    "\n",
    "\n",
    "def post_render(\n",
    "        render_output: List[np.ndarray],\n",
    "        environment_configuration: MuJoCoEnvironmentConfiguration\n",
    "        ) -> np.ndarray:\n",
    "    if render_output is None:\n",
    "        # Temporary workaround until https://github.com/google-deepmind/mujoco/issues/1379 is fixed\n",
    "        return None\n",
    "\n",
    "    num_cameras = len(environment_configuration.camera_ids)\n",
    "    num_envs = len(render_output) // num_cameras\n",
    "\n",
    "    if num_cameras > 1:\n",
    "        # Horizontally stack frames of the same environment\n",
    "        frames_per_env = np.array_split(render_output, num_envs)\n",
    "        render_output = [np.concatenate(env_frames, axis=1) for env_frames in frames_per_env]\n",
    "\n",
    "    # Vertically stack frames of different environments\n",
    "    render_output = np.concatenate(render_output, axis=0)\n",
    "\n",
    "    return render_output[:, :, ::-1]  # RGB to BGR\n",
    "\n",
    "\n",
    "def show_video(\n",
    "        images: List[np.ndarray | None]\n",
    "        ) -> str | None:\n",
    "    # Temporary workaround until https://github.com/google-deepmind/mujoco/issues/1379 is fixed\n",
    "    filtered_images = [image for image in images if image is not None]\n",
    "    num_nones = len(images) - len(filtered_images)\n",
    "    if num_nones > 0:\n",
    "        logging.warning(f\"env.render produced {num_nones} None's. Resulting video might be a bit choppy (consquence of https://github.com/google-deepmind/mujoco/issues/1379).\")\n",
    "    return media.show_video(images=filtered_images)"
   ]
  },
  {
   "cell_type": "markdown",
   "id": "f6a6591b-b1af-4d8c-8739-23d765986fca",
   "metadata": {},
   "source": [
    "### Utilities for generating neural network"
   ]
  },
  {
   "cell_type": "code",
   "execution_count": 6,
   "id": "b33ad29e-fe6c-4cae-91d0-e38571568c3d",
   "metadata": {},
   "outputs": [],
   "source": [
    "# build NN architecture\n",
    "class ExplicitMLP(nn.Module):\n",
    "    features: Sequence[int]\n",
    "    joint_control: str \n",
    "    # act_hidden: Callable = nn.tanh,\n",
    "    # act_output: Callable = nn.tanh\n",
    "\n",
    "    \"\"\"\n",
    "    features: number of outputs (# nodes) for each layer. The number of inputs of the first layer defined by the call function.\n",
    "    The number of inputs of the hidden layers and output layer defined by the number of outputs of the previous layer.\n",
    "    act_hidden: activation function applied to hidden layers: popular is nn.tanh or nn.relu\n",
    "    act_output: activation function applied to output layer: popular is nn.tanh or nn.sigmoid\n",
    "    joint_control: should be either 'position' or 'torque', depending on what control strategy the morphology was initialised with\n",
    "    \"\"\"\n",
    "\n",
    "    def setup(\n",
    "        self\n",
    "    ):\n",
    "        \"\"\"\n",
    "        Fully connected neural network, characterised by a pytree (dict containing dict with params and biases)\n",
    "        Features represents the number of outputs of the Dense layer\n",
    "        inputs based on the presented input later on\n",
    "        after presenting input: kernel can be generated\n",
    "        \"\"\"\n",
    "        self.layers = [nn.Dense(feat) for feat in self.features]\n",
    "\n",
    "\n",
    "\n",
    "    def __call__(\n",
    "        self,\n",
    "        inputs,\n",
    "        act_hidden: Callable = nn.tanh,\n",
    "        act_output: Callable = nn.tanh\n",
    "    ):\n",
    "        \"\"\"\n",
    "        Returning the output of a layer for a given input.\n",
    "        Don't directly call an instance of ExplicitMLP --> this method is called in the apply method.\n",
    "        -----\n",
    "        \n",
    "        \"\"\"\n",
    "        x = inputs\n",
    "        for i, lyr in enumerate(self.layers):\n",
    "            x = lyr(x)\n",
    "            if i != len(self.layers) - 1:\n",
    "                x = act_hidden(x)\n",
    "            else:\n",
    "                assert self.joint_control in ['position', 'torque'], \"joint_control should be either 'position' or 'torque'\"\n",
    "                if self.joint_control == 'position':\n",
    "                    x = 30*jnp.pi/180 * act_output(x) # the action space range for positions is -0.5236..0.5236\n",
    "                elif self.joint_control == 'control':\n",
    "                    x = act_output(x) # the action space range for torques is -1..1\n",
    "        return x"
   ]
  },
  {
   "cell_type": "markdown",
   "id": "08230fec-ff9a-4394-8263-60efcaefad43",
   "metadata": {},
   "source": [
    "### Utilities for defining the Brittle Star Environment"
   ]
  },
  {
   "cell_type": "code",
   "execution_count": 7,
   "id": "5d6253da-c3ca-40c1-ad5d-1bd13fe5dde8",
   "metadata": {},
   "outputs": [],
   "source": [
    "# Creating morphology\n",
    "import gymnasium\n",
    "from brb.brittle_star.mjcf.morphology.specification.default import default_brittle_star_morphology_specification\n",
    "from brb.brittle_star.mjcf.morphology.morphology import MJCFBrittleStarMorphology\n",
    "from brb.brittle_star.mjcf.morphology.specification.specification import BrittleStarMorphologySpecification\n",
    "\n",
    "def create_morphology(\n",
    "        morphology_specification: BrittleStarMorphologySpecification\n",
    "        ) -> MJCFBrittleStarMorphology:\n",
    "    morphology = MJCFBrittleStarMorphology(\n",
    "            specification=morphology_specification\n",
    "            )\n",
    "    return morphology\n"
   ]
  },
  {
   "cell_type": "code",
   "execution_count": 8,
   "id": "b382cc0b-ccc9-4476-8678-e742a547c26c",
   "metadata": {},
   "outputs": [],
   "source": [
    "# Creating arena\n",
    "from brb.brittle_star.mjcf.arena.aquarium import AquariumArenaConfiguration, MJCFAquariumArena\n",
    "\n",
    "def create_arena(\n",
    "        arena_configuration: AquariumArenaConfiguration\n",
    "        ) -> MJCFAquariumArena:\n",
    "    arena = MJCFAquariumArena(\n",
    "            configuration=arena_configuration\n",
    "            )\n",
    "    return arena"
   ]
  },
  {
   "cell_type": "code",
   "execution_count": 9,
   "id": "ccedb519-a4ad-42e8-ac13-9ef6b3fe43f6",
   "metadata": {},
   "outputs": [],
   "source": [
    "# Creating environment\n",
    "from brb.brittle_star.environment.light_escape.shared import BrittleStarLightEscapeEnvironmentConfiguration\n",
    "from brb.brittle_star.environment.directed_locomotion.shared import \\\n",
    "    BrittleStarDirectedLocomotionEnvironmentConfiguration\n",
    "from brb.brittle_star.environment.undirected_locomotion.shared import \\\n",
    "    BrittleStarUndirectedLocomotionEnvironmentConfiguration\n",
    "\n",
    "\n",
    "from brb.brittle_star.environment.undirected_locomotion.dual import BrittleStarUndirectedLocomotionEnvironment\n",
    "from brb.brittle_star.environment.directed_locomotion.dual import BrittleStarDirectedLocomotionEnvironment\n",
    "from brb.brittle_star.environment.light_escape.dual import BrittleStarLightEscapeEnvironment\n",
    "from mujoco_utils.environment.dual import DualMuJoCoEnvironment\n",
    "from mujoco_utils.environment.base import MuJoCoEnvironmentConfiguration\n",
    "\n",
    "\n",
    "def create_environment(\n",
    "        morphology_specification: BrittleStarMorphologySpecification,\n",
    "        arena_configuration: AquariumArenaConfiguration,\n",
    "        environment_configuration: MuJoCoEnvironmentConfiguration,\n",
    "        backend: str\n",
    "        ) -> DualMuJoCoEnvironment:\n",
    "    assert backend in [\"MJC\", \"MJX\"], \"Please specify a valid backend; Either 'MJC' or 'MJX'\"\n",
    "\n",
    "    morphology = create_morphology(\n",
    "            morphology_specification=morphology_specification\n",
    "            )\n",
    "    arena = create_arena(\n",
    "            arena_configuration=arena_configuration\n",
    "            )\n",
    "    if isinstance(environment_configuration, BrittleStarUndirectedLocomotionEnvironmentConfiguration):\n",
    "        env_class = BrittleStarUndirectedLocomotionEnvironment\n",
    "    elif isinstance(environment_configuration, BrittleStarDirectedLocomotionEnvironmentConfiguration):\n",
    "        env_class = BrittleStarDirectedLocomotionEnvironment\n",
    "    else:\n",
    "        env_class = BrittleStarLightEscapeEnvironment\n",
    "\n",
    "    env = env_class.from_morphology_and_arena(\n",
    "            morphology=morphology, arena=arena, configuration=environment_configuration, backend=backend\n",
    "            )\n",
    "    return env"
   ]
  },
  {
   "cell_type": "markdown",
   "id": "584cb05f-1a02-45de-840b-f9f3c8a0b593",
   "metadata": {},
   "source": [
    "### Definition of the rollout function"
   ]
  },
  {
   "cell_type": "code",
   "execution_count": 10,
   "id": "bec4ec6b-31c2-4bc9-ac11-99db19efb730",
   "metadata": {},
   "outputs": [],
   "source": [
    "def rollout(policy_params_shaped, total_num_control_timesteps, rng, NUM_MJX_ENVIRONMENTS):\n",
    "    \"\"\"\n",
    "    Do a single episode rollout\n",
    "    Inputs:\n",
    "    - Reshaped policy params to match neural network\n",
    "    - Total_num_control_timesteps\n",
    "    - rng\n",
    "    - Total number of parallel MJX environments\n",
    "    Outpus:\n",
    "    - Final MJX environment state (vectorized)\n",
    "    - rng\n",
    "    \"\"\"\n",
    "    # add and return 'rng' param?\n",
    "    rng, mjx_vectorized_env_rng = jax.random.split(rng, 2)\n",
    "    mjx_vectorized_env_rng = jnp.array(jax.random.split(mjx_vectorized_env_rng, NUM_MJX_ENVIRONMENTS))\n",
    "    mjx_vectorized_state_reset = mjx_vectorized_reset(rng=mjx_vectorized_env_rng)\n",
    "    \n",
    "    carry_init = [mjx_vectorized_state_reset, policy_params_shaped]\n",
    "\n",
    "    def step(carry, xs):\n",
    "        \"\"\"\n",
    "        Carry: any information required in the carryover:\n",
    "        - vectorized state array for the mujoco steps\n",
    "        - shaped pytree with policy params for the model.apply\n",
    "        - sensor_selection (is not updated, but is required for doing correct observations)\n",
    "        -----\n",
    "        xs is not required for this purpose, but put in the arguments as a placeholder for jax.lax.scan to function.\n",
    "        -----\n",
    "        output:\n",
    "        - Carry: state to be updated, and the same policy_params en sensor_selection passed on to the next generation\n",
    "        \"\"\"    \n",
    "\n",
    "        _mjx_vectorized_state, _policy_params_shaped = carry\n",
    "\n",
    "        _sensory_input_nn = jnp.concatenate(\n",
    "            jax.tree_util.tree_map(_mjx_vectorized_state.observations.__getitem__, list(_mjx_vectorized_state.observations.keys())),\n",
    "            axis = 1\n",
    "        )\n",
    "        \n",
    "        \n",
    "        _action = vectorized_model_apply(_policy_params_shaped, _sensory_input_nn)\n",
    "        \n",
    "        _mjx_vectorized_state_updated = mjx_vectorized_step(state=_mjx_vectorized_state, action=_action)\n",
    "        \n",
    "        reward_step = _mjx_vectorized_state_updated.reward\n",
    "\n",
    "        carry = [_mjx_vectorized_state_updated, _policy_params_shaped]\n",
    "        return carry, reward_step\n",
    "\n",
    "    final_carry, stack = jax.lax.scan(\n",
    "        step,\n",
    "        carry_init,\n",
    "        None,\n",
    "        total_num_control_timesteps\n",
    "    )\n",
    "\n",
    "    rewards = stack\n",
    "    \n",
    "    mjx_vectorized_state_final = final_carry[0]\n",
    "    return mjx_vectorized_state_final, rewards, rng\n",
    "\n",
    "vectorized_rollout = jax.jit(rollout, static_argnames=(\"total_num_control_timesteps\", \"NUM_MJX_ENVIRONMENTS\"))"
   ]
  },
  {
   "cell_type": "markdown",
   "id": "fd1c69cd-f06b-47b0-ad82-dee87e513f83",
   "metadata": {},
   "source": [
    "## Generating instances"
   ]
  },
  {
   "cell_type": "markdown",
   "id": "3f21df58-0ebe-4e11-add7-57e5382705ed",
   "metadata": {},
   "source": [
    "### Instantiating the morphology specification, arena configuration and environment configuration"
   ]
  },
  {
   "cell_type": "code",
   "execution_count": null,
   "id": "7c5320c1-038f-469b-ab57-9f01bf627281",
   "metadata": {},
   "outputs": [],
   "source": [
    "arm_setup = [5,0,5,0,0] # 2 arms with 5 segments\n",
    "dofs = 2*sum(arm_setup)\n",
    "print(\"number of actuator outputs: dofs = \", dofs)\n",
    "\n",
    "\n",
    "\n",
    "reward_type = \"distance\" # choose \"distance\", \"target\", \"light\"\n",
    "joint_control = \"position\" # choose \"position\" or \"torque\"\n",
    "num_physics_steps_per_control_step=10 \n",
    "simulation_time=5 # [seconds]\n",
    "joint_randomization_noise_scale=0.0\n",
    "# If this value is > 0 then we will add randomly sampled noise to the initial joint positions and velocities\n",
    "\n",
    "\n",
    "# specifying morphology\n",
    "morphology_specification = default_brittle_star_morphology_specification(\n",
    "        num_arms=len(arm_setup), num_segments_per_arm=arm_setup, use_p_control=(joint_control == 'position'), use_torque_control=(joint_control == 'torque')\n",
    "        )\n",
    "morphology = create_morphology(morphology_specification=morphology_specification)\n",
    "visualize_mjcf(mjcf=morphology)\n",
    "\n",
    "\n",
    "# specifying arena\n",
    "arena_configuration = AquariumArenaConfiguration(\n",
    "        size=(10, 5), sand_ground_color=True, attach_target=False, wall_height=1.5, wall_thickness=0.1\n",
    "        )\n",
    "arena = create_arena(arena_configuration=arena_configuration)\n",
    "visualize_mjcf(mjcf=arena)\n",
    "\n",
    "\n",
    "# specifying environment: CHOOSE 1\n",
    "assert reward_type in ([\"distance\",\"target\",\"light\"]), \"reward_type must be one of 'distance', 'target', 'light'\"\n",
    "\n",
    "if reward_type == \"distance\":\n",
    "    environment_configuration = BrittleStarUndirectedLocomotionEnvironmentConfiguration(\n",
    "        # If this value is > 0 then we will add randomly sampled noise to the initial joint positions and velocities \n",
    "        joint_randomization_noise_scale=joint_randomization_noise_scale,\n",
    "        render_mode=\"rgb_array\",  # Visualization mode \n",
    "        simulation_time=simulation_time,  # Number of seconds per episode \n",
    "        num_physics_steps_per_control_step=num_physics_steps_per_control_step,  # Number of physics substeps to do per control step \n",
    "        time_scale=2,    # Integer factor by which to multiply the original physics timestep of 0.002,\n",
    "        camera_ids=[0, 1],   # Which camera's to render (all the brittle star environments contain 2 cameras: 1 top-down camera and one close-up camera that follows the brittle star),\n",
    "        render_size=(480, 640)  # Resolution to render with ((height, width) in pixels)\n",
    "        )\n",
    "\n",
    "elif reward_type == \"target\":\n",
    "    environment_configuration = BrittleStarDirectedLocomotionEnvironmentConfiguration(\n",
    "        # Distance to put our target at (targets are spawned on a circle around the starting location with this given radius).\n",
    "        target_distance=3.0,\n",
    "        joint_randomization_noise_scale=joint_randomization_noise_scale,\n",
    "        render_mode=\"rgb_array\",\n",
    "        simulation_time=simulation_time,\n",
    "        num_physics_steps_per_control_step=num_physics_steps_per_control_step,\n",
    "        time_scale=2,\n",
    "        camera_ids=[0, 1],\n",
    "        render_size=(480, 640)\n",
    "        )\n",
    "\n",
    "elif reward_type == \"light\":\n",
    "    environment_configuration = BrittleStarLightEscapeEnvironmentConfiguration(\n",
    "        joint_randomization_noise_scale=joint_randomization_noise_scale,\n",
    "        light_perlin_noise_scale=0,\n",
    "        # If this value is > 0, we will add perlin noise to the generated light map. Otherwise, the light map is a simple linear gradient.\n",
    "        # Please only provide integer factors of 200.\n",
    "        render_mode=\"rgb_array\",\n",
    "        simulation_time=simulation_time,\n",
    "        num_physics_steps_per_control_step=num_physics_steps_per_control_step,\n",
    "        time_scale=2,\n",
    "        camera_ids=[0, 1],\n",
    "        render_size=(480, 640)\n",
    "        )\n",
    "\n",
    "BACKEND = \"MJX\"\n",
    "\n",
    "# useful environment configuration information\n",
    "print(f\"[simulation_time] The total amount of time (in seconds) that one simulation episode takes: {environment_configuration.simulation_time}\")\n",
    "print(f\"[physics_timestep] The amount of time (in seconds) that one 'physics step' advances the physics: {environment_configuration.physics_timestep}\")\n",
    "print(f\"[control_timestep] The amount of time (in seconds) that one 'control step' advances the physics: {environment_configuration.control_timestep}\")\n",
    "print(f\"[total_num_physics_steps] The total amount of physics steps that happen during one simulation episode: {environment_configuration.total_num_physics_steps}\")\n",
    "print(f\"[total_num_control_steps] The total amount of control steps that happen during one simulation episode: {environment_configuration.total_num_control_steps}\")\n",
    "\n",
    "\n",
    "total_num_control_timesteps = environment_configuration.total_num_control_steps"
   ]
  },
  {
   "cell_type": "markdown",
   "id": "0df83307-189d-4950-8cb7-a59ff78338d8",
   "metadata": {},
   "source": [
    "### Example of environment instance to try things wrt observation and action space"
   ]
  },
  {
   "cell_type": "code",
   "execution_count": 12,
   "id": "f4780d91-4c68-4f40-9085-15df21c9c083",
   "metadata": {},
   "outputs": [
    {
     "data": {
      "text/html": [
       "<table class=\"show_images\" style=\"border-spacing:0px;\"><tr><td style=\"padding:1px;\"><img width=\"1280\" height=\"480\" style=\"image-rendering:auto; object-fit:cover;\" src=\"data:image/png;base64,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\"/></td></tr></table>"
      ],
      "text/plain": [
       "<IPython.core.display.HTML object>"
      ]
     },
     "metadata": {},
     "output_type": "display_data"
    }
   ],
   "source": [
    "env = create_environment(\n",
    "        morphology_specification=morphology_specification,\n",
    "        arena_configuration=arena_configuration,\n",
    "        environment_configuration=environment_configuration,\n",
    "        backend=BACKEND\n",
    "        )\n",
    "\n",
    "\n",
    "\n",
    "if BACKEND == \"MJC\":\n",
    "    rng = np.random.RandomState(0)\n",
    "else:\n",
    "    rng = jax.random.PRNGKey(seed=0)\n",
    "\n",
    "state = env.reset(rng=rng)  # Always need to reset the environment before doing anything else with it\n",
    "frame = env.render(state=state)\n",
    "media.show_image(post_render(render_output=frame, environment_configuration=environment_configuration))\n"
   ]
  },
  {
   "cell_type": "code",
   "execution_count": 13,
   "id": "12a94c7e-3bd5-4a2d-ac81-69037d7dc2d5",
   "metadata": {},
   "outputs": [
    {
     "name": "stdout",
     "output_type": "stream",
     "text": [
      "MJX Observatin Space:\n",
      "\tDict('in_plane_joint_position': Box(-0.5235988, 0.5235988, (10,), <class 'jax.numpy.float32'>), 'out_of_plane_joint_position': Box(-0.5235988, 0.5235988, (10,), <class 'jax.numpy.float32'>), 'in_plane_joint_velocity': Box(-inf, inf, (10,), <class 'jax.numpy.float32'>), 'out_of_plane_joint_velocity': Box(-inf, inf, (10,), <class 'jax.numpy.float32'>), 'segment_contact': Box(0.0, 1.0, (10,), <class 'jax.numpy.float32'>), 'disk_position': Box(-inf, inf, (3,), <class 'jax.numpy.float32'>), 'disk_rotation': Box(-3.1415927, 3.1415927, (3,), <class 'jax.numpy.float32'>), 'disk_linear_velocity': Box(-inf, inf, (3,), <class 'jax.numpy.float32'>), 'disk_angular_velocity': Box(-inf, inf, (3,), <class 'jax.numpy.float32'>))\n",
      "MJX Action Space:\n",
      "\tBox(-0.5235988, 0.5235988, (20,), <class 'jax.numpy.float32'>)\n",
      "First 5 actuators:\n",
      "\tMJX: ['BrittleStarMorphology/arm_0_segment_0_in_plane_joint_p_control', 'BrittleStarMorphology/arm_0_segment_0_out_of_plane_joint_p_control', 'BrittleStarMorphology/arm_0_segment_1_in_plane_joint_p_control', 'BrittleStarMorphology/arm_0_segment_1_out_of_plane_joint_p_control', 'BrittleStarMorphology/arm_0_segment_2_in_plane_joint_p_control']\n"
     ]
    }
   ],
   "source": [
    "print(\"MJX Observatin Space:\")\n",
    "print(f\"\\t{env.observation_space}\")\n",
    "\n",
    "print(\"MJX Action Space:\")\n",
    "print(f\"\\t{env.action_space}\")\n",
    "\n",
    "print(\"First 5 actuators:\")\n",
    "print(f\"\\tMJX: {env.actuators[:5]}\")\n"
   ]
  },
  {
   "cell_type": "code",
   "execution_count": 14,
   "id": "b8bf1bfd-b074-4409-ad85-647bc214c2ab",
   "metadata": {},
   "outputs": [
    {
     "name": "stdout",
     "output_type": "stream",
     "text": [
      "{'in_plane_joint_position': Array([0., 0., 0., 0., 0., 0., 0., 0., 0., 0.], dtype=float32), 'out_of_plane_joint_position': Array([0., 0., 0., 0., 0., 0., 0., 0., 0., 0.], dtype=float32), 'in_plane_joint_velocity': Array([0., 0., 0., 0., 0., 0., 0., 0., 0., 0.], dtype=float32), 'out_of_plane_joint_velocity': Array([0., 0., 0., 0., 0., 0., 0., 0., 0., 0.], dtype=float32), 'segment_contact': Array([0, 0, 0, 0, 0, 0, 0, 0, 0, 0], dtype=int32), 'disk_position': Array([0.  , 0.  , 0.11], dtype=float32), 'disk_rotation': Array([-3.142,  0.   ,  0.   ], dtype=float32), 'disk_linear_velocity': Array([0., 0., 0.], dtype=float32), 'disk_angular_velocity': Array([0., 0., 0.], dtype=float32)}\n",
      "['in_plane_joint_position', 'out_of_plane_joint_position', 'in_plane_joint_velocity', 'out_of_plane_joint_velocity', 'segment_contact', 'disk_position', 'disk_rotation', 'disk_linear_velocity', 'disk_angular_velocity']\n",
      "{'in_plane_joint_position': 10, 'out_of_plane_joint_position': 10, 'in_plane_joint_velocity': 10, 'out_of_plane_joint_velocity': 10, 'segment_contact': 10, 'disk_position': 3, 'disk_rotation': 3, 'disk_linear_velocity': 3, 'disk_angular_velocity': 3}\n",
      "[0. 0. 0. 0. 0. 0. 0. 0. 0. 0.]\n",
      "30\n"
     ]
    }
   ],
   "source": [
    "print(state.observations)\n",
    "sensors = [key for key in state.observations.keys()]\n",
    "sensors_with_dim = {s: len(d) for s, d in state.observations.items()}\n",
    "print(sensors)\n",
    "print(sensors_with_dim)\n",
    "print(state.observations[\"in_plane_joint_position\"])\n",
    "\n",
    "sensor_selection = ('in_plane_joint_position', 'out_of_plane_joint_position', 'segment_contact')\n",
    "sensor_selection_dim = sum([len(state.observations[sensor]) for sensor in sensor_selection])\n",
    "print(sensor_selection_dim)"
   ]
  },
  {
   "cell_type": "code",
   "execution_count": 15,
   "id": "4e4319ab-9547-43fa-88d6-8483d42903ae",
   "metadata": {},
   "outputs": [
    {
     "name": "stdout",
     "output_type": "stream",
     "text": [
      "62\n"
     ]
    }
   ],
   "source": [
    "sensory_input_all = jnp.concatenate(\n",
    "    jax.tree_util.tree_map(state.observations.__getitem__, list(state.observations.keys())),\n",
    ")\n",
    "\n",
    "print(len(sensory_input_all))"
   ]
  },
  {
   "cell_type": "code",
   "execution_count": 16,
   "id": "516407a0-708f-4540-9a2d-24ab38039f08",
   "metadata": {},
   "outputs": [
    {
     "data": {
      "text/plain": [
       "Array([0., 0., 0., 0., 0., 0., 0., 0., 0., 0.], dtype=float32)"
      ]
     },
     "execution_count": 16,
     "metadata": {},
     "output_type": "execute_result"
    }
   ],
   "source": [
    "state.observations.__getitem__(sensor_selection[0]) # function that can be used in a tree_map or jax_lax_map function"
   ]
  },
  {
   "cell_type": "code",
   "execution_count": 17,
   "id": "2557ad0e-c287-48d9-83d7-5119e915fb04",
   "metadata": {},
   "outputs": [],
   "source": [
    "env.close()  # always close the environment after using it!"
   ]
  },
  {
   "cell_type": "markdown",
   "id": "a7f3b511-b07b-4742-afbf-a3b2b1e032e5",
   "metadata": {},
   "source": [
    "### Instantiating the vectorized environments"
   ]
  },
  {
   "cell_type": "code",
   "execution_count": 46,
   "id": "be08ad08-f539-49d8-a89e-c89f7dab18cc",
   "metadata": {},
   "outputs": [],
   "source": [
    "es_popsize = 1280\n",
    "NUM_MJX_ENVIRONMENTS = es_popsize # best to get close to number of CUDA cores available\n",
    "num_generations = 2500 \n",
    "\n",
    "mjx_vectorized_env = create_environment(\n",
    "                morphology_specification=morphology_specification,\n",
    "                arena_configuration=arena_configuration,\n",
    "                environment_configuration=environment_configuration,\n",
    "                backend=\"MJX\"\n",
    "                )\n",
    "\n",
    "rng, mjx_vectorized_env_rng = jax.random.split(rng, 2)\n",
    "mjx_vectorized_env_rng = jnp.array(jax.random.split(mjx_vectorized_env_rng, NUM_MJX_ENVIRONMENTS))\n",
    "\n",
    "# vectorizing the functionalities\n",
    "mjx_vectorized_step = jax.jit(jax.vmap(mjx_vectorized_env.step))\n",
    "mjx_vectorized_reset = jax.jit(jax.vmap(mjx_vectorized_env.reset))\n",
    "\n",
    "# I won't be using just 'random' action samples\n",
    "# mjx_vectorized_action_sample = jax.jit(jax.vmap(mjx_vectorized_env.action_space.sample))\n",
    "\n",
    "mjx_vectorized_state = mjx_vectorized_reset(rng=mjx_vectorized_env_rng)"
   ]
  },
  {
   "cell_type": "markdown",
   "id": "55d0520d-2b6c-4395-ab92-e1ef93bb7bd3",
   "metadata": {},
   "source": [
    "In the below cell, the sensory input is based on for loops or on jax.tree_util.tree_map (which maps the execution on a function along the specified branches/leaves of the tree). However, when using jax.make_jaxpr, we can see that the jaxpr is of a similar length, so not really an added benefit of avoiding a for-loop."
   ]
  },
  {
   "cell_type": "code",
   "execution_count": 47,
   "id": "83ac8f89-677f-439d-b7d4-9aff282226a7",
   "metadata": {},
   "outputs": [
    {
     "name": "stdout",
     "output_type": "stream",
     "text": [
      "Observation Space:\n",
      "Dict('in_plane_joint_position': Box(-0.5235988, 0.5235988, (10,), <class 'jax.numpy.float32'>), 'out_of_plane_joint_position': Box(-0.5235988, 0.5235988, (10,), <class 'jax.numpy.float32'>), 'in_plane_joint_velocity': Box(-inf, inf, (10,), <class 'jax.numpy.float32'>), 'out_of_plane_joint_velocity': Box(-inf, inf, (10,), <class 'jax.numpy.float32'>), 'segment_contact': Box(0.0, 1.0, (10,), <class 'jax.numpy.float32'>), 'disk_position': Box(-inf, inf, (3,), <class 'jax.numpy.float32'>), 'disk_rotation': Box(-3.1415927, 3.1415927, (3,), <class 'jax.numpy.float32'>), 'disk_linear_velocity': Box(-inf, inf, (3,), <class 'jax.numpy.float32'>), 'disk_angular_velocity': Box(-inf, inf, (3,), <class 'jax.numpy.float32'>))\n",
      "('in_plane_joint_position', 'out_of_plane_joint_position', 'segment_contact')\n",
      "(1280, 62)\n",
      "62\n",
      "20\n"
     ]
    }
   ],
   "source": [
    "print(f\"Observation Space:\\n{mjx_vectorized_env.observation_space}\")\n",
    "print(sensor_selection)\n",
    "\n",
    "# # sensorry input based on forloop\n",
    "# sensory_input_nn = []\n",
    "# for sensor in sensor_selection:\n",
    "#     print(mjx_vectorized_state.observations[sensor].shape)\n",
    "#     sensory_input_nn.append(mjx_vectorized_state.observations[sensor])\n",
    "\n",
    "# print(jnp.array(sensory_input_nn).shape)\n",
    "# sensory_input_nn = jnp.concatenate(sensory_input_nn, axis = 1)\n",
    "# print(jnp.array(sensory_input_nn).shape)\n",
    "\n",
    "# sensory input based on tree util\n",
    "sensory_input_all = jnp.concatenate(\n",
    "    jax.tree_util.tree_map(mjx_vectorized_state.observations.__getitem__, list(mjx_vectorized_state.observations.keys())),\n",
    "    axis = 1\n",
    ")\n",
    "\n",
    "print(sensory_input_all.shape)\n",
    "nn_input_dim = sensory_input_all.shape[-1]\n",
    "print(nn_input_dim)\n",
    "\n",
    "nn_output_dim = len(mjx_vectorized_env.actuators)\n",
    "print(nn_output_dim)"
   ]
  },
  {
   "cell_type": "markdown",
   "id": "dddd3f7c-f567-40df-b193-8c9b53db4c55",
   "metadata": {},
   "source": [
    "### instantiating the neural network"
   ]
  },
  {
   "cell_type": "markdown",
   "id": "04935c92-b0e5-4dbd-a0da-6e2884b60ab6",
   "metadata": {},
   "source": [
    "Let us base the development of the first controller on a brittle star with 2 arms and 5 segments, 10 segments in total, 20 degrees of freedom, meaning 20 joint angle positions to be controlled. This means the final layer of our output is 20.\n",
    "The inputs will be sampled from the Brittle Star Observation space, but let's for now just initialise an input space with 10 random inputs."
   ]
  },
  {
   "cell_type": "code",
   "execution_count": 48,
   "id": "fc2686c6-fe28-4487-bdb8-fb198b60dbbf",
   "metadata": {},
   "outputs": [
    {
     "name": "stdout",
     "output_type": "stream",
     "text": [
      "shape of the input layer:  (62,)\n",
      "[128, 128, 20]\n",
      "dict_keys(['layers_0', 'layers_1', 'layers_2'])\n",
      "{'params': {'layers_0': {'bias': (128,), 'kernel': (62, 128)}, 'layers_1': {'bias': (128,), 'kernel': (128, 128)}, 'layers_2': {'bias': (20,), 'kernel': (128, 20)}}}\n",
      "initialized parameter shapes:\n",
      " {'params': {'layers_0': {'bias': (128,), 'kernel': (62, 128)}, 'layers_1': {'bias': (128,), 'kernel': (128, 128)}, 'layers_2': {'bias': (20,), 'kernel': (128, 20)}}}\n"
     ]
    }
   ],
   "source": [
    "features = [128,128, nn_output_dim]\n",
    "model = ExplicitMLP(features = features, joint_control = joint_control)\n",
    "\n",
    "# initialising the parameters of the model\n",
    "rng, rng_input, rng_init = jax.random.split(rng, 3)\n",
    "x = jnp.zeros(nn_input_dim) # just required for the initialisation: only length matters, not input values\n",
    "print(\"shape of the input layer: \", x.shape)\n",
    "policy_params_init = model.init(rng_init, x)\n",
    "\n",
    "# vectorize the model.apply function\n",
    "vectorized_model_apply = jax.jit(jax.vmap(model.apply))\n",
    "\n",
    "\n",
    "# params is a PyTree --> see jax documentation\n",
    "# print(params)\n",
    "print(features)\n",
    "print(policy_params_init['params'].keys())\n",
    "print(jax.tree_util.tree_map(lambda x: x.shape, policy_params_init))\n",
    "print('initialized parameter shapes:\\n', jax.tree_util.tree_map(jnp.shape, flax.core.unfreeze(policy_params_init)))"
   ]
  },
  {
   "cell_type": "markdown",
   "id": "bf4015b8-5b9b-4438-83b6-0cc0d47b4755",
   "metadata": {},
   "source": [
    "A single forward pass through the model"
   ]
  },
  {
   "cell_type": "code",
   "execution_count": 49,
   "id": "3a9e4d4e-9f4f-4f78-b66b-a50512877aae",
   "metadata": {},
   "outputs": [
    {
     "name": "stdout",
     "output_type": "stream",
     "text": [
      "Range of the output is [-0.4163925051689148, 0.3561030626296997]\n"
     ]
    }
   ],
   "source": [
    "test_output = model.apply(policy_params_init,jax.random.uniform(rng_input, (nn_input_dim,)))\n",
    "print(f\"Range of the output is [{jnp.min(test_output)}, {jnp.max(test_output)}]\")"
   ]
  },
  {
   "cell_type": "markdown",
   "id": "0e01c132-9254-4ecc-892c-d85cf4a9b00a",
   "metadata": {},
   "source": [
    "Indeed, all outputs are distributed between -0.52 and +0.52 for joints or between -1 and +1 for torques, as expected from the tanh activation fucnction of the output layer, rescaled."
   ]
  },
  {
   "cell_type": "code",
   "execution_count": 50,
   "id": "7ce28e87-ec80-4e52-9a87-c8a8925440bb",
   "metadata": {},
   "outputs": [
    {
     "name": "stdout",
     "output_type": "stream",
     "text": [
      "ParameterReshaper: 27156 parameters detected for optimization.\n"
     ]
    }
   ],
   "source": [
    "param_reshaper = ParameterReshaper(policy_params_init)\n",
    "num_params = param_reshaper.total_params # get from the weights and biases of the NN"
   ]
  },
  {
   "cell_type": "markdown",
   "id": "07cb622f-d094-419e-8857-bb161e9dd41e",
   "metadata": {},
   "source": [
    "### Instantiating the search strategy"
   ]
  },
  {
   "cell_type": "code",
   "execution_count": 51,
   "id": "d0d4175e-6c4b-4646-890f-61dbea1f95a7",
   "metadata": {},
   "outputs": [
    {
     "name": "stdout",
     "output_type": "stream",
     "text": [
      "es_params: EvoParams(opt_params=OptParams(lrate_init=0.05, lrate_decay=1.0, lrate_limit=0.001, momentum=None, beta_1=0.99, beta_2=0.999, beta_3=None, eps=1e-08, max_speed=None), sigma_init=0.03, sigma_decay=1.0, sigma_limit=0.01, init_min=0.0, init_max=0.0, clip_min=-3.4028235e+38, clip_max=3.4028235e+38)\n",
      "\n",
      "candidate solution shape: (1280, 27156)\n",
      "\n",
      "{'params': {'layers_0': {'bias': (1280, 128), 'kernel': (1280, 62, 128)}, 'layers_1': {'bias': (1280, 128), 'kernel': (1280, 128, 128)}, 'layers_2': {'bias': (1280, 20), 'kernel': (1280, 128, 20)}}}\n"
     ]
    }
   ],
   "source": [
    "# instantiate the search strategy\n",
    "rng, rng_ask, rng_init = jax.random.split(rng, 3)\n",
    "strategy  = OpenES(popsize = es_popsize, num_dims = num_params)\n",
    "# still parameters that can be finetuned, like optimisation method, lrate, lrate decay, ...\n",
    "es_params = strategy.default_params\n",
    "# # replacing certain parameters:\n",
    "# es_params = es_params.replace(init_min = -3, init_max = 3)\n",
    "print(f\"es_params: {es_params}\\n\")\n",
    "\n",
    "fit_shaper = FitnessShaper(maximize=True)\n",
    "\n",
    "es_state = strategy.initialize(rng_init, es_params)\n",
    "\n",
    "policy_params_test, es_state = strategy.ask(rng_ask, es_state)\n",
    "print(f\"candidate solution shape: {policy_params_test.shape}\\n\")\n",
    "\n",
    "# network parameters have an additional dimension of 100, meaning that every bias and every weight appears 100 times\n",
    "# 100 parallel trees if you want\n",
    "policy_params_test_reshaped = param_reshaper.reshape(policy_params_test)\n",
    "print(jax.tree_util.tree_map(lambda x: x.shape, policy_params_test_reshaped))"
   ]
  },
  {
   "cell_type": "markdown",
   "id": "ec805304-3c87-4df1-875c-1a4b0b3ec9cd",
   "metadata": {},
   "source": [
    "### Running the optimisation"
   ]
  },
  {
   "cell_type": "code",
   "execution_count": 52,
   "id": "399ae067-0e82-4ad7-9a35-81a0e3542901",
   "metadata": {},
   "outputs": [
    {
     "name": "stdout",
     "output_type": "stream",
     "text": [
      "\n",
      "Total number of control timesteps per episode: 125\n",
      "Total simulation time [seconds]: 5s\n",
      "Selected sensors: ('in_plane_joint_position', 'out_of_plane_joint_position', 'segment_contact')\n",
      "\n",
      "Neural network architecture: [30, 128, 128, 20] with:\n",
      "\tSensory input layer dimension: 30:\n",
      "\tActuator output dimension: 20\n",
      "\tNumber of hidden layers / nodes per hidden layer: [128, 128]\n",
      "\n",
      "Arm setup: [5, 0, 5, 0, 0]\n",
      "Joint control: position\n",
      "Reward_type: distance\n",
      "\n",
      "Number of generations for updating policy parameters: 2500\n",
      "Population size per generation of policy parameters: 1280\n",
      "Number of parallel MJX environments: 1280\n",
      "\n"
     ]
    },
    {
     "data": {
      "text/html": [
       "Finishing last run (ID:da5a5eqe) before initializing another..."
      ],
      "text/plain": [
       "<IPython.core.display.HTML object>"
      ]
     },
     "metadata": {},
     "output_type": "display_data"
    },
    {
     "name": "stderr",
     "output_type": "stream",
     "text": [
      "wandb: WARNING Source type is set to 'repo' but some required information is missing from the environment. A job will not be created from this run. See https://docs.wandb.ai/guides/launch/create-job\n"
     ]
    },
    {
     "data": {
      "application/vnd.jupyter.widget-view+json": {
       "model_id": "",
       "version_major": 2,
       "version_minor": 0
      },
      "text/plain": [
       "VBox(children=(Label(value='0.005 MB of 0.005 MB uploaded\\r'), FloatProgress(value=1.0, max=1.0)))"
      ]
     },
     "metadata": {},
     "output_type": "display_data"
    },
    {
     "data": {
      "text/html": [
       "<style>\n",
       "    table.wandb td:nth-child(1) { padding: 0 10px; text-align: left ; width: auto;} td:nth-child(2) {text-align: left ; width: 100%}\n",
       "    .wandb-row { display: flex; flex-direction: row; flex-wrap: wrap; justify-content: flex-start; width: 100% }\n",
       "    .wandb-col { display: flex; flex-direction: column; flex-basis: 100%; flex: 1; padding: 10px; }\n",
       "    </style>\n",
       "<div class=\"wandb-row\"><div class=\"wandb-col\"><h3>Run history:</h3><br/><table class=\"wandb\"><tr><td>max reward</td><td>▁▁▂▃▄▅▅▆▇▇▇▇▇▇▇▇▇██████▇▇█████████</td></tr><tr><td>mean reward</td><td>▁▁▁▂▃▄▅▅▆▆▇▇▇▇▇▇▇▇▇▇█▇▇▇▇▇████████</td></tr></table><br/></div><div class=\"wandb-col\"><h3>Run summary:</h3><br/><table class=\"wandb\"><tr><td>max reward</td><td>2.93122</td></tr><tr><td>mean reward</td><td>2.62923</td></tr></table><br/></div></div>"
      ],
      "text/plain": [
       "<IPython.core.display.HTML object>"
      ]
     },
     "metadata": {},
     "output_type": "display_data"
    },
    {
     "data": {
      "text/html": [
       " View run <strong style=\"color:#cdcd00\">kind-wave-4</strong> at: <a href='https://wandb.ai/matthias-pex/New_project/runs/da5a5eqe' target=\"_blank\">https://wandb.ai/matthias-pex/New_project/runs/da5a5eqe</a><br/>Synced 6 W&B file(s), 0 media file(s), 0 artifact file(s) and 0 other file(s)"
      ],
      "text/plain": [
       "<IPython.core.display.HTML object>"
      ]
     },
     "metadata": {},
     "output_type": "display_data"
    },
    {
     "data": {
      "text/html": [
       "Find logs at: <code>./wandb/run-20240206_141621-da5a5eqe/logs</code>"
      ],
      "text/plain": [
       "<IPython.core.display.HTML object>"
      ]
     },
     "metadata": {},
     "output_type": "display_data"
    },
    {
     "data": {
      "text/html": [
       "Successfully finished last run (ID:da5a5eqe). Initializing new run:<br/>"
      ],
      "text/plain": [
       "<IPython.core.display.HTML object>"
      ]
     },
     "metadata": {},
     "output_type": "display_data"
    },
    {
     "data": {
      "application/vnd.jupyter.widget-view+json": {
       "model_id": "ac4277bc54a24022a12ba8770cd1d8e5",
       "version_major": 2,
       "version_minor": 0
      },
      "text/plain": [
       "VBox(children=(Label(value='Waiting for wandb.init()...\\r'), FloatProgress(value=0.01111186395606233, max=1.0)…"
      ]
     },
     "metadata": {},
     "output_type": "display_data"
    },
    {
     "data": {
      "text/html": [
       "Tracking run with wandb version 0.16.2"
      ],
      "text/plain": [
       "<IPython.core.display.HTML object>"
      ]
     },
     "metadata": {},
     "output_type": "display_data"
    },
    {
     "data": {
      "text/html": [
       "Run data is saved locally in <code>/kyukon/home/gent/457/vsc45787/bsc/Centralized_controller/wandb/run-20240206_142634-hrwwz2py</code>"
      ],
      "text/plain": [
       "<IPython.core.display.HTML object>"
      ]
     },
     "metadata": {},
     "output_type": "display_data"
    },
    {
     "data": {
      "text/html": [
       "Syncing run <strong><a href='https://wandb.ai/matthias-pex/New_project/runs/hrwwz2py' target=\"_blank\">mild-resonance-5</a></strong> to <a href='https://wandb.ai/matthias-pex/New_project' target=\"_blank\">Weights & Biases</a> (<a href='https://wandb.me/run' target=\"_blank\">docs</a>)<br/>"
      ],
      "text/plain": [
       "<IPython.core.display.HTML object>"
      ]
     },
     "metadata": {},
     "output_type": "display_data"
    },
    {
     "data": {
      "text/html": [
       " View project at <a href='https://wandb.ai/matthias-pex/New_project' target=\"_blank\">https://wandb.ai/matthias-pex/New_project</a>"
      ],
      "text/plain": [
       "<IPython.core.display.HTML object>"
      ]
     },
     "metadata": {},
     "output_type": "display_data"
    },
    {
     "data": {
      "text/html": [
       " View run at <a href='https://wandb.ai/matthias-pex/New_project/runs/hrwwz2py' target=\"_blank\">https://wandb.ai/matthias-pex/New_project/runs/hrwwz2py</a>"
      ],
      "text/plain": [
       "<IPython.core.display.HTML object>"
      ]
     },
     "metadata": {},
     "output_type": "display_data"
    },
    {
     "name": "stdout",
     "output_type": "stream",
     "text": [
      "generation:  0 \n",
      "time since start:  0.00027942657470703125\n",
      "time spent on rollout: 0\n",
      "generation:  10 \n",
      "time since start:  523.6357548236847\n",
      "time spent on rollout: 515.8165168762207\n",
      "generation:  20 \n",
      "time since start:  990.3924236297607\n",
      "time spent on rollout: 459.5980966091156\n",
      "generation:  30 \n",
      "time since start:  1457.1345052719116\n",
      "time spent on rollout: 459.57992219924927\n",
      "generation:  40 \n",
      "time since start:  1923.856385231018\n",
      "time spent on rollout: 459.5642647743225\n",
      "generation:  50 \n",
      "time since start:  2390.5275869369507\n",
      "time spent on rollout: 459.5136966705322\n",
      "generation:  60 \n",
      "time since start:  2857.2298436164856\n",
      "time spent on rollout: 459.5474922657013\n",
      "generation:  70 \n",
      "time since start:  3323.9720578193665\n",
      "time spent on rollout: 459.5875463485718\n",
      "generation:  80 \n",
      "time since start:  3790.679327249527\n",
      "time spent on rollout: 459.5502140522003\n",
      "generation:  90 \n",
      "time since start:  4257.363198757172\n",
      "time spent on rollout: 459.52812790870667\n",
      "generation:  100 \n",
      "time since start:  4724.053627729416\n",
      "time spent on rollout: 459.5331666469574\n",
      "generation:  110 \n",
      "time since start:  5190.771387338638\n",
      "time spent on rollout: 459.5612416267395\n",
      "generation:  120 \n",
      "time since start:  5657.493711471558\n",
      "time spent on rollout: 459.56430315971375\n",
      "generation:  130 \n",
      "time since start:  6124.1970772743225\n",
      "time spent on rollout: 459.54478430747986\n",
      "generation:  140 \n",
      "time since start:  6590.900935173035\n",
      "time spent on rollout: 459.54567432403564\n",
      "generation:  150 \n",
      "time since start:  7057.623137712479\n",
      "time spent on rollout: 459.5654580593109\n",
      "generation:  160 \n",
      "time since start:  7524.345087766647\n",
      "time spent on rollout: 459.56461358070374\n",
      "generation:  170 \n",
      "time since start:  7991.078396320343\n",
      "time spent on rollout: 459.5766453742981\n",
      "generation:  180 \n",
      "time since start:  8457.799441099167\n",
      "time spent on rollout: 459.56354308128357\n",
      "generation:  190 \n",
      "time since start:  8924.515977859497\n",
      "time spent on rollout: 459.5566415786743\n",
      "generation:  200 \n",
      "time since start:  9391.240774154663\n",
      "time spent on rollout: 459.5668489933014\n",
      "generation:  210 \n",
      "time since start:  9857.964997529984\n",
      "time spent on rollout: 459.5664803981781\n",
      "generation:  220 \n",
      "time since start:  10324.682813167572\n",
      "time spent on rollout: 459.561190366745\n"
     ]
    },
    {
     "ename": "KeyboardInterrupt",
     "evalue": "",
     "output_type": "error",
     "traceback": [
      "\u001b[0;31m---------------------------------------------------------------------------\u001b[0m",
      "\u001b[0;31mKeyboardInterrupt\u001b[0m                         Traceback (most recent call last)",
      "Cell \u001b[0;32mIn[52], line 56\u001b[0m\n\u001b[1;32m     53\u001b[0m policy_params_shaped \u001b[38;5;241m=\u001b[39m param_reshaper\u001b[38;5;241m.\u001b[39mreshape(policy_params) \u001b[38;5;66;03m# --> stacked pytree\u001b[39;00m\n\u001b[1;32m     55\u001b[0m rollout_start_time \u001b[38;5;241m=\u001b[39m time\u001b[38;5;241m.\u001b[39mtime()\n\u001b[0;32m---> 56\u001b[0m final_state, rewards, rng \u001b[38;5;241m=\u001b[39m \u001b[43mvectorized_rollout\u001b[49m\u001b[43m(\u001b[49m\u001b[43mpolicy_params_shaped\u001b[49m\u001b[43m \u001b[49m\u001b[38;5;241;43m=\u001b[39;49m\u001b[43m \u001b[49m\u001b[43mpolicy_params_shaped\u001b[49m\u001b[43m,\u001b[49m\n\u001b[1;32m     57\u001b[0m \u001b[43m                                               \u001b[49m\u001b[43mtotal_num_control_timesteps\u001b[49m\u001b[43m \u001b[49m\u001b[38;5;241;43m=\u001b[39;49m\u001b[43m \u001b[49m\u001b[43mtotal_num_control_timesteps\u001b[49m\u001b[43m,\u001b[49m\n\u001b[1;32m     58\u001b[0m \u001b[43m                                               \u001b[49m\u001b[43mrng\u001b[49m\u001b[43m \u001b[49m\u001b[38;5;241;43m=\u001b[39;49m\u001b[43m \u001b[49m\u001b[43mrng\u001b[49m\u001b[43m,\u001b[49m\n\u001b[1;32m     59\u001b[0m \u001b[43m                                               \u001b[49m\u001b[43mNUM_MJX_ENVIRONMENTS\u001b[49m\u001b[43m \u001b[49m\u001b[38;5;241;43m=\u001b[39;49m\u001b[43m \u001b[49m\u001b[43mNUM_MJX_ENVIRONMENTS\u001b[49m\n\u001b[1;32m     60\u001b[0m \u001b[43m                                              \u001b[49m\u001b[43m)\u001b[49m\n\u001b[1;32m     61\u001b[0m time_spent_on_rollout \u001b[38;5;241m+\u001b[39m\u001b[38;5;241m=\u001b[39m time\u001b[38;5;241m.\u001b[39mtime()\u001b[38;5;241m-\u001b[39mrollout_start_time\n\u001b[1;32m     63\u001b[0m \u001b[38;5;66;03m# rewards shape is: 300 parallel rewards per control step, an additional stack every control step --> sum over the control steps along axis = 0\u001b[39;00m\n",
      "File \u001b[0;32m~/.conda/envs/hope/lib/python3.11/site-packages/mujoco/mjx/_src/dataclasses.py:74\u001b[0m, in \u001b[0;36mdataclass.<locals>.clz_from_iterable\u001b[0;34m(meta, data)\u001b[0m\n\u001b[1;32m     71\u001b[0m   meta \u001b[38;5;241m=\u001b[39m \u001b[38;5;28mtuple\u001b[39m(to_meta(f, x) \u001b[38;5;28;01mfor\u001b[39;00m f \u001b[38;5;129;01min\u001b[39;00m meta_fields)\n\u001b[1;32m     72\u001b[0m   \u001b[38;5;28;01mreturn\u001b[39;00m data, meta\n\u001b[0;32m---> 74\u001b[0m \u001b[38;5;28;01mdef\u001b[39;00m \u001b[38;5;21mclz_from_iterable\u001b[39m(meta, data):\n\u001b[1;32m     76\u001b[0m   \u001b[38;5;28;01mdef\u001b[39;00m \u001b[38;5;21mfrom_meta\u001b[39m(field, meta):\n\u001b[1;32m     77\u001b[0m     \u001b[38;5;28;01mif\u001b[39;00m field\u001b[38;5;241m.\u001b[39mtype \u001b[38;5;129;01mis\u001b[39;00m np\u001b[38;5;241m.\u001b[39mndarray:\n",
      "\u001b[0;31mKeyboardInterrupt\u001b[0m: "
     ]
    }
   ],
   "source": [
    "# Check some params:\n",
    "print(f\"\"\"\n",
    "Total number of control timesteps per episode: {total_num_control_timesteps}\n",
    "Total simulation time [seconds]: {simulation_time}s\n",
    "Selected sensors: {sensor_selection}\n",
    "\n",
    "Neural network architecture: {[sensor_selection_dim] + features} with:\n",
    "\\tSensory input layer dimension: {sensor_selection_dim}:\n",
    "\\tActuator output dimension: {features[-1]}\n",
    "\\tNumber of hidden layers / nodes per hidden layer: {features[:-1]}\n",
    "\n",
    "Arm setup: {arm_setup}\n",
    "Joint control: {joint_control}\n",
    "Reward_type: {reward_type}\n",
    "\n",
    "Number of generations for updating policy parameters: {num_generations}\n",
    "Population size per generation of policy parameters: {es_popsize}\n",
    "Number of parallel MJX environments: {NUM_MJX_ENVIRONMENTS}\n",
    "\"\"\")\n",
    "\n",
    "# reset the search strategy state\n",
    "rng, rng_init = jax.random.split(rng, 2)\n",
    "es_state = strategy.initialize(rng_init, es_params)\n",
    "\n",
    "# start a new wandb run to track this script\n",
    "wandb.init(\n",
    "    # set the wandb project where this run will be logged\n",
    "    project = \"New_project\",\n",
    "\n",
    "    # track hyperparameters and run metadata\n",
    "    config={\n",
    "    \"nn_architecture\": [sensor_selection_dim] + features,\n",
    "    \"activation_function\": \"Tanh\",\n",
    "    \"num_generations\": num_generations,\n",
    "    \"es_popsize\": es_popsize,\n",
    "    }\n",
    ")\n",
    "\n",
    "# Run ask-eval-tell loop - NOTE: By default minimization!\n",
    "start_time = time.time()\n",
    "time_spent_on_rollout = 0\n",
    "for gen in range(num_generations):\n",
    "    # track runtimes\n",
    "    if gen%10 == 0:\n",
    "        print('generation: ', gen, '\\ntime since start: ', time.time()-start_time)\n",
    "        print(f\"time spent on rollout: {time_spent_on_rollout}\")\n",
    "        time_spent_on_rollout = 0\n",
    "        \n",
    "    \n",
    "    rng, rng_gen, rng_eval = jax.random.split(rng, 3)\n",
    "    \n",
    "    policy_params, es_state = strategy.ask(rng_gen, es_state, es_params)\n",
    "    policy_params_shaped = param_reshaper.reshape(policy_params) # --> stacked pytree\n",
    "\n",
    "    rollout_start_time = time.time()\n",
    "    final_state, rewards, rng = vectorized_rollout(policy_params_shaped = policy_params_shaped,\n",
    "                                                   total_num_control_timesteps = total_num_control_timesteps,\n",
    "                                                   rng = rng,\n",
    "                                                   NUM_MJX_ENVIRONMENTS = NUM_MJX_ENVIRONMENTS\n",
    "                                                  )\n",
    "    time_spent_on_rollout += time.time()-rollout_start_time\n",
    "\n",
    "    # rewards shape is: 300 parallel rewards per control step, an additional stack every control step --> sum over the control steps along axis = 0\n",
    "    fitness = jnp.sum(rewards, axis = 0)  # Your population evaluation fct \n",
    "    # fitness should be an array with population size as len (e.g. 100)\n",
    "    fit_re = fit_shaper.apply(policy_params, fitness)\n",
    "    \n",
    "    # log memtrics to wandb\n",
    "    wandb.log({\"mean reward\": jnp.mean(fitness), \"max reward\":jnp.max(fitness)})\n",
    "    \n",
    "    es_state = strategy.tell(policy_params, fit_re, es_state, es_params)\n",
    "    \n",
    "# [optional] finish the wandb run, necessary in notebooks\n",
    "wandb.finish()\n",
    "# # Get best overall population member & its fitness\n",
    "# es_state.best_member, es_state.best_fitness"
   ]
  },
  {
   "cell_type": "markdown",
   "id": "43601f19-6610-43f0-ba2c-1f6f7731d8c4",
   "metadata": {},
   "source": [
    "### Running using a sensor selection without jitting"
   ]
  },
  {
   "cell_type": "code",
   "execution_count": null,
   "id": "f393c398-6160-41c5-b3f0-e7c9adab0b38",
   "metadata": {},
   "outputs": [],
   "source": [
    "# # start a new wandb run to track this script\n",
    "# wandb.init(\n",
    "#     # set the wandb project where this run will be logged\n",
    "#     project = \"Centralized controller framework\",\n",
    "\n",
    "#     # track hyperparameters and run metadata\n",
    "#     config={\n",
    "#     \"nn_architecture\": [sensor_selection_dim] + features,\n",
    "#     \"activation_function\": \"Tanh\",\n",
    "#     \"num_generations\": num_generations,\n",
    "#     \"es_popsize\": es_popsize,\n",
    "#     }\n",
    "# )\n",
    "\n",
    "# # Run ask-eval-tell loop - NOTE: By default minimization!\n",
    "# start_time = time.time()\n",
    "# for gen in range(num_generations):\n",
    "#     mjx_action_rng, mjx_vectorized_env_rng = jax.random.split(jax.random.PRNGKey(0), 2)\n",
    "#     mjx_vectorized_env_rng = jnp.array(jax.random.split(mjx_vectorized_env_rng, NUM_MJX_ENVIRONMENTS))\n",
    "#     mjx_vectorized_state = mjx_vectorized_reset(rng=mjx_vectorized_env_rng)\n",
    "\n",
    "#     if gen%10 == 0:\n",
    "#         print('generation: ', gen)\n",
    "#         print('time since start: ', time.time()-start_time)\n",
    "    \n",
    "#     rng, rng_gen, rng_eval = jax.random.split(rng, 3)\n",
    "    \n",
    "#     x, es_state = strategy.ask(rng_gen, es_state, es_params)\n",
    "#     x_shaped = param_reshaper.reshape(x) # --> stacked pytree\n",
    "\n",
    "#     total_reward = 0\n",
    "#     # i = 0\n",
    "#     while not jnp.any(mjx_vectorized_state.terminated | mjx_vectorized_state.truncated):\n",
    "#         # i += 1\n",
    "#         # print(i, end = \" \")\n",
    "#         sensory_input_nn = []\n",
    "#         for sensor in sensor_selection:\n",
    "#             sensory_input_nn.append(mjx_vectorized_state.observations[sensor])\n",
    "#         sensory_input_nn = jnp.concatenate(sensory_input_nn, axis = 1)\n",
    "        \n",
    "#         action = vectorized_model_apply(x_shaped, sensory_input_nn)\n",
    "        \n",
    "#         mjx_vectorized_state = mjx_vectorized_step(state=mjx_vectorized_state, action=action)\n",
    "#         total_reward += mjx_vectorized_state.reward\n",
    "\n",
    "#     fitness = total_reward  # Your population evaluation fct \n",
    "#     # fitness should be an array with population size as len (e.g. 100)\n",
    "#     # log memtrics to wandb\n",
    "#     fit_re = fit_shaper.apply(x, fitness)\n",
    "    \n",
    "#     wandb.log({\"mean reward\": jnp.mean(fitness), \"max reward\":jnp.max(fitness), \"reshaped fitness\": jnp.mean(fit_re)})\n",
    "    \n",
    "#     es_state = strategy.tell(x, fit_re, es_state, es_params)\n",
    "    \n",
    "# # [optional] finish the wandb run, necessary in notebooks\n",
    "# wandb.finish()\n",
    "# # # Get best overall population member & its fitness\n",
    "# # state.best_member, state.best_fitness"
   ]
  },
  {
   "cell_type": "code",
   "execution_count": null,
   "id": "52e68e62-c061-4701-b3cb-576129f82ab9",
   "metadata": {},
   "outputs": [],
   "source": [
    "def fun1(sensor_selection, mjx_vectorized_state):\n",
    "    sensory_input_nn = []\n",
    "    for sensor in sensor_selection:\n",
    "        sensory_input_nn.append(mjx_vectorized_state.observations[sensor])\n",
    "    sensory_input_nn = jnp.concatenate(sensory_input_nn, axis = 1)\n",
    "    return sensory_input_nn\n",
    "\n",
    "def fun2(senfor_selection, mjx_vectorized_state):\n",
    "    sensory_input_nn = jnp.concatenate(\n",
    "        jax.tree_util.tree_map(mjx_vectorized_state.observations.__getitem__, sensor_selection),\n",
    "        axis = 1\n",
    "    )\n",
    "    return sensory_input_nn\n",
    "\n",
    "sensory_input_nn_1 = fun1(sensor_selection, mjx_vectorized_state)\n",
    "sensory_input_nn_2 = fun2(sensor_selection, mjx_vectorized_state)\n",
    "print(sensory_input_nn_1 - sensory_input_nn_2)\n",
    "\n",
    "# print(jax.make_jaxpr(fun1, static_argnums=0)(sensor_selection, mjx_vectorized_state))\n",
    "# print()\n",
    "# print(jax.make_jaxpr(fun2, static_argnums=0)(sensor_selection, mjx_vectorized_state))"
   ]
  },
  {
   "cell_type": "code",
   "execution_count": null,
   "id": "8011049b-b0bd-464f-852b-c20a845f3571",
   "metadata": {},
   "outputs": [],
   "source": [
    "rng, env_rng, action_rng = jax.random.split(rng, 3)\n",
    "\n",
    "jit_step = jax.jit(env.step)\n",
    "jit_reset = jax.jit(env.reset)\n",
    "\n",
    "env_state = jit_reset(rng=env_rng)\n",
    "\n",
    "env_frames = []\n",
    "while not (env_state.terminated | env_state.truncated):\n",
    "    action_rng, sub_rng = jax.random.split(action_rng, 2)\n",
    "    action = env.action_space.sample(rng=sub_rng)\n",
    "\n",
    "    env_state = jit_step(state=env_state, action=action)\n",
    "    env_frames.append(post_render(env.render(state=env_state), env.environment_configuration))\n",
    "show_video(images=env_frames)"
   ]
  },
  {
   "cell_type": "code",
   "execution_count": null,
   "id": "28db094f-0383-4471-8460-dc7a098833da",
   "metadata": {},
   "outputs": [],
   "source": []
  },
  {
   "cell_type": "code",
   "execution_count": null,
   "id": "a780e42d-983f-445a-a93e-2ec52edb541c",
   "metadata": {},
   "outputs": [],
   "source": [
    "mjx_vectorized_state = mjx_vectorized_reset(rng=mjx_vectorized_env_rng)\n",
    "\n",
    "mjx_frames = []\n",
    "i = 0\n",
    "while not jnp.any(mjx_vectorized_state.terminated | mjx_vectorized_state.truncated):\n",
    "    i += 1\n",
    "    print(i)\n",
    "    mjx_action_rng, *sub_rngs = jnp.array(jax.random.split(mjx_action_rng, NUM_MJX_ENVIRONMENTS + 1))\n",
    "    action = mjx_vectorized_action_sample(rng=jnp.array(sub_rngs))\n",
    "    \n",
    "    mjx_vectorized_state = mjx_vectorized_step(state=mjx_vectorized_state, action=action)\n",
    "    mjx_frames.append(\n",
    "            post_render(\n",
    "                mjx_vectorized_env.render(state=mjx_vectorized_state),\n",
    "                mjx_vectorized_env.environment_configuration\n",
    "                )\n",
    "            )\n",
    "show_video(images=mjx_frames)"
   ]
  },
  {
   "cell_type": "code",
   "execution_count": null,
   "id": "de59293d-86b7-4987-828d-4383cd775b41",
   "metadata": {},
   "outputs": [],
   "source": [
    "print(\"Observation space:\")\n",
    "print(f\"\\t{mjx_vectorized_env.observation_space}\")\n",
    "print(\"Action space:\")\n",
    "print(f\"\\t{mjx_vectorized_env.action_space}\")"
   ]
  },
  {
   "cell_type": "code",
   "execution_count": 37,
   "id": "3b004a2f-0871-410a-ba5a-663b18fdf1de",
   "metadata": {},
   "outputs": [],
   "source": [
    "mjx_vectorized_env.close()"
   ]
  },
  {
   "cell_type": "code",
   "execution_count": null,
   "id": "1234f198-e10c-4467-a945-76ea5a80f9d8",
   "metadata": {},
   "outputs": [],
   "source": []
  },
  {
   "cell_type": "code",
   "execution_count": null,
   "id": "ce1f003c-cfa9-48b8-a17a-5ad88524f74e",
   "metadata": {},
   "outputs": [],
   "source": []
  },
  {
   "cell_type": "code",
   "execution_count": null,
   "id": "f50c0b65-7c1d-45b2-a2b9-71aacd6a4997",
   "metadata": {},
   "outputs": [],
   "source": []
  },
  {
   "cell_type": "markdown",
   "id": "d00ade34-9357-46da-8dd8-9c9e03a0ad90",
   "metadata": {},
   "source": [
    "## Trying to implement cumsum with jax.lax.scan"
   ]
  },
  {
   "cell_type": "code",
   "execution_count": 33,
   "id": "7490673e-43ee-498e-b1f0-24211dd65833",
   "metadata": {},
   "outputs": [],
   "source": [
    "a = np.array([1, 2, 3, 5, 7, 11, 13, 17])"
   ]
  },
  {
   "cell_type": "code",
   "execution_count": 36,
   "id": "75e7d9ee-a87f-4ae5-af12-49cba5b61972",
   "metadata": {},
   "outputs": [],
   "source": [
    "def cumsum(input_array):\n",
    "    carry_init = 0\n",
    "    def step(carry, el):\n",
    "        carry += el\n",
    "        return carry, carry # add the elements to the stack output --> will be cumsum list\n",
    "\n",
    "    state, output_stack = jax.lax.scan(\n",
    "        step,\n",
    "        carry_init,\n",
    "        input_array,\n",
    "    )\n",
    "\n",
    "    return output_stack\n",
    "\n",
    "    "
   ]
  },
  {
   "cell_type": "code",
   "execution_count": 37,
   "id": "63725546-01e3-4e2f-a867-2db7538d2da1",
   "metadata": {},
   "outputs": [
    {
     "name": "stdout",
     "output_type": "stream",
     "text": [
      "[ 1  3  6 11 18 29 42 59]\n"
     ]
    }
   ],
   "source": [
    "print(cumsum(a))"
   ]
  },
  {
   "cell_type": "code",
   "execution_count": 42,
   "id": "e4631810-14fe-4868-8128-c6d6112eec3a",
   "metadata": {},
   "outputs": [
    {
     "name": "stdout",
     "output_type": "stream",
     "text": [
      "[1, 3, 6, 11, 18, 29, 42, 59]\n"
     ]
    }
   ],
   "source": [
    "result = []\n",
    "res = 0\n",
    "for el in a:\n",
    "    res += el\n",
    "    result.append(res)\n",
    "\n",
    "np.array(result)\n",
    "print(result)"
   ]
  },
  {
   "cell_type": "code",
   "execution_count": 39,
   "id": "d67e929a-4950-4ce2-8164-93c1a18e0f9d",
   "metadata": {},
   "outputs": [],
   "source": [
    "def cumsum(a):\n",
    "    carry_init = 0\n",
    "    def step(carry, el):\n",
    "        carry = carry + el\n",
    "        return carry, carry\n",
    "\n",
    "    _, cumsum_array = jax.lax.scan(\n",
    "        step,\n",
    "        carry_init,\n",
    "        a\n",
    "    )\n",
    "    return cumsum_array\n",
    "    "
   ]
  },
  {
   "cell_type": "code",
   "execution_count": 43,
   "id": "8556620f-ec0b-412f-b3ad-98a364d51e85",
   "metadata": {},
   "outputs": [
    {
     "name": "stdout",
     "output_type": "stream",
     "text": [
      "[ 1  2  3  5  7 11 13 17]\n",
      "[ 1  3  6 11 18 29 42 59]\n"
     ]
    }
   ],
   "source": [
    "print(a)\n",
    "print(cumsum(a))"
   ]
  },
  {
   "cell_type": "code",
   "execution_count": null,
   "id": "eca35301-a60a-4f74-ac8d-2410d979a1d7",
   "metadata": {},
   "outputs": [],
   "source": []
  },
  {
   "cell_type": "markdown",
   "id": "4b85f2a0-a23d-422a-8bfc-ab9578378e47",
   "metadata": {},
   "source": [
    "Exercise wealth compound interest"
   ]
  },
  {
   "cell_type": "code",
   "execution_count": 49,
   "id": "7ad2da55-27a2-49b5-b321-926fe34b3c00",
   "metadata": {},
   "outputs": [],
   "source": [
    "wealth_record = []\n",
    "starting_wealth = 100.0\n",
    "interest_factor = 1.01\n",
    "num_timesteps = 100\n",
    "prev_wealth = starting_wealth\n",
    "\n",
    "for t in range(num_timesteps):\n",
    "    new_wealth = prev_wealth * interest_factor\n",
    "    wealth_record.append(prev_wealth)\n",
    "    prev_wealth = new_wealth\n",
    "\n",
    "wealth_record = np.array(wealth_record)"
   ]
  },
  {
   "cell_type": "code",
   "execution_count": 50,
   "id": "f19b4b05-2d0b-48bc-b152-46f6cccc7041",
   "metadata": {},
   "outputs": [],
   "source": [
    "wealth_1 = wealth_record"
   ]
  },
  {
   "cell_type": "code",
   "execution_count": 52,
   "id": "82c8f9b1-a9d0-4ccd-9b02-1ea30d82fd56",
   "metadata": {},
   "outputs": [],
   "source": [
    "def wealth(starting_wealth, num_timesteps, interest_factor):\n",
    "    def step(carry, xs):\n",
    "        current_wealth, interest_factor = carry\n",
    "        new_wealth = current_wealth * interest_factor\n",
    "        return [new_wealth, interest_factor], current_wealth\n",
    "\n",
    "    _, wealth_record = jax.lax.scan(\n",
    "        step,\n",
    "        [starting_wealth, interest_factor],\n",
    "        None,\n",
    "        num_timesteps\n",
    "    )\n",
    "    return wealth_record\n",
    "\n",
    "wealth_2 = wealth(starting_wealth, num_timesteps, interest_factor)"
   ]
  },
  {
   "cell_type": "code",
   "execution_count": 54,
   "id": "65d19fd7-661f-4d75-9af0-b748e7b0663f",
   "metadata": {},
   "outputs": [
    {
     "name": "stdout",
     "output_type": "stream",
     "text": [
      "[0. 0. 0. 0. 0. 0. 0. 0. 0. 0. 0. 0. 0. 0. 0. 0. 0. 0. 0. 0. 0. 0. 0. 0. 0. 0. 0. 0. 0. 0. 0. 0. 0.\n",
      " 0. 0. 0. 0. 0. 0. 0. 0. 0. 0. 0. 0. 0. 0. 0. 0. 0. 0. 0. 0. 0. 0. 0. 0. 0. 0. 0. 0. 0. 0. 0. 0. 0.\n",
      " 0. 0. 0. 0. 0. 0. 0. 0. 0. 0. 0. 0. 0. 0. 0. 0. 0. 0. 0. 0. 0. 0. 0. 0. 0. 0. 0. 0. 0. 0. 0. 0. 0.\n",
      " 0.]\n"
     ]
    }
   ],
   "source": [
    "print(wealth_1 - wealth_2)"
   ]
  },
  {
   "cell_type": "code",
   "execution_count": null,
   "id": "d63c31bd-43e0-48e2-afe7-83d4f1311a03",
   "metadata": {},
   "outputs": [],
   "source": []
  }
 ],
 "metadata": {
  "kernelspec": {
   "display_name": "hope-kernel",
   "language": "python",
   "name": "hope-kernel"
  },
  "language_info": {
   "codemirror_mode": {
    "name": "ipython",
    "version": 3
   },
   "file_extension": ".py",
   "mimetype": "text/x-python",
   "name": "python",
   "nbconvert_exporter": "python",
   "pygments_lexer": "ipython3",
   "version": "3.11.7"
  }
 },
 "nbformat": 4,
 "nbformat_minor": 5
}
